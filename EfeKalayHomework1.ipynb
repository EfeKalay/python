{
 "cells": [
  {
   "cell_type": "code",
   "execution_count": 2,
   "metadata": {},
   "outputs": [],
   "source": [
    "#Question 1\n",
    "def oath():\n",
    "    print(\"**** I promise that I will do this homework all my own.***\")"
   ]
  },
  {
   "cell_type": "code",
   "execution_count": 40,
   "metadata": {},
   "outputs": [],
   "source": [
    "#Question 2\n",
    "def volumeCylinder(radi,high):\n",
    "    if((type(radi) == int or type(radi) == float) and (type(radi) == int or type(radi) == float)):\n",
    "        pi = 3.14\n",
    "        volume = (radi**2)*pi*high\n",
    "        return volume\n",
    "    else: \n",
    "        return \"Error. Invalid input type!\""
   ]
  },
  {
   "cell_type": "code",
   "execution_count": 44,
   "metadata": {},
   "outputs": [],
   "source": [
    "#Question 3\n",
    "def contains(word,char):\n",
    "    \n",
    "    existence = False\n",
    "    for i in range (0,len(word)):\n",
    "        if (word[i] == str(char)):\n",
    "            existence = True     \n",
    "    return existence\n",
    "    "
   ]
  },
  {
   "cell_type": "code",
   "execution_count": 47,
   "metadata": {},
   "outputs": [],
   "source": [
    "#Question 4\n",
    "def factorial(n):\n",
    "    n = int(n)\n",
    "    if(n>0):\n",
    "        result = 1\n",
    "        for i in range(1,n+1):\n",
    "            result = result * i\n",
    "\n",
    "        return result\n",
    "    else:\n",
    "        return \"Error. Invalid input, can't be negative\""
   ]
  },
  {
   "cell_type": "code",
   "execution_count": 6,
   "metadata": {},
   "outputs": [],
   "source": [
    "#Question 5\n",
    "def distanceBetween(x1,y1,x2,y2):\n",
    "    import math as m\n",
    "    side1 = x1-x2\n",
    "    side2 = y1-y2\n",
    "    distance = m.sqrt(side1**2 + side2**2)\n",
    "    return distance"
   ]
  },
  {
   "cell_type": "code",
   "execution_count": 20,
   "metadata": {},
   "outputs": [],
   "source": [
    "#Question 6\n",
    "def shortestFinder(sentence):\n",
    "    while '  ' in sentence:\n",
    "        sentence = sentence.replace('  ', ' ')\n",
    "    words = sentence.split(' ')\n",
    "    shortest = sentence\n",
    "    listShorts = []\n",
    "    for word in words:\n",
    "        if(len(shortest) > len(word)):\n",
    "            shortest = word\n",
    "            listShorts.clear()\n",
    "            listShorts.append(shortest)\n",
    "        elif(len(shortest) == len(word)):\n",
    "            listShorts.append(word)\n",
    "        \n",
    "    return listShorts"
   ]
  },
  {
   "cell_type": "code",
   "execution_count": 8,
   "metadata": {},
   "outputs": [],
   "source": [
    "#Question 7\n",
    "def greaters(numbers,threshold):\n",
    "    selected =[]\n",
    "    for num in numbers:\n",
    "        if (num >= threshold):\n",
    "            selected.append(num)\n",
    "    return selected"
   ]
  },
  {
   "cell_type": "code",
   "execution_count": 9,
   "metadata": {},
   "outputs": [],
   "source": [
    "#Question 8\n",
    "def entityCounter(numbers,lookedUp):\n",
    "    count = 0\n",
    "    for num in numbers:\n",
    "        if (num == lookedUp):\n",
    "            count = count+1\n",
    "    return count"
   ]
  },
  {
   "cell_type": "markdown",
   "metadata": {},
   "source": [
    "# Test Block"
   ]
  },
  {
   "cell_type": "code",
   "execution_count": 49,
   "metadata": {},
   "outputs": [
    {
     "name": "stdout",
     "output_type": "stream",
     "text": [
      "**** I promise that I will do this homework all my own.***\n",
      "Error. Invalid input type!\n",
      "6.28\n",
      "True\n",
      "False\n",
      "True\n",
      "3628800\n",
      "3628800\n",
      "Error. Invalid input, can't be negative\n",
      "5.0\n",
      "['Siz', 'bir']\n",
      "[43, 56, 45, 67, 78, 90, 35]\n",
      "4\n"
     ]
    }
   ],
   "source": [
    "oath()\n",
    "\n",
    "print(volumeCylinder(\" \",2))\n",
    "print(volumeCylinder(1,2))\n",
    "\n",
    "print(contains(\"Sabanci University1\",1))\n",
    "print(contains(\"Sabanci University1\",\"u\"))\n",
    "print(contains(\"Sabanci University1\",\"U\"))\n",
    "\n",
    "print(factorial(10))\n",
    "print(factorial(\"10\"))\n",
    "print(factorial(-5))\n",
    "\n",
    "print(distanceBetween(1,1,4,5))\n",
    "\n",
    "print(shortestFinder(\"Siz  bizim bir türlü    Çekoslovakyalılaştıramadıklarımızdan mısınız?\"))\n",
    "\n",
    "print(greaters([23, 33, 12, 43, 56, 32, 45, 67, 78, 90, 35],35))\n",
    "\n",
    "print(entityCounter([33, 21, 99, 1, 33, 57, 32, 123, 55, 33, 70, 33], 33))\n",
    "\n"
   ]
  },
  {
   "cell_type": "code",
   "execution_count": null,
   "metadata": {},
   "outputs": [],
   "source": []
  }
 ],
 "metadata": {
  "kernelspec": {
   "display_name": "Python 3",
   "language": "python",
   "name": "python3"
  },
  "language_info": {
   "codemirror_mode": {
    "name": "ipython",
    "version": 3
   },
   "file_extension": ".py",
   "mimetype": "text/x-python",
   "name": "python",
   "nbconvert_exporter": "python",
   "pygments_lexer": "ipython3",
   "version": "3.8.3"
  }
 },
 "nbformat": 4,
 "nbformat_minor": 4
}
