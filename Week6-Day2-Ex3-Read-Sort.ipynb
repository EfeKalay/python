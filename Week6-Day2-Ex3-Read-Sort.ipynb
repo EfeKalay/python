{
 "cells": [
  {
   "cell_type": "code",
   "execution_count": 16,
   "metadata": {},
   "outputs": [
    {
     "name": "stdout",
     "output_type": "stream",
     "text": [
      "[1, 7, 2, 5, 9, 0, 3, 6, 4, 77, 32, 12, 43, 27]\n",
      "[0, 1, 2, 3, 4, 5, 6, 7, 9, 12, 27, 32, 43, 77]\n"
     ]
    }
   ],
   "source": [
    "import numpy as np\n",
    "def oku(dosyaAd):\n",
    "    dosya = open(dosyaAd,\"r\")\n",
    "    sayilar=[]\n",
    "    lines = dosya.readlines()\n",
    "    for line in lines:\n",
    "        numbers = line.split(\",\")\n",
    "        for number in numbers:\n",
    "            sayilar.append(int(number))\n",
    "    return sayilar\n",
    "        \n",
    "def sirala(liste):\n",
    "    return sorted(liste)\n",
    "\n",
    "def yaz(liste):\n",
    "    dosya = open(\"siraliSayilar.txt\",\"w\")\n",
    "    for sayi in liste:\n",
    "        dosya.write(str(sayi)+\"\\n\")\n",
    "    dosya.flush()\n",
    "    dosya.close()\n",
    "\n",
    "sayilar =  oku(\"sayilar.txt\")\n",
    "print(sayilar)\n",
    "siraliSayilar = sirala(sayilar)\n",
    "#siraliSayilar = list(reversed(siraliSayilar))  # ters çevirmek istersek\n",
    "print(siraliSayilar)\n",
    "yaz(siraliSayilar)"
   ]
  }
 ],
 "metadata": {
  "kernelspec": {
   "display_name": "Python 3",
   "language": "python",
   "name": "python3"
  },
  "language_info": {
   "codemirror_mode": {
    "name": "ipython",
    "version": 3
   },
   "file_extension": ".py",
   "mimetype": "text/x-python",
   "name": "python",
   "nbconvert_exporter": "python",
   "pygments_lexer": "ipython3",
   "version": "3.8.3"
  }
 },
 "nbformat": 4,
 "nbformat_minor": 4
}
