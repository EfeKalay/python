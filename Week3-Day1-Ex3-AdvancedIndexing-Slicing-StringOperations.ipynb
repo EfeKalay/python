{
 "cells": [
  {
   "cell_type": "code",
   "execution_count": 6,
   "metadata": {},
   "outputs": [
    {
     "name": "stdout",
     "output_type": "stream",
     "text": [
      "[4, 5, 6, 7, 8, 9, 10]\n",
      "[4, 5, 6, 7]\n",
      "[4, 7, 10]\n"
     ]
    }
   ],
   "source": [
    "#Bu işlemler liste ve string için geçerlidir\n",
    "numbers = [1,2,3,4,5,6,7,8,9,10]\n",
    "print(numbers[3:])\n",
    "print(numbers[3:7])\n",
    "print(numbers[3:10:3])"
   ]
  },
  {
   "cell_type": "code",
   "execution_count": 14,
   "metadata": {},
   "outputs": [
    {
     "name": "stdout",
     "output_type": "stream",
     "text": [
      "h\n",
      "hıijklmnoöp\n",
      "abcçdefghıijklmnoöprsştu\n",
      "acd\n",
      "zyvüutşsrpöonmlkjiıhgfedçcba\n"
     ]
    }
   ],
   "source": [
    "alfabe = \"abcçdefghıijklmnoöprsştuüvyz\"\n",
    "print(alfabe[8])\n",
    "print(alfabe[8:19])\n",
    "print(alfabe[:24])\n",
    "print(alfabe[:5:2])\n",
    "print(alfabe[::-1])"
   ]
  },
  {
   "cell_type": "code",
   "execution_count": 19,
   "metadata": {},
   "outputs": [
    {
     "name": "stdout",
     "output_type": "stream",
     "text": [
      "zyvüutşsrpöonmlkj\n"
     ]
    }
   ],
   "source": [
    "alfabe = \"abcçdefghıijklmnoöprsştuüvyz\"\n",
    "print(alfabe[:10:-1])"
   ]
  },
  {
   "cell_type": "code",
   "execution_count": 21,
   "metadata": {},
   "outputs": [
    {
     "name": "stdout",
     "output_type": "stream",
     "text": [
      "[49, 48, 47, 46, 45, 44, 43, 42, 41, 40, 39, 38, 37, 36, 35, 34, 33, 32, 31, 30, 29, 28, 27, 26, 25, 24, 23, 22, 21, 20, 19, 18, 17, 16, 15, 14, 13, 12, 11, 10, 9, 8, 7, 6, 5, 4, 3, 2]\n"
     ]
    }
   ],
   "source": [
    "sayilar = list( range(0,50))\n",
    "print(sayilar[:1:-1])"
   ]
  },
  {
   "cell_type": "code",
   "execution_count": 34,
   "metadata": {},
   "outputs": [
    {
     "name": "stdout",
     "output_type": "stream",
     "text": [
      "['Ali', 'Ahmet', 'Ayşe', 'Fatma', 'Mehmet', 'Elif']\n",
      "['Elif', 'Mehmet', 'Fatma', 'Ayşe', 'Ahmet', 'Ali']\n"
     ]
    }
   ],
   "source": [
    "isimler = [\"Ali\",\"Ahmet\",\"Ayşe\",\"Fatma\",\"Mehmet\",\"Elif\"]\n",
    "isimler2 = []\n",
    "baslangic=len(isimler)-1\n",
    "\n",
    "for i in range(baslangic,-1,-1):\n",
    "    isimler2.append( isimler[i] )\n",
    "    \n",
    "print(isimler)\n",
    "print(isimler2)"
   ]
  },
  {
   "cell_type": "code",
   "execution_count": 35,
   "metadata": {},
   "outputs": [
    {
     "data": {
      "text/plain": [
       "[1, 3, 5, 7, 9, 2, 4, 6, 8, 10]"
      ]
     },
     "execution_count": 35,
     "metadata": {},
     "output_type": "execute_result"
    }
   ],
   "source": [
    "x = [1,3,5,7,9]\n",
    "y = [2,4,6,8,10]\n",
    "z = [1,2,3,4,5,6,7,8,9,10]\n",
    "x+y"
   ]
  },
  {
   "cell_type": "code",
   "execution_count": 40,
   "metadata": {},
   "outputs": [
    {
     "name": "stdout",
     "output_type": "stream",
     "text": [
      "['aaa-bbb-ccc-ddddsa-das-das-asd-asd', 'asd', 'a']\n"
     ]
    }
   ],
   "source": [
    "s = \"aaa-bbb-ccc-ddddsa-das-das-asd-asd:asd:a\"\n",
    "lis = s.split(\"-\")\n",
    "print(lis)"
   ]
  },
  {
   "cell_type": "code",
   "execution_count": 42,
   "metadata": {},
   "outputs": [
    {
     "name": "stdout",
     "output_type": "stream",
     "text": [
      "Kelime sayısı :  20\n",
      "For security reasons, please log out and exit your web browser when you are done accessing services that require authentication!\n",
      "For security rexsons, plexse log out xnd exit your web browser when you xre done xccessing services thxt require xuthenticxtion!\n"
     ]
    }
   ],
   "source": [
    "s = \"For security reasons, please log out and exit your web browser when you are done accessing services that require authentication!\"\n",
    "kelimeler = s.split()\" \")\n",
    "print(\"Kelime sayısı : \",len(kelimeler))\n",
    "yeni = s.replace(\"a\",\"x\")\n",
    "print(s)\n",
    "print(yeni)"
   ]
  },
  {
   "cell_type": "code",
   "execution_count": 1,
   "metadata": {},
   "outputs": [
    {
     "data": {
      "text/plain": [
       "[0, 1, 2, 3, 4]"
      ]
     },
     "execution_count": 1,
     "metadata": {},
     "output_type": "execute_result"
    }
   ],
   "source": [
    "l = 123\n",
    "f = list ( range(5))\n",
    "f"
   ]
  },
  {
   "cell_type": "code",
   "execution_count": null,
   "metadata": {},
   "outputs": [],
   "source": []
  }
 ],
 "metadata": {
  "kernelspec": {
   "display_name": "Python 3",
   "language": "python",
   "name": "python3"
  },
  "language_info": {
   "codemirror_mode": {
    "name": "ipython",
    "version": 3
   },
   "file_extension": ".py",
   "mimetype": "text/x-python",
   "name": "python",
   "nbconvert_exporter": "python",
   "pygments_lexer": "ipython3",
   "version": "3.8.3"
  }
 },
 "nbformat": 4,
 "nbformat_minor": 4
}
