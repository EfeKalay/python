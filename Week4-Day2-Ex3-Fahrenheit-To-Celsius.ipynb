{
 "cells": [
  {
   "cell_type": "code",
   "execution_count": 12,
   "metadata": {},
   "outputs": [
    {
     "name": "stdout",
     "output_type": "stream",
     "text": [
      "file converted!\n"
     ]
    }
   ],
   "source": [
    "#°C = (°F – 32) / 1.8\n",
    "def fahrenheitToCelsius(fahrenheit):\n",
    "    celsius = (fahrenheit - 32) / 1.8\n",
    "    return \"%.1f\" % celsius\n",
    "fahrenheitToCelsius(120)\n",
    "dosyaFahrenheit = open(\"/Users/ahmetdemirelli/Desktop/Courses/2020-2021/IT501/codes/files/fahrenheit.txt\",\"r\",encoding=\"UTF-8\")\n",
    "tumSatirlar = dosyaFahrenheit.readlines()\n",
    "dosyaCelsius = open(\"files/celsius.txt\",\"w\",encoding=\"UTF-8\")\n",
    "for satir in tumSatirlar:\n",
    "    ikili = satir.split(\":\")\n",
    "    fah = int(ikili[1])\n",
    "    ulke = ikili[0]\n",
    "    cel = fahrenheitToCelsius(fah)\n",
    "    line =  ulke + \":\" +str(cel) +\"\\n\"\n",
    "    dosyaCelsius.write(line)\n",
    "    #print(ikili,fah, cel,line) #bilgi amaçlı ekrana basıyoruz   \n",
    "dosyaFahrenheit.close()\n",
    "dosyaCelsius.close()\n",
    "print(\"file converted!\")"
   ]
  },
  {
   "cell_type": "code",
   "execution_count": null,
   "metadata": {},
   "outputs": [],
   "source": []
  }
 ],
 "metadata": {
  "kernelspec": {
   "display_name": "Python 3",
   "language": "python",
   "name": "python3"
  },
  "language_info": {
   "codemirror_mode": {
    "name": "ipython",
    "version": 3
   },
   "file_extension": ".py",
   "mimetype": "text/x-python",
   "name": "python",
   "nbconvert_exporter": "python",
   "pygments_lexer": "ipython3",
   "version": "3.8.3"
  }
 },
 "nbformat": 4,
 "nbformat_minor": 4
}
