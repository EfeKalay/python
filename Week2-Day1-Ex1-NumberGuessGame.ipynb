{
 "cells": [
  {
   "cell_type": "code",
   "execution_count": 12,
   "metadata": {},
   "outputs": [
    {
     "name": "stdout",
     "output_type": "stream",
     "text": [
      "Lütfen 1. tahmininizi giriniz : 23\n",
      "Daha küçük bir sayı giriniz\n",
      "Lütfen 2. tahmininizi giriniz : 23\n",
      "Daha küçük bir sayı giriniz\n",
      "Lütfen 3. tahmininizi giriniz : 23\n",
      "Daha küçük bir sayı giriniz\n",
      "Lütfen 4. tahmininizi giriniz : 23\n",
      "Daha küçük bir sayı giriniz\n",
      "Lütfen 5. tahmininizi giriniz : 23\n",
      "5 tahmin hakkınız bitti. Maalesef kaybettiniz! Sayı :14\n"
     ]
    }
   ],
   "source": [
    "import random\n",
    "uretilenSayi = random.randint(0,100)\n",
    "#print(uretilenSayi)\n",
    "for x in range(5):\n",
    "    tahmin1 = input(\"Lütfen \" + str(x+1) + \". tahmininizi giriniz : \")\n",
    "    tahmin11Int = int(tahmin1)\n",
    "    if (uretilenSayi==tahmin11Int):\n",
    "        print(\"Tebrikler,\" +  str(x+1) + \". tahmininizde bildiniz!!!\")\n",
    "        break\n",
    "    else:\n",
    "        if (x == 4):\n",
    "            print(str(x+1) +\" tahmin hakkınız bitti. Maalesef kaybettiniz! Sayı :\" + str(uretilenSayi))\n",
    "            break\n",
    "        if (uretilenSayi<tahmin11Int):\n",
    "            print(\"Daha küçük bir sayı giriniz\")\n",
    "        else:\n",
    "            print(\"Daha büyük bir sayı giriniz\")\n",
    "        "
   ]
  },
  {
   "cell_type": "markdown",
   "metadata": {},
   "source": [
    " for x in range(5):\n",
    "    print(\"Ahmet\")"
   ]
  },
  {
   "cell_type": "code",
   "execution_count": null,
   "metadata": {},
   "outputs": [],
   "source": []
  }
 ],
 "metadata": {
  "kernelspec": {
   "display_name": "Python 3",
   "language": "python",
   "name": "python3"
  },
  "language_info": {
   "codemirror_mode": {
    "name": "ipython",
    "version": 3
   },
   "file_extension": ".py",
   "mimetype": "text/x-python",
   "name": "python",
   "nbconvert_exporter": "python",
   "pygments_lexer": "ipython3",
   "version": "3.8.3"
  }
 },
 "nbformat": 4,
 "nbformat_minor": 4
}
