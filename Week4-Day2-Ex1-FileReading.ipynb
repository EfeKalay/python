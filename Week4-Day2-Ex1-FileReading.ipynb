{
 "cells": [
  {
   "cell_type": "code",
   "execution_count": 29,
   "metadata": {
    "scrolled": true
   },
   "outputs": [
    {
     "name": "stdout",
     "output_type": "stream",
     "text": [
      "Bu dosya içerisinde :  15  tane satır vardır.\n",
      "Almanya:70\n",
      "Italya:88\n",
      "Norvec:10\n",
      "Kenya:120\n",
      "Fas:111\n",
      "Ekvator:123\n",
      "Izlanda : 0\n",
      "Ispanya:99\n",
      "Letonya:45\n",
      "Polonya:66\n",
      "Fransa:87\n",
      "Romanya:65\n",
      "Hirvatistan:78\n",
      "Finlandiya:34\n",
      "Isvec:23\n"
     ]
    }
   ],
   "source": [
    "dosya = open(\"/Users/ahmetdemirelli/Desktop/Courses/2020-2021/IT501/codes/files/fahrenheit.txt\",\"r\",encoding=\"UTF-8\")\n",
    "#satir1 = dosya.readline()\n",
    "#print(satir1)\n",
    "#satir2 = dosya.readline()\n",
    "#print(satir2)\n",
    "tumSatirlar = dosya.readlines()\n",
    "\n",
    "\n",
    "print(\"Bu dosya içerisinde : \",len(tumSatirlar),\" tane satır vardır.\")\n",
    "#print(tumSatirlar)\n",
    "\n",
    "for satir in tumSatirlar:\n",
    "    satir = satir.replace(\"\\n\",\"\")\n",
    "    print(satir)\n",
    "dosya.close()\n"
   ]
  },
  {
   "cell_type": "code",
   "execution_count": 20,
   "metadata": {},
   "outputs": [
    {
     "name": "stdout",
     "output_type": "stream",
     "text": [
      "Abc\n"
     ]
    }
   ],
   "source": [
    "s = \"Abc\\n\\n\\n\\n\\n\\n\\n\\n\\n\\n\\n\\n\\n\\n\\n\\n\\n\\n\"\n",
    "s = s.replace(\"\\n\",\"\")\n",
    "print(s)"
   ]
  },
  {
   "cell_type": "code",
   "execution_count": 24,
   "metadata": {},
   "outputs": [
    {
     "name": "stdout",
     "output_type": "stream",
     "text": [
      "a\n",
      "b\n",
      "c\n"
     ]
    }
   ],
   "source": [
    "print(\"a\")\n",
    "print(\"b\")\n",
    "print(\"c\")"
   ]
  },
  {
   "cell_type": "code",
   "execution_count": 28,
   "metadata": {},
   "outputs": [
    {
     "data": {
      "text/plain": [
       "65"
      ]
     },
     "execution_count": 28,
     "metadata": {},
     "output_type": "execute_result"
    }
   ],
   "source": [
    "ord(\"A\")"
   ]
  },
  {
   "cell_type": "code",
   "execution_count": null,
   "metadata": {},
   "outputs": [],
   "source": []
  }
 ],
 "metadata": {
  "kernelspec": {
   "display_name": "Python 3",
   "language": "python",
   "name": "python3"
  },
  "language_info": {
   "codemirror_mode": {
    "name": "ipython",
    "version": 3
   },
   "file_extension": ".py",
   "mimetype": "text/x-python",
   "name": "python",
   "nbconvert_exporter": "python",
   "pygments_lexer": "ipython3",
   "version": "3.8.3"
  }
 },
 "nbformat": 4,
 "nbformat_minor": 4
}
