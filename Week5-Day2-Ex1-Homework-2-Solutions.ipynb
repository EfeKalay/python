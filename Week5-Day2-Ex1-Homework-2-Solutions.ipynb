{
 "cells": [
  {
   "cell_type": "code",
   "execution_count": 12,
   "metadata": {},
   "outputs": [
    {
     "data": {
      "text/plain": [
       "'Uni'"
      ]
     },
     "execution_count": 12,
     "metadata": {},
     "output_type": "execute_result"
    }
   ],
   "source": [
    "#Question 1\n",
    "def getMiddleLetters(text):\n",
    "    uzunluk = len(text)\n",
    "    if(uzunluk<3):\n",
    "        return \"Length of the given string should be greater than 3\"\n",
    "    if (uzunluk%2 == 0):\n",
    "        return \"Please enter a string with odd length\"\n",
    "    baslangicNokta= int(uzunluk/2)-1\n",
    "    sonuc = \"\"\n",
    "    for x in range(baslangicNokta,baslangicNokta+3):\n",
    "        sonuc += text[x]\n",
    "    return sonuc\n",
    "txt = \"SabanciUniversity\"\n",
    "getMiddleLetters(txt)    "
   ]
  },
  {
   "cell_type": "code",
   "execution_count": 19,
   "metadata": {},
   "outputs": [
    {
     "data": {
      "text/plain": [
       "[6, 15, 24]"
      ]
     },
     "execution_count": 19,
     "metadata": {},
     "output_type": "execute_result"
    }
   ],
   "source": [
    "#Question 2\n",
    "def splitAndSum(sayilar):\n",
    "    uzunluk = len(sayilar)\n",
    "    if (uzunluk%3 != 0):\n",
    "        return \"can not be divided into 3 chunks\"\n",
    "    elemanSayisi = int(uzunluk/3)\n",
    "    toplamlar =[0,0,0]\n",
    "    for x in range(elemanSayisi):\n",
    "        toplamlar[0] += sayilar[x]\n",
    "        toplamlar[1] += sayilar[x+elemanSayisi]\n",
    "        toplamlar[2] += sayilar[x+elemanSayisi+elemanSayisi]\n",
    "    return toplamlar   \n",
    "\n",
    "n = [1,2,3,4,5,6,7,8,9]  \n",
    "#n = [1,1,1,1,2,2,2,2,3,3,3,3]\n",
    "#n = [1,2,3,4,5,6,7,8,9,10]\n",
    "splitAndSum(n)  "
   ]
  },
  {
   "cell_type": "code",
   "execution_count": 27,
   "metadata": {},
   "outputs": [
    {
     "data": {
      "text/plain": [
       "'ilA temhA penyeZ '"
      ]
     },
     "execution_count": 27,
     "metadata": {},
     "output_type": "execute_result"
    }
   ],
   "source": [
    "#Question 3 - Solution 1\n",
    "def reverseWord(word):\n",
    "    reversedWord=\"\"\n",
    "    for x in range(len(word)):\n",
    "        reversedWord += word[(len(word)-1)-x]\n",
    "    return reversedWord\n",
    "\n",
    "def reverseAllWords(sentence):\n",
    "    txt = \"\"\n",
    "    words = sentence.split(\" \")\n",
    "    for w in words:\n",
    "        txt += reverseWord(w)+\" \"\n",
    "    return txt\n",
    "\n",
    "t = \"Ali Ahmet Zeynep\"\n",
    "reverseAllWords(t)"
   ]
  },
  {
   "cell_type": "code",
   "execution_count": 28,
   "metadata": {},
   "outputs": [
    {
     "data": {
      "text/plain": [
       "'ilA temhA penyeZ '"
      ]
     },
     "execution_count": 28,
     "metadata": {},
     "output_type": "execute_result"
    }
   ],
   "source": [
    "#Question 3 - Solution 2\n",
    "def reverseAllWords(sentence):\n",
    "    txt = \"\"\n",
    "    words = sentence.split(\" \")\n",
    "    for w in words:\n",
    "        reversedWord=\"\"\n",
    "        for x in range(len(w)):\n",
    "            reversedWord += w[(len(w)-1)-x]\n",
    "        txt += reversedWord+\" \"\n",
    "    return txt\n",
    "\n",
    "t = \"Ali Ahmet Zeynep\"\n",
    "reverseAllWords(t)"
   ]
  },
  {
   "cell_type": "code",
   "execution_count": null,
   "metadata": {},
   "outputs": [],
   "source": []
  }
 ],
 "metadata": {
  "kernelspec": {
   "display_name": "Python 3",
   "language": "python",
   "name": "python3"
  },
  "language_info": {
   "codemirror_mode": {
    "name": "ipython",
    "version": 3
   },
   "file_extension": ".py",
   "mimetype": "text/x-python",
   "name": "python",
   "nbconvert_exporter": "python",
   "pygments_lexer": "ipython3",
   "version": "3.8.3"
  }
 },
 "nbformat": 4,
 "nbformat_minor": 4
}
