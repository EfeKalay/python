{
 "cells": [
  {
   "cell_type": "code",
   "execution_count": 5,
   "metadata": {},
   "outputs": [],
   "source": [
    "file = open(\"abc.txt\",\"w\",encoding=\"UTF-8\") #abc.txt dosyasını write modda aç\n",
    "file.write(\"Merhaba\\n\")\n",
    "file.write(\"Bu ikinci satır\\n\")\n",
    "file.write(\"Bu da üçüncü satır\\n\")\n",
    "file.flush()\n",
    "\n",
    "file.write(\"Bu da dördüncü satır\\n\")\n",
    "file.write(\"Bu da beşinci satır\\n\")\n",
    "file.close()"
   ]
  },
  {
   "cell_type": "code",
   "execution_count": null,
   "metadata": {},
   "outputs": [],
   "source": []
  },
  {
   "cell_type": "code",
   "execution_count": null,
   "metadata": {},
   "outputs": [],
   "source": []
  }
 ],
 "metadata": {
  "kernelspec": {
   "display_name": "Python 3",
   "language": "python",
   "name": "python3"
  },
  "language_info": {
   "codemirror_mode": {
    "name": "ipython",
    "version": 3
   },
   "file_extension": ".py",
   "mimetype": "text/x-python",
   "name": "python",
   "nbconvert_exporter": "python",
   "pygments_lexer": "ipython3",
   "version": "3.8.3"
  }
 },
 "nbformat": 4,
 "nbformat_minor": 4
}
