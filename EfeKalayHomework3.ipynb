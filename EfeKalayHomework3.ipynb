{
 "cells": [
  {
   "cell_type": "markdown",
   "metadata": {},
   "source": [
    "# Methods"
   ]
  },
  {
   "cell_type": "code",
   "execution_count": 1,
   "metadata": {},
   "outputs": [],
   "source": [
    "#Question1\n",
    "\n",
    "def isPalindrome (givenWord):\n",
    "    words = givenWord.split()\n",
    "    palindromes = []\n",
    "    for word in words:\n",
    "        wordLower = word.lower()\n",
    "        reversedWord = \"\"\n",
    "        for i in range(0,len(wordLower)):\n",
    "            reversedWord = wordLower[i]+reversedWord\n",
    "        if (wordLower == reversedWord):\n",
    "            palindromes.append(word)\n",
    "    if(len(palindromes)==0):\n",
    "        return False\n",
    "    else:\n",
    "        return True\n",
    "    "
   ]
  },
  {
   "cell_type": "code",
   "execution_count": 2,
   "metadata": {},
   "outputs": [],
   "source": [
    "#Question2\n",
    "\n",
    "def endUp(text):\n",
    "    words = text.split()\n",
    "    changedText = \"\"\n",
    "    for word in words:\n",
    "        #last = word[-1].upper()\n",
    "        word = word[0:-1] + word[-1].upper()\n",
    "        \n",
    "        changedText = changedText + \" \" + word\n",
    "    changedText = changedText[1:]\n",
    "    return changedText"
   ]
  },
  {
   "cell_type": "code",
   "execution_count": 3,
   "metadata": {},
   "outputs": [],
   "source": [
    "#Question3\n",
    "\n",
    "def longestPalindrome(text):\n",
    "    \n",
    "    words = text.split()\n",
    "    palindromes = []\n",
    "    for word in words:\n",
    "        word = word.strip(\".\")\n",
    "        wordLower = word.lower()\n",
    "        reversedWord = \"\"\n",
    "        for i in range(0,len(wordLower)):\n",
    "            reversedWord = wordLower[i]+reversedWord\n",
    "        if (wordLower == reversedWord):\n",
    "            palindromes.append(word)\n",
    "    \n",
    "    maxPalin=\"\"\n",
    "    for palindrome in palindromes:\n",
    "        if (len(maxPalin)<len(palindrome)):\n",
    "            maxPalin = palindrome\n",
    "    return maxPalin"
   ]
  },
  {
   "cell_type": "code",
   "execution_count": 4,
   "metadata": {},
   "outputs": [],
   "source": [
    "#Question4\n",
    "\n",
    "def envanterInfo(products,prices,counts):\n",
    "    for i in range(0,len(products)):\n",
    "        if(counts[i]<2):\n",
    "            print(\"We have\",str(counts[i]),products[i]+\n",
    "                  \", each one is\",str(prices[i]),\n",
    "                  \"TL and the total price is\",str(counts[i]*prices[i]),\"TL\")\n",
    "        else:\n",
    "            print(\"We have\",str(counts[i]),products[i]+\n",
    "                  \"s, each one is\",str(prices[i]),\n",
    "                  \"TL and the total price is\",str(counts[i]*prices[i]),\"TL\")"
   ]
  },
  {
   "cell_type": "code",
   "execution_count": 5,
   "metadata": {},
   "outputs": [],
   "source": [
    "#Question5\n",
    "\n",
    "def sameLetterCheck(word1,word2):\n",
    "    wordSet1 = set(word1)\n",
    "    wordSet2 = set(word2)\n",
    "      \n",
    "    if (wordSet1 == wordSet2):\n",
    "        for char in wordSet1:\n",
    "            if(word1.count(char) != word2.count(char)):\n",
    "                return False\n",
    "            \n",
    "        return True\n",
    "    else:\n",
    "        return False"
   ]
  },
  {
   "cell_type": "markdown",
   "metadata": {},
   "source": [
    "# Test Block"
   ]
  },
  {
   "cell_type": "code",
   "execution_count": 8,
   "metadata": {},
   "outputs": [
    {
     "name": "stdout",
     "output_type": "stream",
     "text": [
      "=======>(FIRST METHOD)\n",
      "\n",
      "\n",
      "True\n",
      "True\n",
      "True\n",
      "\n",
      "\n",
      "\n",
      "\n",
      "=======>(SECOND METHOD)\n",
      "\n",
      "\n",
      "evveL zamaN içindE kalbuR samaN içindE\n",
      "\n",
      "\n",
      "\n",
      "\n",
      "=======>(THIRD METHOD)\n",
      "\n",
      "\n",
      "küllük\n",
      "Adanada\n",
      "\n",
      "\n",
      "\n",
      "\n",
      "=======>(FOURTH METHOD)\n",
      "\n",
      "\n",
      "We have 3 Computers, each one is 3000 TL and the total price is 9000 TL\n",
      "We have 2 Tables, each one is 250 TL and the total price is 500 TL\n",
      "We have 8 Chairs, each one is 80 TL and the total price is 640 TL\n",
      "\n",
      "\n",
      "\n",
      "\n",
      "=======>(FIFTH METHOD)\n",
      "\n",
      "\n",
      "True\n",
      "True\n",
      "True\n",
      "False\n"
     ]
    }
   ],
   "source": [
    "print(\"=======>(FIRST METHOD)\")\n",
    "print(\"\\n\")\n",
    "print(isPalindrome (\"  Rotator\"))\n",
    "print(isPalindrome (\"Ey   Edip Adanada pide ye\"))\n",
    "print(isPalindrome (\"Otoyolda iki adet radar var ama arabada yok küllük.\"))\n",
    "print(\"\\n\")\n",
    "print(\"\\n\")\n",
    "print(\"=======>(SECOND METHOD)\")\n",
    "print(\"\\n\")\n",
    "print(endUp(\" evvel zaman içinde kalbur saman içinde\"))\n",
    "print(\"\\n\")\n",
    "print(\"\\n\")\n",
    "print(\"=======>(THIRD METHOD)\")\n",
    "print(\"\\n\")\n",
    "print(longestPalindrome(\"Otoyolda iki adet radar var ama arabada küllük yok.\"))\n",
    "print(longestPalindrome(\"Otoyolda iki adet radar var ama arabada küllük yok Adanada.\"))\n",
    "print(\"\\n\")\n",
    "print(\"\\n\")\n",
    "print(\"=======>(FOURTH METHOD)\")\n",
    "print(\"\\n\")\n",
    "envanterInfo([\"Computer\",\"Table\",\"Chair\"],[3000, 250, 80],[3,2,8])\n",
    "print(\"\\n\")\n",
    "print(\"\\n\")\n",
    "print(\"=======>(FIFTH METHOD)\")\n",
    "print(\"\\n\")\n",
    "print(sameLetterCheck(\"meta\", \"tema\"))\n",
    "print(sameLetterCheck(\"ekrem\", \"kerem\"))\n",
    "print(sameLetterCheck(\"silah\", \"ihlas\"))\n",
    "print(sameLetterCheck(\"mammut\", \"mamut\"))"
   ]
  },
  {
   "cell_type": "code",
   "execution_count": null,
   "metadata": {},
   "outputs": [],
   "source": []
  }
 ],
 "metadata": {
  "kernelspec": {
   "display_name": "Python 3",
   "language": "python",
   "name": "python3"
  },
  "language_info": {
   "codemirror_mode": {
    "name": "ipython",
    "version": 3
   },
   "file_extension": ".py",
   "mimetype": "text/x-python",
   "name": "python",
   "nbconvert_exporter": "python",
   "pygments_lexer": "ipython3",
   "version": "3.8.3"
  }
 },
 "nbformat": 4,
 "nbformat_minor": 4
}
