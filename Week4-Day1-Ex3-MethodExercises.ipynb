{
 "cells": [
  {
   "cell_type": "code",
   "execution_count": 3,
   "metadata": {},
   "outputs": [
    {
     "name": "stdout",
     "output_type": "stream",
     "text": [
      "0\n"
     ]
    }
   ],
   "source": [
    "def mutlakDeger(sayi):\n",
    "    if (sayi < 0 ):\n",
    "        sayi = -1 * sayi\n",
    "    return sayi\n",
    "\n",
    "print (mutlakDeger(0))"
   ]
  },
  {
   "cell_type": "code",
   "execution_count": 14,
   "metadata": {},
   "outputs": [
    {
     "name": "stdout",
     "output_type": "stream",
     "text": [
      "16\n"
     ]
    }
   ],
   "source": [
    "def kuvvet(x,y):\n",
    "    carpim = 1\n",
    "    for a in range(y):\n",
    "        carpim = carpim * x\n",
    "    return carpim\n",
    "      \n",
    "print(kuvvet(4,2))"
   ]
  },
  {
   "cell_type": "code",
   "execution_count": 3,
   "metadata": {},
   "outputs": [
    {
     "name": "stdout",
     "output_type": "stream",
     "text": [
      "{'Orçun': 1, 'Ahmet': 4, 'Taner': 1, 'Ali': 1, 'Gözde': 2, 'Yiğit': 3, 'Umur': 1, 'Ezgi': 2}\n"
     ]
    }
   ],
   "source": [
    "def wordCount(liste):\n",
    "    isimlerSet = set(liste)\n",
    "    isimlerDict = dict()\n",
    "    for isim in isimlerSet:\n",
    "        isimlerDict[isim] = 0\n",
    "\n",
    "    for ad in liste:\n",
    "        isimlerDict[ad] = isimlerDict[ad]+1\n",
    "    return isimlerDict \n",
    "\n",
    "\n",
    "isimlerList = [\"Ahmet\",\"Yiğit\",\"Umur\",\"Ezgi\",\"Gözde\",\"Orçun\",\n",
    "               \"Ahmet\",\"Yiğit\",\"Ahmet\",\"Yiğit\",\"Ezgi\",\"Gözde\",\n",
    "               \"Ali\",\"Taner\",\"Ahmet\"]\n",
    "\n",
    "sonuc = wordCount(isimlerList)\n",
    "print(sonuc)"
   ]
  },
  {
   "cell_type": "code",
   "execution_count": null,
   "metadata": {},
   "outputs": [],
   "source": []
  }
 ],
 "metadata": {
  "kernelspec": {
   "display_name": "Python 3",
   "language": "python",
   "name": "python3"
  }
 },
 "nbformat": 4,
 "nbformat_minor": 4
}
