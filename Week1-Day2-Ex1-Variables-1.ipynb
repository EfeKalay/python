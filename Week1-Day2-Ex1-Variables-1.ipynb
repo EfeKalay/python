{
 "cells": [
  {
   "cell_type": "code",
   "execution_count": 1,
   "metadata": {},
   "outputs": [
    {
     "name": "stdout",
     "output_type": "stream",
     "text": [
      "Yeşil başlı gövel ördek uçar gider göle karşı\n",
      "Eğricesin tel tel etmiş açar gider yele karşı\n"
     ]
    }
   ],
   "source": [
    "print('Yeşil başlı gövel ördek uçar gider göle karşı')\n",
    "print(\"Eğricesin tel tel etmiş açar gider yele karşı\")"
   ]
  },
  {
   "cell_type": "code",
   "execution_count": 2,
   "metadata": {},
   "outputs": [
    {
     "name": "stdout",
     "output_type": "stream",
     "text": [
      "300\n"
     ]
    }
   ],
   "source": [
    "#Bir Programlama diline hakim olabilmek için şu 4 maddeyi yapabiliyor olmak gerekir\n",
    "# 1) Değişkenlerin tanımlanması, kullanılması ve dönüşümü\n",
    "# 2) Kontrol yapıları ve döngüler ( if, for, while)\n",
    "# 3) Veri Yapıları (Array,List,Set,Dict)\n",
    "# 4) Metod yazma ve çağırma (kullanma)\n",
    "x = 100\n",
    "y = 200\n",
    "z = x + y\n",
    "print(z)"
   ]
  },
  {
   "cell_type": "code",
   "execution_count": 3,
   "metadata": {},
   "outputs": [
    {
     "data": {
      "text/plain": [
       "str"
      ]
     },
     "execution_count": 3,
     "metadata": {},
     "output_type": "execute_result"
    }
   ],
   "source": [
    "#Şu 3 değiken tipini (Integer, Float, String) bilmeliyiz\n",
    "tamSayi = 1211                # Integer ( Tam Sayı)\n",
    "ondalikSayi = 12.5            # Float (Ondalık Sayı)\n",
    "kelime= 'Sabanci University'  # String (Cümle veya Kelime ...)\n",
    "type(kelime)"
   ]
  },
  {
   "cell_type": "code",
   "execution_count": 4,
   "metadata": {},
   "outputs": [
    {
     "ename": "NameError",
     "evalue": "name 'a' is not defined",
     "output_type": "error",
     "traceback": [
      "\u001b[0;31m---------------------------------------------------------------------------\u001b[0m",
      "\u001b[0;31mNameError\u001b[0m                                 Traceback (most recent call last)",
      "\u001b[0;32m<ipython-input-4-71264500a223>\u001b[0m in \u001b[0;36m<module>\u001b[0;34m\u001b[0m\n\u001b[1;32m      1\u001b[0m \u001b[0mx\u001b[0m \u001b[0;34m=\u001b[0m \u001b[0;36m999\u001b[0m\u001b[0;34m\u001b[0m\u001b[0;34m\u001b[0m\u001b[0m\n\u001b[0;32m----> 2\u001b[0;31m \u001b[0mprint\u001b[0m\u001b[0;34m(\u001b[0m\u001b[0ma\u001b[0m\u001b[0;34m)\u001b[0m \u001b[0;31m# a değeri tanımlanmadığ için bu satırda hata oluşacak\u001b[0m\u001b[0;34m\u001b[0m\u001b[0;34m\u001b[0m\u001b[0m\n\u001b[0m\u001b[1;32m      3\u001b[0m \u001b[0mprint\u001b[0m\u001b[0;34m(\u001b[0m\u001b[0mx\u001b[0m\u001b[0;34m)\u001b[0m\u001b[0;34m\u001b[0m\u001b[0;34m\u001b[0m\u001b[0m\n",
      "\u001b[0;31mNameError\u001b[0m: name 'a' is not defined"
     ]
    }
   ],
   "source": [
    "x = 999\n",
    "print(a) # a değeri tanımlanmadığ için bu satırda hata oluşacak\n",
    "print(x)"
   ]
  },
  {
   "cell_type": "code",
   "execution_count": null,
   "metadata": {},
   "outputs": [],
   "source": []
  }
 ],
 "metadata": {
  "kernelspec": {
   "display_name": "Python 3",
   "language": "python",
   "name": "python3"
  },
  "language_info": {
   "codemirror_mode": {
    "name": "ipython",
    "version": 3
   },
   "file_extension": ".py",
   "mimetype": "text/x-python",
   "name": "python",
   "nbconvert_exporter": "python",
   "pygments_lexer": "ipython3",
   "version": "3.8.3"
  }
 },
 "nbformat": 4,
 "nbformat_minor": 4
}
