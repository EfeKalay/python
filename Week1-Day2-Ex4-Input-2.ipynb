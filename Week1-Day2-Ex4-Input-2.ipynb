{
 "cells": [
  {
   "cell_type": "code",
   "execution_count": 5,
   "metadata": {},
   "outputs": [
    {
     "name": "stdout",
     "output_type": "stream",
     "text": [
      "Lütfen üçgenin yüksekliğini giriniz : 34\n",
      "Lütfen üçgenin taban uzunluğunu giriniz : 12\n",
      "Üçgenin Alanı : 204.0\n"
     ]
    }
   ],
   "source": [
    "yukseklik = input(\"Lütfen üçgenin yüksekliğini giriniz : \")\n",
    "uzunluk = input(\"Lütfen üçgenin taban uzunluğunu giriniz : \")\n",
    "alan = float(yukseklik) * float(uzunluk) / 2\n",
    "print('Üçgenin Alanı : '+ str(alan))"
   ]
  },
  {
   "cell_type": "code",
   "execution_count": null,
   "metadata": {},
   "outputs": [],
   "source": []
  }
 ],
 "metadata": {
  "kernelspec": {
   "display_name": "Python 3",
   "language": "python",
   "name": "python3"
  },
  "language_info": {
   "codemirror_mode": {
    "name": "ipython",
    "version": 3
   },
   "file_extension": ".py",
   "mimetype": "text/x-python",
   "name": "python",
   "nbconvert_exporter": "python",
   "pygments_lexer": "ipython3",
   "version": "3.8.3"
  }
 },
 "nbformat": 4,
 "nbformat_minor": 4
}
