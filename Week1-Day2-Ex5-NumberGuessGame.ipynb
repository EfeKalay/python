{
 "cells": [
  {
   "cell_type": "code",
   "execution_count": 17,
   "metadata": {},
   "outputs": [
    {
     "name": "stdout",
     "output_type": "stream",
     "text": [
      "28\n",
      "Lütfen 1. tahmininizi giriniz : 1\n",
      "Lütfen daha büyük bir sayı giriniz\n"
     ]
    }
   ],
   "source": [
    "import random\n",
    "uretilenSayi = random.randint(0,100)\n",
    "print(uretilenSayi)\n",
    "tahmin1 = input(\"Lütfen 1. tahmininizi giriniz : \")\n",
    "tahmin11Int = int(tahmin1)\n",
    "if (uretilenSayi==tahmin11Int):\n",
    "    print(\"Tebrikler, kazandınız!!!\")\n",
    "else:\n",
    "    print('Bilemediniz. Kaybettiniz !!')"
   ]
  },
  {
   "cell_type": "code",
   "execution_count": null,
   "metadata": {},
   "outputs": [],
   "source": []
  }
 ],
 "metadata": {
  "kernelspec": {
   "display_name": "Python 3",
   "language": "python",
   "name": "python3"
  },
  "language_info": {
   "codemirror_mode": {
    "name": "ipython",
    "version": 3
   },
   "file_extension": ".py",
   "mimetype": "text/x-python",
   "name": "python",
   "nbconvert_exporter": "python",
   "pygments_lexer": "ipython3",
   "version": "3.8.3"
  }
 },
 "nbformat": 4,
 "nbformat_minor": 4
}
