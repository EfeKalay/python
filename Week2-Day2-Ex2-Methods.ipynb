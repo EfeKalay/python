{
 "cells": [
  {
   "cell_type": "code",
   "execution_count": 2,
   "metadata": {},
   "outputs": [
    {
     "name": "stdout",
     "output_type": "stream",
     "text": [
      "25\n"
     ]
    }
   ],
   "source": [
    "# method yazma ve kullanma\n",
    "#f(x,y) = 2x + 3y + 4\n",
    "def f(x,y) : \n",
    "    b = 2*x + 3*y + 4\n",
    "    return b\n",
    "\n",
    "sonuc = f(3,5)\n",
    "print(sonuc)"
   ]
  },
  {
   "cell_type": "code",
   "execution_count": 7,
   "metadata": {},
   "outputs": [],
   "source": [
    "#Metot tip 1 --> input : var , output :var   kullanım oranı -> %90\n",
    "#Metot tip 2 --> input : var , output :yok   kullanım oranı -> %7-8\n",
    "#Metot tip 3 --> input : yok , output :var   kullanım oranı -> %1-2\n",
    "#Metot tip 4 --> input : yok , output :yok   kullanım oranı -> %1-2"
   ]
  },
  {
   "cell_type": "code",
   "execution_count": null,
   "metadata": {},
   "outputs": [],
   "source": [
    "#Metot tip 1 --> input : var , output :var   kullanım oranı -> %90\n",
    "def ucgenAlanHesapla(yukseklik,tabanUzunluk):\n",
    "    alan = yukseklik * tabanUzunluk / 2\n",
    "    return alan\n",
    "\n",
    "area = ucgenAlanHesapla(10,12)\n",
    "print(area)"
   ]
  },
  {
   "cell_type": "code",
   "execution_count": 8,
   "metadata": {},
   "outputs": [
    {
     "name": "stdout",
     "output_type": "stream",
     "text": [
      "Hello Ahmet\n"
     ]
    }
   ],
   "source": [
    "#Metot tip 2 --> input : var , output :yok   %2-3\n",
    "def greettings(name):\n",
    "    print(\"Hello \"+name)\n",
    "h = greettings(\"Ahmet\")\n",
    "print(h)"
   ]
  },
  {
   "cell_type": "code",
   "execution_count": 13,
   "metadata": {},
   "outputs": [
    {
     "name": "stdout",
     "output_type": "stream",
     "text": [
      "3.142857142857143\n"
     ]
    }
   ],
   "source": [
    "#Metot tip 3 --> input : yok , output :var   %1-2\n",
    "def piSayisi():\n",
    "    return 22/7\n",
    "\n",
    "pi = piSayisi()\n",
    "print(pi)"
   ]
  },
  {
   "cell_type": "code",
   "execution_count": 11,
   "metadata": {},
   "outputs": [
    {
     "name": "stdout",
     "output_type": "stream",
     "text": [
      "Merhaba,\n",
      "Bu ders Python ile programlamaya giriş dersidir\n",
      "Ve hocası mükemmmmeldir\n",
      "Merhaba,\n",
      "Bu ders Python ile programlamaya giriş dersidir\n",
      "Ve hocası mükemmmmeldir\n",
      "Merhaba,\n",
      "Bu ders Python ile programlamaya giriş dersidir\n",
      "Ve hocası mükemmmmeldir\n"
     ]
    }
   ],
   "source": [
    "#Metot tip 4 --> input : yok , output :yok   kullanım oranı -> %1-2\n",
    "def baslangicMesajiGoster():\n",
    "    print(\"Merhaba,\")\n",
    "    print(\"Bu ders Python ile programlamaya giriş dersidir\")\n",
    "    print(\"Ve hocası mükemmmmeldir\")\n",
    "    \n",
    "baslangicMesajiGoster()\n",
    "\n",
    "baslangicMesajiGoster()\n",
    "\n",
    "baslangicMesajiGoster()"
   ]
  },
  {
   "cell_type": "code",
   "execution_count": 14,
   "metadata": {},
   "outputs": [
    {
     "data": {
      "text/plain": [
       "-2.7755575615628914e-17"
      ]
     },
     "execution_count": 14,
     "metadata": {},
     "output_type": "execute_result"
    }
   ],
   "source": [
    "0.3 - 0.2 - 0.1"
   ]
  },
  {
   "cell_type": "code",
   "execution_count": 15,
   "metadata": {},
   "outputs": [],
   "source": [
    "# Çalışma Ödevi\n",
    "#Soru 1 : Bir sayının mükemmel sayı mı olup olamdığını döndüren (True ve False) bir method yazınız (6 ve 28 mükemme sayıdır)\n",
    "#Soru 2 : Yukarıdaki yazmış olduğunu metodu kullanarak 0 ile 1000 arasındaki mükemmel sayıları ekrana yazdırınız"
   ]
  },
  {
   "cell_type": "code",
   "execution_count": 17,
   "metadata": {},
   "outputs": [
    {
     "ename": "TypeError",
     "evalue": "'NoneType' object is not callable",
     "output_type": "error",
     "traceback": [
      "\u001b[0;31m---------------------------------------------------------------------------\u001b[0m",
      "\u001b[0;31mTypeError\u001b[0m                                 Traceback (most recent call last)",
      "\u001b[0;32m<ipython-input-17-93e5d053bdd3>\u001b[0m in \u001b[0;36m<module>\u001b[0;34m\u001b[0m\n\u001b[1;32m      4\u001b[0m \u001b[0mprint\u001b[0m \u001b[0;34m=\u001b[0m \u001b[0ma\u001b[0m\u001b[0;34m(\u001b[0m\u001b[0;34m)\u001b[0m\u001b[0;34m\u001b[0m\u001b[0;34m\u001b[0m\u001b[0m\n\u001b[1;32m      5\u001b[0m \u001b[0;34m\u001b[0m\u001b[0m\n\u001b[0;32m----> 6\u001b[0;31m \u001b[0mprint\u001b[0m\u001b[0;34m(\u001b[0m\u001b[0;34m\"asdasd\"\u001b[0m\u001b[0;34m)\u001b[0m\u001b[0;34m\u001b[0m\u001b[0;34m\u001b[0m\u001b[0m\n\u001b[0m",
      "\u001b[0;31mTypeError\u001b[0m: 'NoneType' object is not callable"
     ]
    }
   ],
   "source": [
    "def a ():\n",
    "     x = 3 + 5\n",
    "        \n",
    "print = a()\n",
    "\n",
    "print(\"asdasd\")"
   ]
  },
  {
   "cell_type": "code",
   "execution_count": null,
   "metadata": {},
   "outputs": [],
   "source": []
  }
 ],
 "metadata": {
  "kernelspec": {
   "display_name": "Python 3",
   "language": "python",
   "name": "python3"
  },
  "language_info": {
   "codemirror_mode": {
    "name": "ipython",
    "version": 3
   },
   "file_extension": ".py",
   "mimetype": "text/x-python",
   "name": "python",
   "nbconvert_exporter": "python",
   "pygments_lexer": "ipython3",
   "version": "3.8.3"
  }
 },
 "nbformat": 4,
 "nbformat_minor": 4
}
