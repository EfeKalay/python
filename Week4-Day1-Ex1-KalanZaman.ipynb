{
 "cells": [
  {
   "cell_type": "code",
   "execution_count": 17,
   "metadata": {},
   "outputs": [
    {
     "name": "stdout",
     "output_type": "stream",
     "text": [
      "Bugün ders yok ki!!\n"
     ]
    }
   ],
   "source": [
    "#Çalıştırdığımızda dersin bitmesine kaç saat kaç dakika \n",
    "#kaldığını söyleyen method yazınız\n",
    "#Uyarı : Dersler Salı ve Cumartesi günleri farklı saatlerde bitiyor\n",
    "#Uyarı : Ders olmayan günlerde \"Bugün ders yok ki !\" bilgisini veriyor\n",
    "import datetime\n",
    "\n",
    "def it501KalanZaman():\n",
    "    suan = datetime.datetime.now()\n",
    "    gun = suan.weekday()\n",
    "    if(gun != 1 and gun != 5): #bu satırı biraz düşnelim\n",
    "        return \"Bugün ders yok ki!!\"\n",
    "    simdikiSaat = suan.hour\n",
    "    simdikiDakika = suan.minute   \n",
    "    bitisSaati = 11\n",
    "    bitisDakikasi = 59 \n",
    "    if (gun == 1): # salı günü dersin bitişi 21:59\n",
    "        bitisSaati = 21\n",
    "        bitisDakikasi = 59\n",
    "    kalanSaat = bitisSaati - simdikiSaat\n",
    "    kalanDakika = bitisDakikasi - simdikiDakika\n",
    "    return \"Dersin bitmesine : \"+str(kalanSaat)+ \\\n",
    "            \" saat \"+str(kalanDakika) + \" dakika kaldı\"\n",
    "    \n",
    "mesaj = it501KalanZaman()\n",
    "print(mesaj)"
   ]
  },
  {
   "cell_type": "code",
   "execution_count": null,
   "metadata": {},
   "outputs": [],
   "source": [
    "3**5 #yasak"
   ]
  }
 ],
 "metadata": {
  "kernelspec": {
   "display_name": "Python 3",
   "language": "python",
   "name": "python3"
  },
  "language_info": {
   "codemirror_mode": {
    "name": "ipython",
    "version": 3
   },
   "file_extension": ".py",
   "mimetype": "text/x-python",
   "name": "python",
   "nbconvert_exporter": "python",
   "pygments_lexer": "ipython3",
   "version": "3.8.3"
  }
 },
 "nbformat": 4,
 "nbformat_minor": 4
}
