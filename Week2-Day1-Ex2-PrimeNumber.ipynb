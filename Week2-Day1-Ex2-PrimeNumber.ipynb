{
 "cells": [
  {
   "cell_type": "code",
   "execution_count": 61,
   "metadata": {
    "scrolled": true
   },
   "outputs": [
    {
     "name": "stdout",
     "output_type": "stream",
     "text": [
      "Lütfen bir sayı giriniz : 35\n",
      "35 sayısı asal DEĞİLDİR !!! Tam Bölen Sayısı -->  2\n"
     ]
    }
   ],
   "source": [
    "#Bize verilen bir sayının Asal olup olmadığını söyleyen program (Tam Bölen Sayısınıda yazdırıyoruz)\n",
    "sayi = input(\"Lütfen bir sayı giriniz : \")\n",
    "sayiInt = int(sayi)\n",
    "tamBolenSayisi = 0\n",
    "for a in range(2, int(sayiInt/2)+1 ):\n",
    "    #print(str(sayiInt) +\" % \"+str(a)+\" : \" + str( sayiInt % a))\n",
    "    if ( sayiInt % a == 0 ):\n",
    "        tamBolenSayisi = tamBolenSayisi + 1\n",
    "if (tamBolenSayisi == 0):\n",
    "    print(str(sayiInt) + \" sayısı ASALDIR !!!\")\n",
    "else:\n",
    "    print(str(sayiInt) + \" sayısı asal DEĞİLDİR !!! Tam Bölen Sayısı --> \",str(tamBolenSayisi))"
   ]
  },
  {
   "cell_type": "code",
   "execution_count": null,
   "metadata": {},
   "outputs": [],
   "source": [
    "#Bize verilen bir sayının Asal olup olmadığını söyleyen program (Boolean değer kullandık)\n",
    "sayi = input(\"Lütfen bir sayı giriniz : \")\n",
    "sayiInt = int(sayi)\n",
    "tamBolenVar = False\n",
    "for a in range(2, int(sayiInt/2)+1 ):\n",
    "    #print(str(sayiInt) +\" % \"+str(a)+\" : \" + str( sayiInt % a))\n",
    "    if ( sayiInt % a == 0 ):\n",
    "        tamBolenVar = True\n",
    "        break\n",
    "        \n",
    "if ( tamBolenVar == False):\n",
    "    print(str(sayiInt) + \" sayısı ASALDIR !!!\")\n",
    "else:\n",
    "    print(str(sayiInt) + \" sayısı asal DEĞİLDİR !!! Tam Bölen Sayısı --> \",str(tamBolenSayisi))"
   ]
  },
  {
   "cell_type": "code",
   "execution_count": 54,
   "metadata": {},
   "outputs": [
    {
     "name": "stdout",
     "output_type": "stream",
     "text": [
      "Deger = FALSE\n"
     ]
    }
   ],
   "source": [
    "deger = False\n",
    "# if parantezinde kuulanılan ! (ünlem işareti)  -- değil ise --- demektir\n",
    "if ( deger ):\n",
    "    print(\"Deger = TRUE\")\n",
    "else:\n",
    "    print(\"Deger = FALSE\")"
   ]
  },
  {
   "cell_type": "code",
   "execution_count": 3,
   "metadata": {},
   "outputs": [
    {
     "name": "stdout",
     "output_type": "stream",
     "text": [
      " 1, 3 e eşit değildir\n"
     ]
    }
   ],
   "source": [
    "if ( 1 == 3 ):\n",
    "    print(\" 1, 3 e eşittir\")\n",
    "else:\n",
    "    print(\" 1, 3 e eşit değildir\")"
   ]
  },
  {
   "cell_type": "code",
   "execution_count": 60,
   "metadata": {},
   "outputs": [
    {
     "data": {
      "text/plain": [
       "bool"
      ]
     },
     "execution_count": 60,
     "metadata": {},
     "output_type": "execute_result"
    }
   ],
   "source": [
    "deger = False\n",
    "type(deger)"
   ]
  },
  {
   "cell_type": "code",
   "execution_count": null,
   "metadata": {},
   "outputs": [],
   "source": []
  }
 ],
 "metadata": {
  "kernelspec": {
   "display_name": "Python 3",
   "language": "python",
   "name": "python3"
  },
  "language_info": {
   "codemirror_mode": {
    "name": "ipython",
    "version": 3
   },
   "file_extension": ".py",
   "mimetype": "text/x-python",
   "name": "python",
   "nbconvert_exporter": "python",
   "pygments_lexer": "ipython3",
   "version": "3.8.3"
  }
 },
 "nbformat": 4,
 "nbformat_minor": 4
}
