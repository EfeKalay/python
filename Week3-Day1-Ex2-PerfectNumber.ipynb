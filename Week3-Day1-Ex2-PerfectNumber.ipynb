{
 "cells": [
  {
   "cell_type": "code",
   "execution_count": 6,
   "metadata": {},
   "outputs": [
    {
     "name": "stdout",
     "output_type": "stream",
     "text": [
      "6\n",
      "28\n",
      "496\n",
      "8128\n"
     ]
    }
   ],
   "source": [
    "def isPerfectNumber(number): \n",
    "    bolenleriToplami = 0\n",
    "    yarisininBirFazlasi = int(number/2) + 1\n",
    "    for x in range(1,yarisininBirFazlasi):\n",
    "        if (number%x==0):\n",
    "            bolenleriToplami = bolenleriToplami + x\n",
    "    if (bolenleriToplami == number ):\n",
    "        return True\n",
    "    else:\n",
    "        return False\n",
    "\n",
    "for a in range(1,10000):\n",
    "    if ( isPerfectNumber(a) ):\n",
    "        print(a)"
   ]
  },
  {
   "cell_type": "code",
   "execution_count": null,
   "metadata": {},
   "outputs": [],
   "source": [
    "def isPerfectNumber(number): \n",
    "    bolenleriToplami = 0\n",
    "    yarisininBirFazlasi = int(number/2) + 1\n",
    "    for x in range(1,yarisininBirFazlasi):\n",
    "        if (number%x==0):\n",
    "            bolenleriToplami = bolenleriToplami + x\n",
    "    return (bolenleriToplami == number )\n",
    "\n",
    "for a in range(1,10000):\n",
    "    if ( isPerfectNumber(a) ):\n",
    "        print(a)"
   ]
  },
  {
   "cell_type": "code",
   "execution_count": 5,
   "metadata": {},
   "outputs": [
    {
     "name": "stdout",
     "output_type": "stream",
     "text": [
      "True\n",
      "False\n"
     ]
    }
   ],
   "source": [
    "print( 3 == 3)\n",
    "print( 3 == 4)"
   ]
  },
  {
   "cell_type": "code",
   "execution_count": null,
   "metadata": {},
   "outputs": [],
   "source": [
    "#Bu örnekte iki problemi aynı anda çözdük ama \n",
    "#her defasında tek problem çözmek daha iyidir\n",
    "def isPerfectNumber(number): \n",
    "    bolenler = []\n",
    "    yarisininBirFazlasi = int(number/2) + 1\n",
    "    for x in range(1,yarisininBirFazlasi):\n",
    "        if (number%x==0):\n",
    "            bolenler.append(x) \n",
    "    return   ( sum(bolenler) == number ) , bolenler )\n",
    "\n",
    "for a in range(1,10000):\n",
    "    sonuc = isPerfectNumber(a)\n",
    "    if ( sonuc[0] ):\n",
    "        print(a,\" -> Perfect Number -> \",sonuc)\n",
    "    if ( sum(sonuc[1]) == 1 ):\n",
    "        print(a,\" -> Prime Number --> \",sonuc)"
   ]
  },
  {
   "cell_type": "code",
   "execution_count": 7,
   "metadata": {},
   "outputs": [
    {
     "name": "stdout",
     "output_type": "stream",
     "text": [
      "55\n"
     ]
    }
   ],
   "source": [
    "liste = [1,2,3,4,5,6,7,8,9,10]\n",
    "\n",
    "print ( sum(liste) )"
   ]
  },
  {
   "cell_type": "code",
   "execution_count": 16,
   "metadata": {},
   "outputs": [
    {
     "name": "stdout",
     "output_type": "stream",
     "text": [
      "[6, 5, 4, 3, 2]\n"
     ]
    }
   ],
   "source": [
    "s = [2,3,4,5,6]\n",
    "s.reverse() \n",
    "print (s)"
   ]
  },
  {
   "cell_type": "code",
   "execution_count": 17,
   "metadata": {},
   "outputs": [
    {
     "data": {
      "text/plain": [
       "[2, 3, 4, 5, 6]"
      ]
     },
     "execution_count": 17,
     "metadata": {},
     "output_type": "execute_result"
    }
   ],
   "source": [
    "s[::-1]"
   ]
  },
  {
   "cell_type": "code",
   "execution_count": null,
   "metadata": {},
   "outputs": [],
   "source": []
  }
 ],
 "metadata": {
  "kernelspec": {
   "display_name": "Python 3",
   "language": "python",
   "name": "python3"
  },
  "language_info": {
   "codemirror_mode": {
    "name": "ipython",
    "version": 3
   },
   "file_extension": ".py",
   "mimetype": "text/x-python",
   "name": "python",
   "nbconvert_exporter": "python",
   "pygments_lexer": "ipython3",
   "version": "3.8.3"
  }
 },
 "nbformat": 4,
 "nbformat_minor": 4
}
