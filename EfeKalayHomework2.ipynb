{
 "cells": [
  {
   "cell_type": "markdown",
   "metadata": {},
   "source": [
    "# Assigned Methods"
   ]
  },
  {
   "cell_type": "code",
   "execution_count": 4,
   "metadata": {},
   "outputs": [],
   "source": [
    "#Question 1\n",
    "\n",
    "def midChars(text):\n",
    "    length = len(text)\n",
    "    if(length<3):\n",
    "        return \"Length of the given string should be greater than 3\"\n",
    "    if(length%2 == 0):\n",
    "        return \"Please enter a string with odd length\"\n",
    "    else:\n",
    "        mid3 = text[int((length-1)/2-1) : int((length-1)/2+2)]\n",
    "        return mid3"
   ]
  },
  {
   "cell_type": "code",
   "execution_count": 5,
   "metadata": {},
   "outputs": [],
   "source": [
    "#Question 2\n",
    "\n",
    "def splitAndCalculateSums(numbers):\n",
    "    if (len(numbers)%3==0):\n",
    "        n = int(len(numbers)/3)\n",
    "        firstTrio = numbers[:n]\n",
    "        secondTrio = numbers[n:2*n]\n",
    "        lastTrio = numbers[2*n:]\n",
    "        firstTrioSum = 0\n",
    "        secondTrioSum = 0\n",
    "        lastTrioSum = 0\n",
    "        for i in range(0,n):\n",
    "            \n",
    "            firstTrioSum = firstTrioSum + firstTrio[i]\n",
    "            secondTrioSum = secondTrioSum + secondTrio[i]\n",
    "            lastTrioSum = lastTrioSum + lastTrio[i]\n",
    "        \n",
    "        return firstTrioSum,secondTrioSum,lastTrioSum\n",
    "    else:\n",
    "        message = \"can not be divided into 3 chunks\"\n",
    "        return message\n"
   ]
  },
  {
   "cell_type": "code",
   "execution_count": 6,
   "metadata": {},
   "outputs": [],
   "source": [
    "#Question 3\n",
    "\n",
    "def reverseWords(words):\n",
    "    words = words.split(\" \")\n",
    "    reversedWords = \"\"\n",
    "    for word in words:\n",
    "        reversedWord = \"\"\n",
    "        for i in range(0,len(word)):\n",
    "            reversedWord = word[i]+reversedWord\n",
    "        reversedWords = reversedWords + \" \" + reversedWord\n",
    "    reversedWords = reversedWords[1:]   \n",
    "    return reversedWords"
   ]
  },
  {
   "cell_type": "markdown",
   "metadata": {},
   "source": [
    "# Test Block"
   ]
  },
  {
   "cell_type": "code",
   "execution_count": 7,
   "metadata": {},
   "outputs": [
    {
     "name": "stdout",
     "output_type": "stream",
     "text": [
      "ram\n",
      "eat\n",
      "Please enter a string with odd length\n",
      "Length of the given string should be greater than 3\n",
      "\n",
      "\n",
      "(6, 15, 24)\n",
      "(4, 8, 12)\n",
      "can not be divided into 3 chunks\n",
      "\n",
      "\n",
      "ilA temhA penyeZ\n",
      "cba fed\n"
     ]
    }
   ],
   "source": [
    "print(midChars(\"programming\"))\n",
    "print(midChars(\"eat\"))\n",
    "print(midChars(\"hola\"))\n",
    "print(midChars(\"hi\"))\n",
    "print(\"\\n\")\n",
    "\n",
    "print(splitAndCalculateSums([1,2,3,4,5,6,7,8,9]))\n",
    "print(splitAndCalculateSums([1,1,1,1,2,2,2,2,3,3,3,3]))\n",
    "print(splitAndCalculateSums([1,2,3,4,5,6,7,8,9,10]))\n",
    "print(\"\\n\")\n",
    "\n",
    "print(reverseWords(\"Ali Ahmet Zeynep\"))\n",
    "print(reverseWords(\"abc def\"))"
   ]
  },
  {
   "cell_type": "code",
   "execution_count": null,
   "metadata": {},
   "outputs": [],
   "source": []
  }
 ],
 "metadata": {
  "kernelspec": {
   "display_name": "Python 3",
   "language": "python",
   "name": "python3"
  },
  "language_info": {
   "codemirror_mode": {
    "name": "ipython",
    "version": 3
   },
   "file_extension": ".py",
   "mimetype": "text/x-python",
   "name": "python",
   "nbconvert_exporter": "python",
   "pygments_lexer": "ipython3",
   "version": "3.8.3"
  }
 },
 "nbformat": 4,
 "nbformat_minor": 4
}
