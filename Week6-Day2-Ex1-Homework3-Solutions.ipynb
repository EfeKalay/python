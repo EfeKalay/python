{
 "cells": [
  {
   "cell_type": "code",
   "execution_count": 12,
   "metadata": {},
   "outputs": [
    {
     "name": "stdout",
     "output_type": "stream",
     "text": [
      "True\n",
      "True\n",
      "ytisrevinÜ ıcnabaS\n",
      "True\n",
      "True\n"
     ]
    }
   ],
   "source": [
    "#Question 1 - Solution 1\n",
    "def isPalindrome1 (word):\n",
    "    word = word.lower()\n",
    "    reverseWord = word[::-1]\n",
    "    if (word == reverseWord):\n",
    "        return True\n",
    "    return False\n",
    "\n",
    "print( isPalindrome1(\"Rotator\") )\n",
    "print( isPalindrome1(\"Ey Edip Adanada pide ye\") )\n",
    "\n",
    "#Question 1 - Solution 2\n",
    "def reverse(word):\n",
    "    result=\"\"\n",
    "    for x in range(len(word)):\n",
    "        result += word[len(word)-1 - x]\n",
    "    return result\n",
    "\n",
    "print( reverse(\"Sabancı Üniversity\") )\n",
    "\n",
    "def isPalindrome1 (word):\n",
    "    word = word.lower()\n",
    "    reverseWord = reverse(word)\n",
    "    if (word == reverseWord):\n",
    "        return True\n",
    "    return False\n",
    "\n",
    "print( isPalindrome1(\"Rotator\") )\n",
    "print( isPalindrome1(\"Ey Edip Adanada pide ye\") )"
   ]
  },
  {
   "cell_type": "code",
   "execution_count": 17,
   "metadata": {},
   "outputs": [
    {
     "name": "stdout",
     "output_type": "stream",
     "text": [
      "evveL zamaN içindE kalbuR samaN içindE\n"
     ]
    }
   ],
   "source": [
    "#Question 2 - Solution 1\n",
    "def lastLetterToUppercase(text):\n",
    "    words = text.split(\" \")\n",
    "    result=\"\"\n",
    "    for word in words:\n",
    "        result += word[:-1] + word[-1].upper()+ \" \"\n",
    "    return result.strip()\n",
    "\n",
    "print( lastLetterToUppercase(\"evvel zaman içinde kalbur saman içinde\" ) )"
   ]
  },
  {
   "cell_type": "code",
   "execution_count": 16,
   "metadata": {},
   "outputs": [
    {
     "data": {
      "text/plain": [
       "'AhmeT'"
      ]
     },
     "execution_count": 16,
     "metadata": {},
     "output_type": "execute_result"
    }
   ],
   "source": [
    "a = \"Ahmet\"\n",
    "a[:-1] + a[-1].upper()"
   ]
  },
  {
   "cell_type": "code",
   "execution_count": 26,
   "metadata": {},
   "outputs": [
    {
     "name": "stdout",
     "output_type": "stream",
     "text": [
      "rototor\n"
     ]
    }
   ],
   "source": [
    "#Question 3 - Solution 1\n",
    "def isPalindrome1 (word):\n",
    "    word = word.lower()\n",
    "    reverseWord = word[::-1]\n",
    "    if (word == reverseWord):\n",
    "        return True\n",
    "    return False\n",
    "\n",
    "def findLongestPalindrome(text):\n",
    "    words  = text.split(\" \")\n",
    "    longest = \"\"\n",
    "    for word in words:\n",
    "        word = word.strip()\n",
    "        isPalin = isPalindrome1(word)\n",
    "        if (isPalin):\n",
    "            if(len(longest)<=len(word)):\n",
    "                longest = word\n",
    "    return longest\n",
    "\n",
    "print  ( findLongestPalindrome(\"Otoyolda   Rotator iki adet radar var ama arabada küllük yok radar rototor küllük\"))    "
   ]
  },
  {
   "cell_type": "code",
   "execution_count": 40,
   "metadata": {},
   "outputs": [
    {
     "name": "stdout",
     "output_type": "stream",
     "text": [
      "-------------------------------Solution 1-----------------------------------\n",
      "We have 3 Computers, each one is 3000 TL and the total price is 9000 TL\n",
      "We have 2 Tables, each one is 250 TL and the total price is 500 TL\n",
      "We have 8 Chairs, each one is 80 TL and the total price is 640 TL\n",
      "-------------------------------Solution 2-----------------------------------\n",
      "We have 3 Computers, each one is 3000 TL and the total price is 9000 TL\n",
      "We have 2 Tables, each one is 250 TL and the total price is 500 TL\n",
      "We have 8 Chairs, each one is 80 TL and the total price is 640 TL\n",
      "\n"
     ]
    }
   ],
   "source": [
    "#Question 4 - Solution 1\n",
    "\n",
    "def printInfo1(products,prices,counts):\n",
    "    for i in range(len(products)):\n",
    "        print(\"We have \"+ str( counts[i] ) +\" \"+products[i]+\"s, each one is \"+str(prices[i])\n",
    "              +\" TL and the total price is \"+str ( counts[i]*prices[i] ) +\" TL\")\n",
    "        \n",
    "products = [\"Computer\",\"Table\",\"Chair\"] \n",
    "prices = [3000, 250, 80]\n",
    "counts = [3, 2, 8]\n",
    "print(\"-------------------------------Solution 1-----------------------------------\")\n",
    "printInfo1(products,prices,counts)\n",
    "\n",
    "#Question 4 - Solution 1\n",
    "def getInfo(products,prices,counts):\n",
    "    result =\"\"\n",
    "    for i in range(len(products)):\n",
    "        result += \"We have \"+ str( counts[i] ) +\" \"+products[i]+\"s, each one is \"+str(prices[i])+\" TL and the total price is \"+str ( counts[i]*prices[i] ) +\" TL\\n\"\n",
    "    return result\n",
    "print(\"-------------------------------Solution 2-----------------------------------\")\n",
    "sonuc = getInfo(products,prices,counts)\n",
    "print (sonuc)"
   ]
  },
  {
   "cell_type": "code",
   "execution_count": 65,
   "metadata": {},
   "outputs": [
    {
     "name": "stdout",
     "output_type": "stream",
     "text": [
      "True\n",
      "True\n",
      "True\n",
      "False\n",
      "Silinen :  m  -- kalan  ['a', 'm', 'u', 't']\n",
      "Silinen :  a  -- kalan  ['m', 'u', 't']\n",
      "Silinen :  m  -- kalan  ['u', 't']\n",
      "Silinen :  u  -- kalan  ['t']\n",
      "Silinen :  t  -- kalan  []\n",
      "True\n"
     ]
    }
   ],
   "source": [
    "#Question 5 - Solution 1\n",
    "def sameLetterCheck1 (word1, word2):\n",
    "    if (sorted(word1) == sorted(word2)):\n",
    "        return True\n",
    "    else:\n",
    "        return False\n",
    "    \n",
    "print (  sameLetterCheck(\"meta\", \"tema\") ) \n",
    "print (  sameLetterCheck(\"ekrem\", \"kerem\") )\n",
    "print (  sameLetterCheck(\"silah\", \"ihlas\") )\n",
    "print (  sameLetterCheck(\"maamut\", \"mammut\") )\n",
    "\n",
    "\n",
    "#Question 5 - Solution 2\n",
    "def sameLetterCheck2 (word1, word2):\n",
    "    if (len(word1) != len(word2)):\n",
    "        return False\n",
    "    harfler1 = list(word1)\n",
    "    harfler2 = list(word2)\n",
    "    for harf1 in harfler1:\n",
    "        if harf1 in harfler2:\n",
    "            harfler2.remove(harf1)\n",
    "        print(\"Silinen : \",harf1, \" -- kalan \",harfler2)\n",
    "    if(len(harfler2)==0):\n",
    "        return True\n",
    "    else:\n",
    "        return False\n",
    "        \n",
    "print (  sameLetterCheck2(\"maamut\", \"mammut\") )        "
   ]
  },
  {
   "cell_type": "code",
   "execution_count": 67,
   "metadata": {},
   "outputs": [
    {
     "data": {
      "text/plain": [
       "False"
      ]
     },
     "execution_count": 67,
     "metadata": {},
     "output_type": "execute_result"
    }
   ],
   "source": [
    "def sameLetterCheck(word1,word2):\n",
    "    wordSet1 = set(word1)\n",
    "    wordSet2 = set(word2)\n",
    "    if (wordSet1 == wordSet2):\n",
    "        for char in wordSet1:\n",
    "            if(word1.count(char) != word2.count(char)):\n",
    "                return False\n",
    "            return True\n",
    "        else:\n",
    "            return False\n",
    "sameLetterCheck(\"maamut\", \"mammut\")"
   ]
  },
  {
   "cell_type": "code",
   "execution_count": 70,
   "metadata": {},
   "outputs": [
    {
     "name": "stdout",
     "output_type": "stream",
     "text": [
      "['3.4' '5.5' '8.8']\n",
      "[3.4 5.5 8.8]\n"
     ]
    }
   ],
   "source": [
    "#Numpy Type Conversion\n",
    "a = [\"3.4\",\"5.5\",\"8.8\"]\n",
    "npA= np.array(a)\n",
    "print(npA)\n",
    "npA = npA.astype(\"float\")\n",
    "print(npA)"
   ]
  },
  {
   "cell_type": "code",
   "execution_count": 73,
   "metadata": {},
   "outputs": [
    {
     "name": "stdout",
     "output_type": "stream",
     "text": [
      "[[0 1 2]\n",
      " [3 4 5]\n",
      " [6 7 8]]\n",
      "['2' '5' '8']\n"
     ]
    }
   ],
   "source": [
    "import numpy as np\n",
    "x = np.arange(0,9).reshape(3,3)\n",
    "print(x)\n",
    "print ( x[:,2].astype(\"str\") )"
   ]
  },
  {
   "cell_type": "code",
   "execution_count": null,
   "metadata": {},
   "outputs": [],
   "source": []
  }
 ],
 "metadata": {
  "kernelspec": {
   "display_name": "Python 3",
   "language": "python",
   "name": "python3"
  },
  "language_info": {
   "codemirror_mode": {
    "name": "ipython",
    "version": 3
   },
   "file_extension": ".py",
   "mimetype": "text/x-python",
   "name": "python",
   "nbconvert_exporter": "python",
   "pygments_lexer": "ipython3",
   "version": "3.8.3"
  }
 },
 "nbformat": 4,
 "nbformat_minor": 4
}
