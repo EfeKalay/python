{
 "cells": [
  {
   "cell_type": "code",
   "execution_count": 15,
   "metadata": {},
   "outputs": [
    {
     "name": "stdout",
     "output_type": "stream",
     "text": [
      "Lütfen isminizi giriniz : Ebru\n",
      "Merhaba Ebru\n",
      "İsminizin baş harfi : E\n",
      "İsminizin son harfi : u\n",
      "İsminizin orta harfi : r\n"
     ]
    }
   ],
   "source": [
    "isim = input('Lütfen isminizi giriniz : ')\n",
    "mesaj = \"Merhaba \" + isim\n",
    "textUzunluk = len(isim)\n",
    "ortaIndex = int(textUzunluk / 2)\n",
    "print(mesaj)\n",
    "print('İsminizin baş harfi : '+isim[0])              #Index numarası ile istediğimiz harfi alabiliriz\n",
    "print('İsminizin son harfi : '+isim[textUzunluk-1])\n",
    "print('İsminizin orta harfi : '+isim[ortaIndex])"
   ]
  },
  {
   "cell_type": "code",
   "execution_count": 10,
   "metadata": {},
   "outputs": [
    {
     "data": {
      "text/plain": [
       "2"
      ]
     },
     "execution_count": 10,
     "metadata": {},
     "output_type": "execute_result"
    }
   ],
   "source": []
  },
  {
   "cell_type": "code",
   "execution_count": null,
   "metadata": {},
   "outputs": [],
   "source": []
  }
 ],
 "metadata": {
  "kernelspec": {
   "display_name": "Python 3",
   "language": "python",
   "name": "python3"
  },
  "language_info": {
   "codemirror_mode": {
    "name": "ipython",
    "version": 3
   },
   "file_extension": ".py",
   "mimetype": "text/x-python",
   "name": "python",
   "nbconvert_exporter": "python",
   "pygments_lexer": "ipython3",
   "version": "3.8.3"
  }
 },
 "nbformat": 4,
 "nbformat_minor": 4
}
