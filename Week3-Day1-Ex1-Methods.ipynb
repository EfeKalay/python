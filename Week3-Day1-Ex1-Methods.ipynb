{
 "cells": [
  {
   "cell_type": "code",
   "execution_count": 1,
   "metadata": {},
   "outputs": [
    {
     "name": "stdout",
     "output_type": "stream",
     "text": [
      "Lütfen isminizi giriniz : Ahmet\n",
      "Hello Ahmet, Nasılsın ?\n"
     ]
    }
   ],
   "source": [
    "#Type 1 method\n",
    "def greetings1(name):\n",
    "    return \"Hello \"+name  \n",
    "\n",
    "def halHatirSor(name):\n",
    "    mesaj = greetings1(name)\n",
    "    return mesaj + \", Nasılsın ?\"\n",
    "\n",
    "\n",
    "isim = input(\"Lütfen isminizi giriniz : \")\n",
    "h = halHatirSor(isim)\n",
    "print(h)"
   ]
  },
  {
   "cell_type": "code",
   "execution_count": null,
   "metadata": {},
   "outputs": [],
   "source": [
    "#Type 2 Method\n",
    "def greetings2(name):\n",
    "    print(\"Hello \"+name) \n",
    "isim = input(\"Lütfen isminizi giriniz : \")\n",
    "greetings2(isim)"
   ]
  },
  {
   "cell_type": "code",
   "execution_count": null,
   "metadata": {},
   "outputs": [],
   "source": [
    "#Type 3 Method\n",
    "def greetings3():\n",
    "    name = input(\"Lütfen isminizi giriniz : \")\n",
    "    return \"Hello \"+name  \n",
    "h = greetings3()\n",
    "print(h)"
   ]
  },
  {
   "cell_type": "code",
   "execution_count": null,
   "metadata": {},
   "outputs": [],
   "source": [
    "#Type 4 Method\n",
    "def greettings3():\n",
    "    name = input(\"Lütfen isminizi giriniz : \")\n",
    "    print(\"Hello \"+name) \n",
    "greettings()"
   ]
  }
 ],
 "metadata": {
  "kernelspec": {
   "display_name": "Python 3",
   "language": "python",
   "name": "python3"
  },
  "language_info": {
   "codemirror_mode": {
    "name": "ipython",
    "version": 3
   },
   "file_extension": ".py",
   "mimetype": "text/x-python",
   "name": "python",
   "nbconvert_exporter": "python",
   "pygments_lexer": "ipython3",
   "version": "3.8.3"
  }
 },
 "nbformat": 4,
 "nbformat_minor": 4
}
