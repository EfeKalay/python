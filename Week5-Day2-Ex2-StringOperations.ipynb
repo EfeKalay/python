{
 "cells": [
  {
   "cell_type": "code",
   "execution_count": 6,
   "metadata": {},
   "outputs": [
    {
     "name": "stdout",
     "output_type": "stream",
     "text": [
      "\tahmet\t                      demirelli\n"
     ]
    }
   ],
   "source": [
    "#strip --> bir text in başındaki ve sonundaki boşlukların \n",
    "#(tab işareti ile konulan boşluklar dahil) hepsini siler\n",
    "isim = \"\\tahmet\\t                      \"\n",
    "isim = isim.strip()\n",
    "print(isim+\"demirelli\")"
   ]
  },
  {
   "cell_type": "code",
   "execution_count": 7,
   "metadata": {},
   "outputs": [
    {
     "data": {
      "text/plain": [
       "['a', 'b', 'c', 'd', 'e', 'f', 'g', 'h', 'i']"
      ]
     },
     "execution_count": 7,
     "metadata": {},
     "output_type": "execute_result"
    }
   ],
   "source": [
    "#split --> bir text i belirtilen ayıraç ile parçalara bölüp liste geri döndürür\n",
    "txt = \"a:b:c:d:e:f:g:h:i\"\n",
    "txt.split(\":\")"
   ]
  },
  {
   "cell_type": "code",
   "execution_count": 14,
   "metadata": {},
   "outputs": [
    {
     "name": "stdout",
     "output_type": "stream",
     "text": [
      "SxbxnciAAA University\n",
      "ciAAA University\n"
     ]
    }
   ],
   "source": [
    "#replace --> bir karakter (karakter dizisi) ile başka bir karakteri(karakter dizisini) değişrimek için kullanılır\n",
    "\n",
    "txt = \"SabanciAAA University\"\n",
    "yeni = txt.replace(\"a\",\"x\")\n",
    "print(yeni)\n",
    "y = yeni.replace(\"Sxbxn\",\"\")\n",
    "print(y)"
   ]
  },
  {
   "cell_type": "code",
   "execution_count": 44,
   "metadata": {},
   "outputs": [
    {
     "name": "stdout",
     "output_type": "stream",
     "text": [
      "['Ali', 'Veli', 'Ayşe', 've', 'Hasan', 'okula', 'geldiler']\n"
     ]
    }
   ],
   "source": [
    "txt= \"Ali, Veli, Ayşe ve Hasan okula geldiler\"\n",
    "txt = txt.replace(\",\",\"\") #virgülden kurtulmaya çalışıyoruz\n",
    "print ( txt.split(\" \") )"
   ]
  },
  {
   "cell_type": "code",
   "execution_count": 21,
   "metadata": {},
   "outputs": [
    {
     "name": "stdout",
     "output_type": "stream",
     "text": [
      "dijital kampüs ş ğ ı ç ö\n",
      "DIJITAL KAMPÜS Ş Ğ I Ç Ö\n"
     ]
    }
   ],
   "source": [
    "#lower, upper --> txt i büyük harf e veya küçük harfe dönüştürür\n",
    "txt = \"Dijital kampüs ş ğ ı Ç Ö\"\n",
    "print( txt.lower())\n",
    "print( txt.upper())"
   ]
  },
  {
   "cell_type": "code",
   "execution_count": 41,
   "metadata": {},
   "outputs": [
    {
     "name": "stdout",
     "output_type": "stream",
     "text": [
      "cd\n"
     ]
    }
   ],
   "source": [
    "txt = \"abcdefghdsdad\"\n",
    "print( txt[2:4] )"
   ]
  },
  {
   "cell_type": "code",
   "execution_count": 42,
   "metadata": {},
   "outputs": [
    {
     "name": "stdout",
     "output_type": "stream",
     "text": [
      "True\n"
     ]
    }
   ],
   "source": [
    "print ( \"ab\" in txt) # bir har bir kelime içerisinde var mı kontrolünü bu şekilde yapıyoruz"
   ]
  },
  {
   "cell_type": "code",
   "execution_count": 43,
   "metadata": {},
   "outputs": [
    {
     "name": "stdout",
     "output_type": "stream",
     "text": [
      "3\n"
     ]
    }
   ],
   "source": [
    "#index --> verilen harfin (veya harf dizisinin) hangi indexte olduğunu döndürür\n",
    "#verilen harf birden fazla yerde varsa ilk bulduğu index numarasını döndürür\n",
    "print(txt.index(\"d\"))"
   ]
  },
  {
   "cell_type": "code",
   "execution_count": 31,
   "metadata": {},
   "outputs": [
    {
     "name": "stdout",
     "output_type": "stream",
     "text": [
      "True\n",
      "False\n"
     ]
    }
   ],
   "source": [
    "#startswith, endswith\n",
    "isim1 = \"Sercan\"\n",
    "print ( isim1.startswith(\"S\") )\n",
    "isim2 = \"Orhun\"\n",
    "print (isim2.endswith(\"a\"))"
   ]
  },
  {
   "cell_type": "code",
   "execution_count": 45,
   "metadata": {},
   "outputs": [
    {
     "name": "stdout",
     "output_type": "stream",
     "text": [
      "['S', 't', 'r', 'i', 'n', 'g', 'O', 'p', 'e', 'r', 'a', 't', 'i', 'o', 'n', 's']\n",
      "S-t-r-i-n-g-O-p-e-r-a-t-i-o-n-s\n"
     ]
    }
   ],
   "source": [
    "txt = \"StringOperations\"\n",
    "harfList = list(txt)\n",
    "print(harfList)\n",
    "t = \"-\".join(harfList)\n",
    "print(t)"
   ]
  },
  {
   "cell_type": "code",
   "execution_count": null,
   "metadata": {},
   "outputs": [],
   "source": []
  }
 ],
 "metadata": {
  "kernelspec": {
   "display_name": "Python 3",
   "language": "python",
   "name": "python3"
  },
  "language_info": {
   "codemirror_mode": {
    "name": "ipython",
    "version": 3
   },
   "file_extension": ".py",
   "mimetype": "text/x-python",
   "name": "python",
   "nbconvert_exporter": "python",
   "pygments_lexer": "ipython3",
   "version": "3.8.3"
  }
 },
 "nbformat": 4,
 "nbformat_minor": 4
}
