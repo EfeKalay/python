{
 "cells": [
  {
   "cell_type": "code",
   "execution_count": 19,
   "metadata": {},
   "outputs": [],
   "source": [
    "#Çalıştırdığımızda dersin bitmesine kaç saat kaç dakika \n",
    "#kaldığını söyleyen method yazınız\n",
    "#Uyarı : Dersler Salı ve Cumartesi günleri farklı saatlerde bitiyor\n",
    "#Uyarı : Ders olmayan günlerde \"Bugün ders yok ki !\" bilgisini veriyor\n",
    "import datetime\n",
    "def kalanZaman():\n",
    "    simdi = datetime.datetime.now()\n",
    "    gunler =[\"Pazartesi\",\"Salı\",\"Çarşamba\",\n",
    "             \"Perşembe\",\"Cuma\",\"Cumartesi\",\"Pazar\"]\n",
    "    gunIndex = simdi.weekday()\n",
    "    mesaj = \"Bugün günlerden \"+gunler[gunIndex]\n",
    "    bitisSaati = 21\n",
    "    if (gunIndex == 5 or gunIndex == 1):\n",
    "        if(gunIndex==5):\n",
    "            bitisSaati = 11\n",
    "    else:\n",
    "        mesaj = mesaj + \" bugün ders yok ki!\"\n",
    "    mesaj =  mesaj +\"\\nDersin bitmesine : \" + str(bitisSaati - simdi.hour) + \" saat \" + str(60 - simdi.minute) + \" dakika var!\"\n",
    "    if ( (bitisSaati - simdi.hour ) < 1 and (60 - simdi.minute)<5):\n",
    "        mesaj += \"\\nTOPARLANMAYA BAŞLAYALIM!!\"\n",
    "    return mesaj"
   ]
  },
  {
   "cell_type": "code",
   "execution_count": 17,
   "metadata": {},
   "outputs": [
    {
     "data": {
      "text/plain": [
       "'Bugün günlerden Salı\\nDersin bitmesine : 0 saat 2 dakika var!\\nTOPARLANMAYA BAŞLAYALIM!!'"
      ]
     },
     "execution_count": 17,
     "metadata": {},
     "output_type": "execute_result"
    }
   ],
   "source": [
    "kalanZaman()"
   ]
  },
  {
   "cell_type": "code",
   "execution_count": null,
   "metadata": {},
   "outputs": [],
   "source": []
  }
 ],
 "metadata": {
  "kernelspec": {
   "display_name": "Python 3",
   "language": "python",
   "name": "python3"
  },
  "language_info": {
   "codemirror_mode": {
    "name": "ipython",
    "version": 3
   },
   "file_extension": ".py",
   "mimetype": "text/x-python",
   "name": "python",
   "nbconvert_exporter": "python",
   "pygments_lexer": "ipython3",
   "version": "3.8.3"
  }
 },
 "nbformat": 4,
 "nbformat_minor": 4
}
