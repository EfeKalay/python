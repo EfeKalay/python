{
 "cells": [
  {
   "cell_type": "code",
   "execution_count": 1,
   "metadata": {},
   "outputs": [
    {
     "name": "stdout",
     "output_type": "stream",
     "text": [
      "11\n"
     ]
    }
   ],
   "source": [
    "#list\n",
    "#tuple\n",
    "#set\n",
    "#dict\n",
    "sayilar = [11,23,54,14,67,87,99,13]\n",
    "isimler = [\"Ahmet\",\"Ali\",\"Veli\",\"Ayşe\",\"Deniz\"]\n",
    "ortayaKarisik = [123, \"Hasan\",\"Eymen\",\"Ece\",345, 56.4, 190000000]\n",
    "\n",
    "print(sayilar[0])  # index \n",
    "isimler[0]"
   ]
  },
  {
   "cell_type": "code",
   "execution_count": 2,
   "metadata": {},
   "outputs": [
    {
     "name": "stdout",
     "output_type": "stream",
     "text": [
      "Deniz\n"
     ]
    }
   ],
   "source": [
    "print(isimler[4])"
   ]
  },
  {
   "cell_type": "code",
   "execution_count": 3,
   "metadata": {},
   "outputs": [
    {
     "name": "stdout",
     "output_type": "stream",
     "text": [
      "Deniz\n"
     ]
    }
   ],
   "source": [
    "print(isimler[-1])"
   ]
  },
  {
   "cell_type": "code",
   "execution_count": 6,
   "metadata": {},
   "outputs": [
    {
     "name": "stdout",
     "output_type": "stream",
     "text": [
      "5\n"
     ]
    },
    {
     "ename": "IndexError",
     "evalue": "list index out of range",
     "output_type": "error",
     "traceback": [
      "\u001b[0;31m---------------------------------------------------------------------------\u001b[0m",
      "\u001b[0;31mIndexError\u001b[0m                                Traceback (most recent call last)",
      "\u001b[0;32m<ipython-input-6-ac7d0d8bff6c>\u001b[0m in \u001b[0;36m<module>\u001b[0;34m\u001b[0m\n\u001b[1;32m      1\u001b[0m \u001b[0mprint\u001b[0m\u001b[0;34m(\u001b[0m\u001b[0mlen\u001b[0m\u001b[0;34m(\u001b[0m\u001b[0misimler\u001b[0m\u001b[0;34m)\u001b[0m\u001b[0;34m)\u001b[0m\u001b[0;34m\u001b[0m\u001b[0;34m\u001b[0m\u001b[0m\n\u001b[0;32m----> 2\u001b[0;31m \u001b[0mprint\u001b[0m\u001b[0;34m(\u001b[0m\u001b[0misimler\u001b[0m\u001b[0;34m[\u001b[0m\u001b[0;36m5\u001b[0m\u001b[0;34m]\u001b[0m\u001b[0;34m)\u001b[0m\u001b[0;34m\u001b[0m\u001b[0;34m\u001b[0m\u001b[0m\n\u001b[0m",
      "\u001b[0;31mIndexError\u001b[0m: list index out of range"
     ]
    }
   ],
   "source": [
    "print(len(isimler))\n",
    "print(isimler[5])"
   ]
  },
  {
   "cell_type": "code",
   "execution_count": 10,
   "metadata": {},
   "outputs": [
    {
     "name": "stdout",
     "output_type": "stream",
     "text": [
      "['Ahmet', 'Ali', 'Veli', 'Ayşe', 'Deniz']\n",
      "Ahmet\n",
      "Ali\n",
      "Veli\n",
      "Ayşe\n",
      "Deniz\n"
     ]
    }
   ],
   "source": [
    "print(isimler)\n",
    "for isim in isimler:\n",
    "    print(isim)"
   ]
  },
  {
   "cell_type": "code",
   "execution_count": 11,
   "metadata": {},
   "outputs": [
    {
     "name": "stdout",
     "output_type": "stream",
     "text": [
      "Ahmet\n",
      "Ali\n",
      "Veli\n",
      "Ayşe\n",
      "Deniz\n"
     ]
    }
   ],
   "source": [
    "#Aşağıdaki 10 satırlık kod for yukarıdaki döngüsünün nasıl çalıştığını anlatmak için yazıldı  \n",
    "isim = isimler[0]\n",
    "print(isim)\n",
    "isim = isimler[1]\n",
    "print(isim)\n",
    "isim = isimler[2]\n",
    "print(isim)\n",
    "isim = isimler[3]\n",
    "print(isim)\n",
    "isim = isimler[4]\n",
    "print(isim)"
   ]
  },
  {
   "cell_type": "code",
   "execution_count": 15,
   "metadata": {},
   "outputs": [
    {
     "name": "stdout",
     "output_type": "stream",
     "text": [
      "['Ahmet', 'Ali', 'Ayşe', 'Deniz', 'Mahmut', 'Mahmut', 'Mahmut', 'Mahmut']\n"
     ]
    }
   ],
   "source": [
    "isimler.append(\"Mahmut\")\n",
    "isimler.append(\"Mahmut\")\n",
    "isimler.append(\"Mahmut\")\n",
    "print(isimler)"
   ]
  },
  {
   "cell_type": "code",
   "execution_count": 14,
   "metadata": {},
   "outputs": [
    {
     "name": "stdout",
     "output_type": "stream",
     "text": [
      "['Ahmet', 'Ali', 'Ayşe', 'Deniz', 'Mahmut']\n"
     ]
    }
   ],
   "source": [
    "isimler.remove(\"Veli\")\n",
    "print(isimler)"
   ]
  },
  {
   "cell_type": "code",
   "execution_count": 16,
   "metadata": {},
   "outputs": [
    {
     "name": "stdout",
     "output_type": "stream",
     "text": [
      "['Aaa', 'Bbb', 'Ddd', 'Ccc', 'Ccc', 'Eee']\n"
     ]
    }
   ],
   "source": [
    "isimler = [\"Aaa\",\"Bbb\",\"Ccc\",\"Ddd\",\"Ccc\",\"Ccc\",\"Eee\"]\n",
    "\n",
    "isimler.remove(\"Ccc\")\n",
    "print(isimler)"
   ]
  },
  {
   "cell_type": "code",
   "execution_count": 17,
   "metadata": {},
   "outputs": [
    {
     "name": "stdout",
     "output_type": "stream",
     "text": [
      "[]\n"
     ]
    }
   ],
   "source": [
    "isimler.clear()\n",
    "print(isimler)"
   ]
  },
  {
   "cell_type": "code",
   "execution_count": 23,
   "metadata": {},
   "outputs": [
    {
     "name": "stdout",
     "output_type": "stream",
     "text": [
      "['Aaa', 'Bbb', 'Ccc']\n",
      "['Aaa', 'Bbb', 'Ccc', 'Fff']\n"
     ]
    }
   ],
   "source": [
    "isimler = [\"Aaa\",\"Bbb\",\"Ccc\"]\n",
    "print(isimler)\n",
    "isimler.insert(3,\"Fff\")\n",
    "print(isimler)"
   ]
  },
  {
   "cell_type": "code",
   "execution_count": 35,
   "metadata": {},
   "outputs": [
    {
     "name": "stdout",
     "output_type": "stream",
     "text": [
      "['a', 'b', 'c', 'x', 'y', 'z']\n",
      "['ABC', 'b', 'c', 'x', 'y', 'z']\n"
     ]
    }
   ],
   "source": [
    "harfler1 = [\"a\",\"b\",\"c\"]\n",
    "harfler2 = [\"x\",\"y\",\"z\"]\n",
    "\n",
    "son = harfler1 + harfler2\n",
    "print(son)\n",
    "son[0] = \"ABC\"\n",
    "print(son)"
   ]
  },
  {
   "cell_type": "code",
   "execution_count": 27,
   "metadata": {},
   "outputs": [],
   "source": [
    "#list --> Özellikleri\n",
    "#listeye istediğimiz kadar eleman ekleyebiliyoruz\n",
    "#listeden eleman silebiliyoruz\n",
    "#listeye bir elemanı iki veya daha fazla defa ekleyebiliyoruz"
   ]
  },
  {
   "cell_type": "code",
   "execution_count": 1,
   "metadata": {},
   "outputs": [
    {
     "name": "stdout",
     "output_type": "stream",
     "text": [
      "(1, 2, 3, 4)\n",
      "<class 'tuple'>\n",
      "(1, 2, 3, 4, 3)\n"
     ]
    }
   ],
   "source": [
    "#tuple   (immutable)\n",
    "t = (1,2,3,4)\n",
    "print(t)\n",
    "print ( type(t) )\n",
    "\n",
    "#t.append(5)  # yeni eleman eklenemez\n",
    "#t[0] = 100   # eleman değiştirilemez\n",
    "#t.remove(3)  # eleman çıkartılamaz\n",
    "yeniListe = list(t)\n",
    "yeniListe.append(3)\n",
    "nT = tuple(yeniListe)\n",
    "print( nT )"
   ]
  },
  {
   "cell_type": "code",
   "execution_count": 38,
   "metadata": {},
   "outputs": [],
   "source": [
    "# tuple --> Özellikler\n",
    "# yeni eleman eklenemez\n",
    "# eleman değiştirilemez\n",
    "# eleman çıkartılamaz"
   ]
  },
  {
   "cell_type": "code",
   "execution_count": 47,
   "metadata": {},
   "outputs": [
    {
     "name": "stdout",
     "output_type": "stream",
     "text": [
      "{1, 2, 3, 4, 5, 6}\n",
      "{1, 2, 3, 4, 5, 6, 10, 12, -1}\n",
      "{1, 2, 3, 4, 5, 10, 12, -1}\n",
      "1\n",
      "2\n",
      "3\n",
      "4\n",
      "5\n",
      "10\n",
      "12\n",
      "-1\n"
     ]
    },
    {
     "ename": "TypeError",
     "evalue": "'set' object does not support item assignment",
     "output_type": "error",
     "traceback": [
      "\u001b[0;31m---------------------------------------------------------------------------\u001b[0m",
      "\u001b[0;31mTypeError\u001b[0m                                 Traceback (most recent call last)",
      "\u001b[0;32m<ipython-input-47-39cffd87d8d4>\u001b[0m in \u001b[0;36m<module>\u001b[0;34m\u001b[0m\n\u001b[1;32m     12\u001b[0m \u001b[0;32mfor\u001b[0m \u001b[0ma\u001b[0m \u001b[0;32min\u001b[0m \u001b[0ms\u001b[0m \u001b[0;34m:\u001b[0m\u001b[0;34m\u001b[0m\u001b[0;34m\u001b[0m\u001b[0m\n\u001b[1;32m     13\u001b[0m     \u001b[0mprint\u001b[0m\u001b[0;34m(\u001b[0m\u001b[0ma\u001b[0m\u001b[0;34m)\u001b[0m\u001b[0;34m\u001b[0m\u001b[0;34m\u001b[0m\u001b[0m\n\u001b[0;32m---> 14\u001b[0;31m \u001b[0ms\u001b[0m\u001b[0;34m[\u001b[0m\u001b[0;36m3\u001b[0m\u001b[0;34m]\u001b[0m \u001b[0;34m=\u001b[0m \u001b[0;36m100\u001b[0m\u001b[0;34m\u001b[0m\u001b[0;34m\u001b[0m\u001b[0m\n\u001b[0m",
      "\u001b[0;31mTypeError\u001b[0m: 'set' object does not support item assignment"
     ]
    }
   ],
   "source": [
    "#set\n",
    "s = {1,2,3,4,5,6,6,6,6,6,6,6,6}\n",
    "print(s)\n",
    "s.add(1)  #Aynı eleman iki defa eklenemez\n",
    "s.add(10)\n",
    "s.add(12)\n",
    "s.add(-1) #sonuna eleman eklenebilir\n",
    "print(s)\n",
    "s.remove(6)\n",
    "print(s)\n",
    "\n",
    "for a in s :\n",
    "    print(a)\n",
    "s[3] = 100"
   ]
  },
  {
   "cell_type": "code",
   "execution_count": 48,
   "metadata": {},
   "outputs": [],
   "source": [
    "#set --> özellikler\n",
    "#eleman eklenebilir\n",
    "#eleman silinebilir\n",
    "#tüm elemanlar tekil (unique) dir yani bir eleman iki defa yer almaz"
   ]
  },
  {
   "cell_type": "code",
   "execution_count": 54,
   "metadata": {},
   "outputs": [
    {
     "name": "stdout",
     "output_type": "stream",
     "text": [
      "elma\n",
      "apple  -->  elma\n",
      "banana  -->  muz\n",
      "pear  -->  armut\n",
      "{'apple': 'elma', 'banana': 'muz', 'pear': 'armut', 'pineapple': 'ananas'}\n",
      "elma\n",
      "muz\n",
      "armut\n",
      "ananas\n"
     ]
    }
   ],
   "source": [
    "#dict\n",
    "\n",
    "d = {\n",
    "       \"apple\" : \"elma\",\n",
    "       \"banana\" : \"muz\",\n",
    "       \"pear\" : \"armut\" \n",
    "    }\n",
    "print( d[\"apple\"] )\n",
    "\n",
    "for key in d.keys():\n",
    "    print(key,\" --> \", d[key])\n",
    "       \n",
    "d[\"pineapple\"] = \"ananas\"\n",
    "\n",
    "print(d)\n",
    "\n",
    "\n",
    "for val in d.values():\n",
    "    print(val)"
   ]
  },
  {
   "cell_type": "code",
   "execution_count": 56,
   "metadata": {},
   "outputs": [
    {
     "name": "stdout",
     "output_type": "stream",
     "text": [
      "{'apple': 'elma', 'banana': 'muz', 'pear': 'armut', 'pineapple': 'ananas'}\n",
      "{'apple': 'elma', 'banana': 'muz', 'pineapple': 'ananas'}\n"
     ]
    }
   ],
   "source": [
    "print(d)\n",
    "d.pop(\"pear\")\n",
    "print(d)"
   ]
  },
  {
   "cell_type": "code",
   "execution_count": 58,
   "metadata": {},
   "outputs": [
    {
     "name": "stdout",
     "output_type": "stream",
     "text": [
      "{'manzana': 'apple', 'muz': 'banana', 'ananas': 'pineapple'}\n"
     ]
    }
   ],
   "source": [
    "d[\"apple\"] = \"manzana\"\n",
    "d2 = {}\n",
    "for key in d.keys():\n",
    "    d2[d[key]] = key    # d2[\"elma\"] = \"apple\"\n",
    "print(d2)"
   ]
  },
  {
   "cell_type": "code",
   "execution_count": 59,
   "metadata": {},
   "outputs": [
    {
     "data": {
      "text/plain": [
       "'\\nkey = \"apple\"\\nd2[ d[key] ] --> d2[ d[\"apple\"] ]  --> d2 [\"elma\"] \\nd2[\"elma\"] = \"apple\"\\n\\nkey = \"banana\"\\nd2[ d[key] ] --> d2[ d[\"banana\"] ]  --> d2 [\"muz\"] \\nd2[\"muz\"] = \"banana\"\\n\\n\\nkey = \"pineapple\"\\nd2[ d[key] ] --> d2[ d[\"pineapple\"] ]  --> d2 [\"ananas\"] \\nd2[\"ananas\"] = \"pineapple\"\\n'"
      ]
     },
     "execution_count": 59,
     "metadata": {},
     "output_type": "execute_result"
    }
   ],
   "source": [
    "#yukarıdaki for döngüsünün açık şekli şudur;\n",
    "'''\n",
    "key = \"apple\"\n",
    "d2[ d[key] ] --> d2[ d[\"apple\"] ]  --> d2 [\"elma\"] \n",
    "d2[\"elma\"] = \"apple\"\n",
    "\n",
    "key = \"banana\"\n",
    "d2[ d[key] ] --> d2[ d[\"banana\"] ]  --> d2 [\"muz\"] \n",
    "d2[\"muz\"] = \"banana\"\n",
    "\n",
    "\n",
    "key = \"pineapple\"\n",
    "d2[ d[key] ] --> d2[ d[\"pineapple\"] ]  --> d2 [\"ananas\"] \n",
    "d2[\"ananas\"] = \"pineapple\"\n",
    "'''\n"
   ]
  },
  {
   "cell_type": "code",
   "execution_count": 64,
   "metadata": {},
   "outputs": [
    {
     "name": "stdout",
     "output_type": "stream",
     "text": [
      "{12, 13, 14}\n"
     ]
    }
   ],
   "source": [
    "g = set()\n",
    "g.add(12)\n",
    "g.add(13)\n",
    "g.add(14)\n",
    "print(g)"
   ]
  },
  {
   "cell_type": "code",
   "execution_count": 65,
   "metadata": {},
   "outputs": [],
   "source": [
    "a = list()\n",
    "b = set()\n",
    "t = tuple()\n",
    "y = dict()\n"
   ]
  },
  {
   "cell_type": "code",
   "execution_count": null,
   "metadata": {},
   "outputs": [],
   "source": []
  }
 ],
 "metadata": {
  "kernelspec": {
   "display_name": "Python 3",
   "language": "python",
   "name": "python3"
  },
  "language_info": {
   "codemirror_mode": {
    "name": "ipython",
    "version": 3
   },
   "file_extension": ".py",
   "mimetype": "text/x-python",
   "name": "python",
   "nbconvert_exporter": "python",
   "pygments_lexer": "ipython3",
   "version": "3.8.3"
  }
 },
 "nbformat": 4,
 "nbformat_minor": 4
}
