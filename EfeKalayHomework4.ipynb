{
 "cells": [
  {
   "cell_type": "markdown",
   "metadata": {},
   "source": [
    "# Methods"
   ]
  },
  {
   "cell_type": "code",
   "execution_count": 2,
   "metadata": {},
   "outputs": [],
   "source": [
    "#Question 1)\n",
    "\n",
    "def countPalindrome (path):\n",
    "    file = open(path,\"r\",encoding=\"UTF-8\")\n",
    "    lines = file. readlines()\n",
    "    palindromes = list()\n",
    "    for line in lines:\n",
    "        words = line.split()\n",
    "        for word in words:\n",
    "            wordLower = word.lower()\n",
    "            reversedWord = wordLower[::-1]\n",
    "            if (wordLower == reversedWord):\n",
    "                palindromes.append(word)           \n",
    "    file.close()\n",
    "    if(len(palindromes)==0):\n",
    "        return \"No palindrome in file.\"\n",
    "    else:\n",
    "        return len(palindromes)"
   ]
  },
  {
   "cell_type": "code",
   "execution_count": 3,
   "metadata": {},
   "outputs": [],
   "source": [
    "#Question 2)\n",
    "\n",
    "def distinctWords(path):\n",
    "    file = open(path,\"r\",encoding=\"UTF-8\")\n",
    "    lines = file. readlines()\n",
    "    wordSet = set()\n",
    "    for line in lines:\n",
    "        words = line.split()\n",
    "        for word in words:\n",
    "            wordSet.add(word)\n",
    "    file.close()\n",
    "    return wordSet"
   ]
  },
  {
   "cell_type": "code",
   "execution_count": 13,
   "metadata": {},
   "outputs": [],
   "source": [
    "#Question 3)\n",
    "\n",
    "def translator(readPath,writePath):\n",
    "    turEng = {\"elma\" : \"apple\",\n",
    "              \"muz\" : \"banana\",\n",
    "              \"armut\" : \"pear\",\n",
    "              \"şeftali\" : \"peach\",\n",
    "              \"ananas\" : \"pineapple\",\n",
    "              \"kayısı\" : \"apricot\",\n",
    "              \"portakal\" : \"orange\",\n",
    "              \"karpuz\" : \"watermelon\",\n",
    "              \"nar\" : \"pomegranate\",\n",
    "              \"üzüm\" : \"grape\" }\n",
    "    \n",
    "    fileRead = open(readPath,\"r\",encoding=\"UTF-8\")\n",
    "    fileWrite =  open(writePath,\"w\",encoding=\"UTF-8\")\n",
    "    lines = fileRead. readlines()\n",
    "    for line in lines:\n",
    "        transLine = line\n",
    "        words = line.replace(\",\", \"\").split()\n",
    "        for word in words:\n",
    "            trans = turEng[word]\n",
    "            transLine = transLine.replace(word, trans)\n",
    "            #print(trans)\n",
    "        print(transLine)\n",
    "        fileWrite.write(transLine)\n",
    "        \n",
    "    #print(\"Translation has been complited.\")\n",
    "    fileRead.close()\n",
    "    fileWrite.close()\n",
    "    "
   ]
  },
  {
   "cell_type": "code",
   "execution_count": 19,
   "metadata": {},
   "outputs": [
    {
     "data": {
      "image/png": "[encoded data removed]",
      "text/plain": [
       "<Figure size 432x288 with 1 Axes>"
      ]
     },
     "metadata": {
      "needs_background": "light"
     },
     "output_type": "display_data"
    }
   ],
   "source": [
    "#Question 4)\n",
    "\n",
    "import numpy as np\n",
    "import matplotlib.pyplot as plt\n",
    "def dailyRateGraf(filePath):\n",
    "    dailyRate = np.loadtxt(filePath,dtype=\"str\",delimiter = \"\\t\")\n",
    "    dates = np.arange(len(dailyRate[:,0]))\n",
    "    rates = np.char.replace (dailyRate[:,1], ',', '.')\n",
    "    rates = rates.astype('float')\n",
    "    plt.title(\"Daily exchange rate\") \n",
    "    plt.xlabel(dailyRate[:,0][0]+\" to \"+dailyRate[:,0][-1]) \n",
    "    plt.ylabel(\"USD/TL\")\n",
    "    plt.scatter(dates,rates)\n",
    "    plt.show()\n",
    "\n",
    "\n",
    "    \n",
    "dailyRateGraf(\"dolar.txt\")"
   ]
  },
  {
   "cell_type": "markdown",
   "metadata": {},
   "source": [
    "# Test Block"
   ]
  },
  {
   "cell_type": "code",
   "execution_count": 6,
   "metadata": {},
   "outputs": [
    {
     "data": {
      "text/plain": [
       "20"
      ]
     },
     "execution_count": 6,
     "metadata": {},
     "output_type": "execute_result"
    }
   ],
   "source": [
    "countPalindrome (\"palindromes.txt\")"
   ]
  },
  {
   "cell_type": "code",
   "execution_count": 7,
   "metadata": {},
   "outputs": [
    {
     "data": {
      "text/plain": [
       "{'ananas',\n",
       " 'armut',\n",
       " 'elma',\n",
       " 'karpuz',\n",
       " 'kayısı',\n",
       " 'muz',\n",
       " 'nar',\n",
       " 'portakal',\n",
       " 'üzüm',\n",
       " 'şeftali'}"
      ]
     },
     "execution_count": 7,
     "metadata": {},
     "output_type": "execute_result"
    }
   ],
   "source": [
    "distinctWords(\"meyveler.txt\")"
   ]
  },
  {
   "cell_type": "code",
   "execution_count": 14,
   "metadata": {},
   "outputs": [
    {
     "name": "stdout",
     "output_type": "stream",
     "text": [
      "apple, pear, peach, banana,\n",
      "\n",
      "pineapple, apricot, peach,\n",
      "\n",
      "orange, pear, pomegranate, banana,\n",
      "\n",
      "apricot, grape, pineapple, apple,\n",
      "\n",
      "watermelon, pomegranate, banana, peach,\n",
      "\n",
      "pear, pineapple, orange, pomegranate\n"
     ]
    }
   ],
   "source": [
    "translator(\"turkish.txt\",\"english.txt\")"
   ]
  },
  {
   "cell_type": "code",
   "execution_count": 9,
   "metadata": {},
   "outputs": [
    {
     "data": {
      "image/png": "[encoded data removed]",
      "text/plain": [
       "<Figure size 432x288 with 1 Axes>"
      ]
     },
     "metadata": {
      "needs_background": "light"
     },
     "output_type": "display_data"
    }
   ],
   "source": [
    "dailyRateGraf(\"dolar.txt\")"
   ]
  },
  {
   "cell_type": "code",
   "execution_count": null,
   "metadata": {},
   "outputs": [],
   "source": []
  }
 ],
 "metadata": {
  "kernelspec": {
   "display_name": "Python 3",
   "language": "python",
   "name": "python3"
  },
  "language_info": {
   "codemirror_mode": {
    "name": "ipython",
    "version": 3
   },
   "file_extension": ".py",
   "mimetype": "text/x-python",
   "name": "python",
   "nbconvert_exporter": "python",
   "pygments_lexer": "ipython3",
   "version": "3.8.3"
  }
 },
 "nbformat": 4,
 "nbformat_minor": 4
}
