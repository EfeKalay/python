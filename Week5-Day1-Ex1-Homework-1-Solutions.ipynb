{
 "cells": [
  {
   "cell_type": "code",
   "execution_count": 7,
   "metadata": {},
   "outputs": [
    {
     "name": "stdout",
     "output_type": "stream",
     "text": [
      "**** I promise that I will do this homework all my own.***\n"
     ]
    }
   ],
   "source": [
    "#Question 1\n",
    "def printInfo():\n",
    "    print(\"**** I promise that I will do this homework all my own.***\")\n",
    "\n",
    "printInfo()"
   ]
  },
  {
   "cell_type": "code",
   "execution_count": 8,
   "metadata": {},
   "outputs": [
    {
     "name": "stdout",
     "output_type": "stream",
     "text": [
      "628.0\n"
     ]
    }
   ],
   "source": [
    "#Question 2\n",
    "def calculateVolume(radius,height):\n",
    "    pi = 3.14\n",
    "    #p * r *r\n",
    "    area = pi * (radius **2) * height\n",
    "    return area\n",
    "\n",
    "v = calculateVolume(5,8)\n",
    "print(v)"
   ]
  },
  {
   "cell_type": "code",
   "execution_count": 18,
   "metadata": {},
   "outputs": [
    {
     "data": {
      "text/plain": [
       "False"
      ]
     },
     "execution_count": 18,
     "metadata": {},
     "output_type": "execute_result"
    }
   ],
   "source": [
    "#Question 3\n",
    "def checkLetter(cumle,aranan):\n",
    "    for harf in cumle:\n",
    "        if ( harf == aranan ):\n",
    "            #print(\"Harf \", harf , \" Sonuc : True \")\n",
    "            return True\n",
    "        #print(\"Harf \", harf , \" Sonuc : False \")\n",
    "    return False\n",
    "        \n",
    "checkLetter(\"Sabanci University\" , \"x\") "
   ]
  },
  {
   "cell_type": "code",
   "execution_count": 22,
   "metadata": {},
   "outputs": [
    {
     "data": {
      "text/plain": [
       "3628800"
      ]
     },
     "execution_count": 22,
     "metadata": {},
     "output_type": "execute_result"
    }
   ],
   "source": [
    "#Question 4\n",
    "def factorial(sayi):\n",
    "    carpim = 1\n",
    "    for x in range(1,sayi+1):\n",
    "        carpim = carpim * x\n",
    "        #print(\"Iteration \", x , \" Carpim : \",carpim)\n",
    "    return carpim\n",
    "\n",
    "factorial(10)"
   ]
  },
  {
   "cell_type": "code",
   "execution_count": 23,
   "metadata": {},
   "outputs": [
    {
     "data": {
      "text/plain": [
       "5.0"
      ]
     },
     "execution_count": 23,
     "metadata": {},
     "output_type": "execute_result"
    }
   ],
   "source": [
    "#Question 5\n",
    "def calculatedistance(x1,y1,x2,y2):\n",
    "    c = (x2-x1) * (x2-x1) + (y2-y1) * (y2-y1)\n",
    "    distance = c ** 0.5\n",
    "    return distance\n",
    "\n",
    "calculatedistance(1,1,4,5)"
   ]
  },
  {
   "cell_type": "code",
   "execution_count": 33,
   "metadata": {},
   "outputs": [
    {
     "data": {
      "text/plain": [
       "['Siz', 'ab?']"
      ]
     },
     "execution_count": 33,
     "metadata": {},
     "output_type": "execute_result"
    }
   ],
   "source": [
    "#Question 6\n",
    "def findShortestWord(sentence):\n",
    "    shortestWord = \"aaaaaasdadadasdaslkjdhaskjdhaskjdhaskjdhaskjd\"\n",
    "    words = sentence.split()\n",
    "    for word in words:\n",
    "        if ( len(word) < len(shortestWord) ):\n",
    "            shortestWord = word\n",
    "    kelimeler = []\n",
    "    #bu kısım ekstra\n",
    "    for word in words:\n",
    "        if (len(word) ==  len(shortestWord)):\n",
    "            kelimeler.append(word)\n",
    "    return kelimeler\n",
    "\n",
    "c = \"Siz bizim         Çekoslovakyalılaştıramadıklarımızdan mısınız? ab?\"\n",
    "\n",
    "findShortestWord(c)"
   ]
  },
  {
   "cell_type": "code",
   "execution_count": 34,
   "metadata": {},
   "outputs": [
    {
     "data": {
      "text/plain": [
       "[43, 56, 45, 67, 78, 90, 35]"
      ]
     },
     "execution_count": 34,
     "metadata": {},
     "output_type": "execute_result"
    }
   ],
   "source": [
    "#Question 7\n",
    "#given array -> [23, 33, 12, 43, 56, 32, 45, 67, 78, 90, 35] \n",
    "#given number -> 35\n",
    "#result array should be -> [43,56,45,67,78,90,35]\n",
    "\n",
    "def findGreaterOrEqual(numbers,given):\n",
    "    greater = []\n",
    "    for num in numbers:\n",
    "        if( num >= given):\n",
    "            greater.append(num)\n",
    "    return greater\n",
    "\n",
    "a = [23, 33, 12, 43, 56, 32, 45, 67, 78, 90, 35] \n",
    "n = 35\n",
    "\n",
    "findGreaterOrEqual(a,n)"
   ]
  },
  {
   "cell_type": "code",
   "execution_count": 36,
   "metadata": {},
   "outputs": [
    {
     "data": {
      "text/plain": [
       "4"
      ]
     },
     "execution_count": 36,
     "metadata": {},
     "output_type": "execute_result"
    }
   ],
   "source": [
    "#Question 8\n",
    "def countElement(numbers,given):\n",
    "    count = 0\n",
    "    for num in numbers:\n",
    "        if( num == given):\n",
    "            count += 1\n",
    "            #count = count + 1  \n",
    "    return count\n",
    "a =  [33, 21, 99, 1, 33, 57, 32, 123, 55, 33, 70, 33]\n",
    "countElement(a , 33)"
   ]
  },
  {
   "cell_type": "code",
   "execution_count": null,
   "metadata": {},
   "outputs": [],
   "source": [
    "a[::-1]"
   ]
  }
 ],
 "metadata": {
  "kernelspec": {
   "display_name": "Python 3",
   "language": "python",
   "name": "python3"
  },
  "language_info": {
   "codemirror_mode": {
    "name": "ipython",
    "version": 3
   },
   "file_extension": ".py",
   "mimetype": "text/x-python",
   "name": "python",
   "nbconvert_exporter": "python",
   "pygments_lexer": "ipython3",
   "version": "3.8.3"
  }
 },
 "nbformat": 4,
 "nbformat_minor": 4
}
