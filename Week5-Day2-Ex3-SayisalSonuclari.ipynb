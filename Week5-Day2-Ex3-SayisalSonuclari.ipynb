{
 "cells": [
  {
   "cell_type": "code",
   "execution_count": 31,
   "metadata": {},
   "outputs": [
    {
     "name": "stdout",
     "output_type": "stream",
     "text": [
      "['13', '19', '20', '23', '28', '39']\n"
     ]
    }
   ],
   "source": [
    "import urllib.request\n",
    "\n",
    "lines = urllib.request.urlopen(\"http://www.millipiyango.gov.tr/sonuclar/cekilisler/sayisal/SAY_20200722.json\")\n",
    "\n",
    "for line in lines:\n",
    "    data = str(line)\n",
    "    #print(data)\n",
    "    #print(\"------------------------------------------------\")\n",
    "    liste = data.split(\"rakamlarNumaraSirasi\")\n",
    "    virgulIndex = liste[1].index(\",\")\n",
    "    txt = liste[1]\n",
    "    sayilar = txt[3:virgulIndex-1]\n",
    "    sayiList = sayilar.split(\" - \")\n",
    "    print(sayiList)"
   ]
  },
  {
   "cell_type": "code",
   "execution_count": 36,
   "metadata": {},
   "outputs": [
    {
     "name": "stdout",
     "output_type": "stream",
     "text": [
      "03 - 05 - 25 - 41 - 45 - 49\n"
     ]
    }
   ],
   "source": [
    "import urllib.request\n",
    "lines = urllib.request.urlopen (\"http://www.millipiyango.gov.tr/sonuclar/cekilisler/sayisal/SAY_20200729.json\")\n",
    "for line in lines:\n",
    "    data = str(line)\n",
    "    liste = (data.split('\"'))\n",
    "    print (liste[29])"
   ]
  },
  {
   "cell_type": "code",
   "execution_count": null,
   "metadata": {},
   "outputs": [],
   "source": []
  }
 ],
 "metadata": {
  "kernelspec": {
   "display_name": "Python 3",
   "language": "python",
   "name": "python3"
  },
  "language_info": {
   "codemirror_mode": {
    "name": "ipython",
    "version": 3
   },
   "file_extension": ".py",
   "mimetype": "text/x-python",
   "name": "python",
   "nbconvert_exporter": "python",
   "pygments_lexer": "ipython3",
   "version": "3.8.3"
  }
 },
 "nbformat": 4,
 "nbformat_minor": 4
}
