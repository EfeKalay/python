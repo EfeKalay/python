{
 "cells": [
  {
   "cell_type": "code",
   "execution_count": 1,
   "metadata": {},
   "outputs": [
    {
     "name": "stdout",
     "output_type": "stream",
     "text": [
      "[[ 5.  5.]\n",
      " [15. 17.]\n",
      " [15. 16.]\n",
      " [ 5.  6.]\n",
      " [ 6.  6.]\n",
      " [16. 16.]\n",
      " [ 7.  7.]\n",
      " [ 7.  6.]\n",
      " [17. 17.]\n",
      " [ 6.  7.]\n",
      " [ 7.  8.]\n",
      " [18. 18.]\n",
      " [ 8.  6.]\n",
      " [15. 18.]\n",
      " [ 5.  8.]\n",
      " [17. 16.]\n",
      " [ 8.  8.]\n",
      " [16. 17.]\n",
      " [17. 18.]\n",
      " [18. 16.]]\n"
     ]
    }
   ],
   "source": [
    "import numpy as np\n",
    "koordinatlar = np.loadtxt(\"points.txt\",delimiter=\",\")\n",
    "print(koordinatlar)"
   ]
  },
  {
   "cell_type": "code",
   "execution_count": 6,
   "metadata": {},
   "outputs": [
    {
     "data": {
      "text/html": [
       "<div>\n",
       "<style scoped>\n",
       "    .dataframe tbody tr th:only-of-type {\n",
       "        vertical-align: middle;\n",
       "    }\n",
       "\n",
       "    .dataframe tbody tr th {\n",
       "        vertical-align: top;\n",
       "    }\n",
       "\n",
       "    .dataframe thead th {\n",
       "        text-align: right;\n",
       "    }\n",
       "</style>\n",
       "<table border=\"1\" class=\"dataframe\">\n",
       "  <thead>\n",
       "    <tr style=\"text-align: right;\">\n",
       "      <th></th>\n",
       "      <th>0</th>\n",
       "      <th>1</th>\n",
       "    </tr>\n",
       "  </thead>\n",
       "  <tbody>\n",
       "    <tr>\n",
       "      <th>0</th>\n",
       "      <td>5</td>\n",
       "      <td>5</td>\n",
       "    </tr>\n",
       "    <tr>\n",
       "      <th>1</th>\n",
       "      <td>15</td>\n",
       "      <td>17</td>\n",
       "    </tr>\n",
       "    <tr>\n",
       "      <th>2</th>\n",
       "      <td>15</td>\n",
       "      <td>16</td>\n",
       "    </tr>\n",
       "    <tr>\n",
       "      <th>3</th>\n",
       "      <td>5</td>\n",
       "      <td>6</td>\n",
       "    </tr>\n",
       "    <tr>\n",
       "      <th>4</th>\n",
       "      <td>6</td>\n",
       "      <td>6</td>\n",
       "    </tr>\n",
       "  </tbody>\n",
       "</table>\n",
       "</div>"
      ],
      "text/plain": [
       "    0   1\n",
       "0   5   5\n",
       "1  15  17\n",
       "2  15  16\n",
       "3   5   6\n",
       "4   6   6"
      ]
     },
     "execution_count": 6,
     "metadata": {},
     "output_type": "execute_result"
    }
   ],
   "source": [
    "#pandas yüklü değil ise\n",
    "#Anaconda command Prompt açıp  --> pip install pandas    çalıştırılmalı\n",
    "import pandas as pd\n",
    "pointsDF = pd.read_csv(\"points.txt\",header=None)\n",
    "pointsDF.head()"
   ]
  },
  {
   "cell_type": "code",
   "execution_count": 16,
   "metadata": {},
   "outputs": [
    {
     "data": {
      "text/plain": [
       "186           Abu Dhabi\n",
       "124           Amsterdam\n",
       "3      Andorra la Vella\n",
       "180              Ankara\n",
       "64               Athens\n",
       "151            Belgrade\n",
       "62               Berlin\n",
       "168                Bern\n",
       "155          Bratislava\n",
       "16             Brussels\n",
       "141           Bucharest\n",
       "72             Budapest\n",
       "113            Chisinau\n",
       "45           Copenhagen\n",
       "78               Dublin\n",
       "57             Helsinki\n",
       "131           Islamabad\n",
       "185                Kyiv\n",
       "139              Lisbon\n",
       "156           Ljubljana\n",
       "187              London\n",
       "100     Luxembourg City\n",
       "162              Madrid\n",
       "15                Minsk\n",
       "114              Monaco\n",
       "129                Oslo\n",
       "58                Paris\n",
       "116           Podgorica\n",
       "44               Prague\n",
       "73            Reykjavík\n",
       "93                 Riga\n",
       "80                 Rome\n",
       "148          San Marino\n",
       "21             Sarajevo\n",
       "101              Skopje\n",
       "25                Sofia\n",
       "167           Stockholm\n",
       "54              Tallinn\n",
       "1                Tirana\n",
       "177            Tiraspol\n",
       "98                Vaduz\n",
       "107            Valletta\n",
       "192        Vatican City\n",
       "9                Vienna\n",
       "99              Vilnius\n",
       "138              Warsaw\n",
       "41               Zagreb\n",
       "Name: Capital, dtype: object"
      ]
     },
     "execution_count": 16,
     "metadata": {},
     "output_type": "execute_result"
    }
   ],
   "source": [
    "worldDF = pd.read_csv(\"world.txt\",header=None,names=[\"Country\",\"Continent\",\"Capital\",\"Population\"])\n",
    "worldDF.head()\n",
    "worldDF = worldDF[worldDF[\"Continent\"]==\"Europe\"]\n",
    "worldDF.head(100)\n",
    "\n",
    "baskentlerDF = worldDF[\"Capital\"]\n",
    "siraliDF = baskentlerDF.sort_values()\n",
    "siraliDF.head(100)"
   ]
  },
  {
   "cell_type": "code",
   "execution_count": 26,
   "metadata": {},
   "outputs": [
    {
     "data": {
      "image/png": "[encoded data removed]",
      "text/plain": [
       "<Figure size 432x288 with 1 Axes>"
      ]
     },
     "metadata": {},
     "output_type": "display_data"
    }
   ],
   "source": [
    "import matplotlib.pyplot as plt\n",
    "meyveDF  = pd.read_excel(\"meyveler.xlsx\")\n",
    "meyveDF.head(10)\n",
    "meyveDF[meyveDF[\"Fiyat\"]>5]\n",
    "\n",
    "meyveler = meyveDF[\"Meyve\"]\n",
    "fiyatlar  =  meyveDF[\"Fiyat\"]\n",
    "\n",
    "plt.pie(fiyatlar,labels=meyveler,explode=[0,0,0,0,0.5,0,0,0])\n",
    "plt.show()"
   ]
  },
  {
   "cell_type": "code",
   "execution_count": 29,
   "metadata": {},
   "outputs": [
    {
     "data": {
      "image/png": "[encoded data removed]",
      "text/plain": [
       "<Figure size 432x288 with 1 Axes>"
      ]
     },
     "metadata": {
      "needs_background": "light"
     },
     "output_type": "display_data"
    }
   ],
   "source": [
    "plt.hist(fiyatlar)\n",
    "plt.show()"
   ]
  },
  {
   "cell_type": "code",
   "execution_count": null,
   "metadata": {},
   "outputs": [],
   "source": []
  }
 ],
 "metadata": {
  "kernelspec": {
   "display_name": "Python 3",
   "language": "python",
   "name": "python3"
  },
  "language_info": {
   "codemirror_mode": {
    "name": "ipython",
    "version": 3
   },
   "file_extension": ".py",
   "mimetype": "text/x-python",
   "name": "python",
   "nbconvert_exporter": "python",
   "pygments_lexer": "ipython3",
   "version": "3.8.3"
  }
 },
 "nbformat": 4,
 "nbformat_minor": 4
}
