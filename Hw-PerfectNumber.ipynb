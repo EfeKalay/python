{
 "cells": [
  {
   "cell_type": "code",
   "execution_count": 17,
   "metadata": {},
   "outputs": [
    {
     "name": "stdout",
     "output_type": "stream",
     "text": [
      "Lütfen bir sayı giriniz : 6\n",
      "6 sayısı Mukemmeldir !!!\n"
     ]
    }
   ],
   "source": [
    "sayi = input(\"Lütfen bir sayı giriniz : \")\n",
    "sayiInt = int(sayi)\n",
    "\n",
    "if (bolenlerToplami(sayiInt) == sayiInt):\n",
    "    print(str(sayiInt) + \" sayısı Mukemmeldir !!!\")\n",
    "    \n",
    "else:\n",
    "    print(str(sayiInt) + \" sayısı Mukemmel DEĞİLDİR !!!\")\n",
    "\n",
    "\n",
    "def bolenlerToplami(num):\n",
    "    tamBolenSayilar = []\n",
    "    toplam = 0\n",
    "\n",
    "    for a in range(1, num):\n",
    "        if ( num % a == 0 ):\n",
    "            tamBolenSayilar.append(a)\n",
    "      \n",
    "    for sayi in tamBolenSayilar:\n",
    "        toplam = toplam + sayi\n",
    "    \n",
    "    return toplam\n",
    "\n"
   ]
  },
  {
   "cell_type": "code",
   "execution_count": null,
   "metadata": {},
   "outputs": [],
   "source": []
  },
  {
   "cell_type": "code",
   "execution_count": null,
   "metadata": {},
   "outputs": [],
   "source": []
  }
 ],
 "metadata": {
  "kernelspec": {
   "display_name": "Python 3",
   "language": "python",
   "name": "python3"
  },
  "language_info": {
   "codemirror_mode": {
    "name": "ipython",
    "version": 3
   },
   "file_extension": ".py",
   "mimetype": "text/x-python",
   "name": "python",
   "nbconvert_exporter": "python",
   "pygments_lexer": "ipython3",
   "version": "3.8.3"
  }
 },
 "nbformat": 4,
 "nbformat_minor": 4
}
