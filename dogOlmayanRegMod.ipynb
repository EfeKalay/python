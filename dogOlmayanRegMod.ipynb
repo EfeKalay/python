{
 "cells": [
  {
   "cell_type": "markdown",
   "metadata": {},
   "source": [
    "# Dogrusal Olmayan Regresyon Modelleri"
   ]
  },
  {
   "cell_type": "code",
   "execution_count": 1,
   "metadata": {},
   "outputs": [],
   "source": [
    "import numpy as np\n",
    "import pandas as pd\n",
    "from sklearn.model_selection import train_test_split, GridSearchCV\n",
    "from sklearn.metrics import mean_squared_error, r2_score\n",
    "import matplotlib.pyplot as plt\n",
    "from sklearn.preprocessing import scale\n",
    "from sklearn.preprocessing import StandardScaler\n",
    "from sklearn import model_selection\n",
    "from sklearn.linear_model import LinearRegression\n",
    "from sklearn.tree import DecisionTreeRegressor\n",
    "from sklearn.neighbors import KNeighborsRegressor\n",
    "from sklearn.neural_network import MLPRegressor\n",
    "from sklearn.ensemble import RandomForestRegressor\n",
    "from sklearn.ensemble import GradientBoostingRegressor\n",
    "from sklearn import neighbors\n",
    "from sklearn.svm import SVR"
   ]
  },
  {
   "cell_type": "code",
   "execution_count": 2,
   "metadata": {},
   "outputs": [],
   "source": [
    "from warnings import filterwarnings\n",
    "filterwarnings('ignore')"
   ]
  },
  {
   "cell_type": "markdown",
   "metadata": {},
   "source": [
    "# KNN"
   ]
  },
  {
   "cell_type": "code",
   "execution_count": 3,
   "metadata": {},
   "outputs": [],
   "source": [
    "df = pd.read_csv(\"Hitters.csv\")\n",
    "df = df.dropna()\n",
    "dms = pd.get_dummies(df[['League', 'Division', 'NewLeague']])\n",
    "y = df[\"Salary\"]\n",
    "X_ = df.drop(['Salary', 'League', 'Division', 'NewLeague'], axis = 1).astype('float64')\n",
    "X = pd.concat([X_, dms[['League_N', 'Division_W', 'NewLeague_N']]], axis = 1)\n",
    "X_train, X_test, y_train, y_test = train_test_split(X, y, test_size = 0.25, random_state = 42)"
   ]
  },
  {
   "cell_type": "code",
   "execution_count": 4,
   "metadata": {},
   "outputs": [
    {
     "data": {
      "text/html": [
       "<div>\n",
       "<style scoped>\n",
       "    .dataframe tbody tr th:only-of-type {\n",
       "        vertical-align: middle;\n",
       "    }\n",
       "\n",
       "    .dataframe tbody tr th {\n",
       "        vertical-align: top;\n",
       "    }\n",
       "\n",
       "    .dataframe thead th {\n",
       "        text-align: right;\n",
       "    }\n",
       "</style>\n",
       "<table border=\"1\" class=\"dataframe\">\n",
       "  <thead>\n",
       "    <tr style=\"text-align: right;\">\n",
       "      <th></th>\n",
       "      <th>AtBat</th>\n",
       "      <th>Hits</th>\n",
       "      <th>HmRun</th>\n",
       "      <th>Runs</th>\n",
       "      <th>RBI</th>\n",
       "      <th>Walks</th>\n",
       "      <th>Years</th>\n",
       "      <th>CAtBat</th>\n",
       "      <th>CHits</th>\n",
       "      <th>CHmRun</th>\n",
       "      <th>CRuns</th>\n",
       "      <th>CRBI</th>\n",
       "      <th>CWalks</th>\n",
       "      <th>PutOuts</th>\n",
       "      <th>Assists</th>\n",
       "      <th>Errors</th>\n",
       "      <th>League_N</th>\n",
       "      <th>Division_W</th>\n",
       "      <th>NewLeague_N</th>\n",
       "    </tr>\n",
       "  </thead>\n",
       "  <tbody>\n",
       "    <tr>\n",
       "      <th>183</th>\n",
       "      <td>328.0</td>\n",
       "      <td>91.0</td>\n",
       "      <td>12.0</td>\n",
       "      <td>51.0</td>\n",
       "      <td>43.0</td>\n",
       "      <td>33.0</td>\n",
       "      <td>2.0</td>\n",
       "      <td>342.0</td>\n",
       "      <td>94.0</td>\n",
       "      <td>12.0</td>\n",
       "      <td>51.0</td>\n",
       "      <td>44.0</td>\n",
       "      <td>33.0</td>\n",
       "      <td>145.0</td>\n",
       "      <td>59.0</td>\n",
       "      <td>8.0</td>\n",
       "      <td>1</td>\n",
       "      <td>0</td>\n",
       "      <td>1</td>\n",
       "    </tr>\n",
       "    <tr>\n",
       "      <th>229</th>\n",
       "      <td>514.0</td>\n",
       "      <td>144.0</td>\n",
       "      <td>0.0</td>\n",
       "      <td>67.0</td>\n",
       "      <td>54.0</td>\n",
       "      <td>79.0</td>\n",
       "      <td>9.0</td>\n",
       "      <td>4739.0</td>\n",
       "      <td>1169.0</td>\n",
       "      <td>13.0</td>\n",
       "      <td>583.0</td>\n",
       "      <td>374.0</td>\n",
       "      <td>528.0</td>\n",
       "      <td>229.0</td>\n",
       "      <td>453.0</td>\n",
       "      <td>15.0</td>\n",
       "      <td>1</td>\n",
       "      <td>0</td>\n",
       "      <td>1</td>\n",
       "    </tr>\n",
       "    <tr>\n",
       "      <th>286</th>\n",
       "      <td>593.0</td>\n",
       "      <td>152.0</td>\n",
       "      <td>23.0</td>\n",
       "      <td>69.0</td>\n",
       "      <td>75.0</td>\n",
       "      <td>53.0</td>\n",
       "      <td>6.0</td>\n",
       "      <td>2765.0</td>\n",
       "      <td>686.0</td>\n",
       "      <td>133.0</td>\n",
       "      <td>369.0</td>\n",
       "      <td>384.0</td>\n",
       "      <td>321.0</td>\n",
       "      <td>315.0</td>\n",
       "      <td>10.0</td>\n",
       "      <td>6.0</td>\n",
       "      <td>0</td>\n",
       "      <td>1</td>\n",
       "      <td>0</td>\n",
       "    </tr>\n",
       "    <tr>\n",
       "      <th>102</th>\n",
       "      <td>233.0</td>\n",
       "      <td>49.0</td>\n",
       "      <td>2.0</td>\n",
       "      <td>41.0</td>\n",
       "      <td>23.0</td>\n",
       "      <td>18.0</td>\n",
       "      <td>8.0</td>\n",
       "      <td>1350.0</td>\n",
       "      <td>336.0</td>\n",
       "      <td>7.0</td>\n",
       "      <td>166.0</td>\n",
       "      <td>122.0</td>\n",
       "      <td>106.0</td>\n",
       "      <td>102.0</td>\n",
       "      <td>132.0</td>\n",
       "      <td>10.0</td>\n",
       "      <td>0</td>\n",
       "      <td>0</td>\n",
       "      <td>0</td>\n",
       "    </tr>\n",
       "    <tr>\n",
       "      <th>153</th>\n",
       "      <td>341.0</td>\n",
       "      <td>95.0</td>\n",
       "      <td>6.0</td>\n",
       "      <td>48.0</td>\n",
       "      <td>42.0</td>\n",
       "      <td>20.0</td>\n",
       "      <td>10.0</td>\n",
       "      <td>2964.0</td>\n",
       "      <td>808.0</td>\n",
       "      <td>81.0</td>\n",
       "      <td>379.0</td>\n",
       "      <td>428.0</td>\n",
       "      <td>221.0</td>\n",
       "      <td>158.0</td>\n",
       "      <td>4.0</td>\n",
       "      <td>5.0</td>\n",
       "      <td>1</td>\n",
       "      <td>1</td>\n",
       "      <td>1</td>\n",
       "    </tr>\n",
       "  </tbody>\n",
       "</table>\n",
       "</div>"
      ],
      "text/plain": [
       "     AtBat   Hits  HmRun  Runs   RBI  Walks  Years  CAtBat   CHits  CHmRun  \\\n",
       "183  328.0   91.0   12.0  51.0  43.0   33.0    2.0   342.0    94.0    12.0   \n",
       "229  514.0  144.0    0.0  67.0  54.0   79.0    9.0  4739.0  1169.0    13.0   \n",
       "286  593.0  152.0   23.0  69.0  75.0   53.0    6.0  2765.0   686.0   133.0   \n",
       "102  233.0   49.0    2.0  41.0  23.0   18.0    8.0  1350.0   336.0     7.0   \n",
       "153  341.0   95.0    6.0  48.0  42.0   20.0   10.0  2964.0   808.0    81.0   \n",
       "\n",
       "     CRuns   CRBI  CWalks  PutOuts  Assists  Errors  League_N  Division_W  \\\n",
       "183   51.0   44.0    33.0    145.0     59.0     8.0         1           0   \n",
       "229  583.0  374.0   528.0    229.0    453.0    15.0         1           0   \n",
       "286  369.0  384.0   321.0    315.0     10.0     6.0         0           1   \n",
       "102  166.0  122.0   106.0    102.0    132.0    10.0         0           0   \n",
       "153  379.0  428.0   221.0    158.0      4.0     5.0         1           1   \n",
       "\n",
       "     NewLeague_N  \n",
       "183            1  \n",
       "229            1  \n",
       "286            0  \n",
       "102            0  \n",
       "153            1  "
      ]
     },
     "execution_count": 4,
     "metadata": {},
     "output_type": "execute_result"
    }
   ],
   "source": [
    "X_train.head()"
   ]
  },
  {
   "cell_type": "markdown",
   "metadata": {},
   "source": [
    "## Model"
   ]
  },
  {
   "cell_type": "code",
   "execution_count": 5,
   "metadata": {},
   "outputs": [
    {
     "data": {
      "text/plain": [
       "KNeighborsRegressor(algorithm='auto', leaf_size=30, metric='minkowski',\n",
       "                    metric_params=None, n_jobs=None, n_neighbors=5, p=2,\n",
       "                    weights='uniform')"
      ]
     },
     "execution_count": 5,
     "metadata": {},
     "output_type": "execute_result"
    }
   ],
   "source": [
    "knn_model = KNeighborsRegressor().fit(X_train, y_train)\n",
    "knn_model"
   ]
  },
  {
   "cell_type": "code",
   "execution_count": 6,
   "metadata": {},
   "outputs": [
    {
     "data": {
      "text/plain": [
       "5"
      ]
     },
     "execution_count": 6,
     "metadata": {},
     "output_type": "execute_result"
    }
   ],
   "source": [
    "knn_model.n_neighbors"
   ]
  },
  {
   "cell_type": "code",
   "execution_count": 7,
   "metadata": {},
   "outputs": [
    {
     "data": {
      "text/plain": [
       "'minkowski'"
      ]
     },
     "execution_count": 7,
     "metadata": {},
     "output_type": "execute_result"
    }
   ],
   "source": [
    "knn_model.metric"
   ]
  },
  {
   "cell_type": "code",
   "execution_count": 8,
   "metadata": {
    "collapsed": true,
    "jupyter": {
     "outputs_hidden": true
    }
   },
   "outputs": [
    {
     "data": {
      "text/plain": [
       "['__abstractmethods__',\n",
       " '__class__',\n",
       " '__delattr__',\n",
       " '__dict__',\n",
       " '__dir__',\n",
       " '__doc__',\n",
       " '__eq__',\n",
       " '__format__',\n",
       " '__ge__',\n",
       " '__getattribute__',\n",
       " '__getstate__',\n",
       " '__gt__',\n",
       " '__hash__',\n",
       " '__init__',\n",
       " '__init_subclass__',\n",
       " '__le__',\n",
       " '__lt__',\n",
       " '__module__',\n",
       " '__ne__',\n",
       " '__new__',\n",
       " '__reduce__',\n",
       " '__reduce_ex__',\n",
       " '__repr__',\n",
       " '__setattr__',\n",
       " '__setstate__',\n",
       " '__sizeof__',\n",
       " '__str__',\n",
       " '__subclasshook__',\n",
       " '__weakref__',\n",
       " '_abc_impl',\n",
       " '_check_algorithm_metric',\n",
       " '_estimator_type',\n",
       " '_fit',\n",
       " '_fit_X',\n",
       " '_fit_method',\n",
       " '_get_param_names',\n",
       " '_get_tags',\n",
       " '_kneighbors_reduce_func',\n",
       " '_more_tags',\n",
       " '_pairwise',\n",
       " '_tree',\n",
       " '_y',\n",
       " 'algorithm',\n",
       " 'effective_metric_',\n",
       " 'effective_metric_params_',\n",
       " 'fit',\n",
       " 'get_params',\n",
       " 'kneighbors',\n",
       " 'kneighbors_graph',\n",
       " 'leaf_size',\n",
       " 'metric',\n",
       " 'metric_params',\n",
       " 'n_jobs',\n",
       " 'n_neighbors',\n",
       " 'n_samples_fit_',\n",
       " 'p',\n",
       " 'predict',\n",
       " 'radius',\n",
       " 'score',\n",
       " 'set_params',\n",
       " 'weights']"
      ]
     },
     "execution_count": 8,
     "metadata": {},
     "output_type": "execute_result"
    }
   ],
   "source": [
    "dir(knn_model)"
   ]
  },
  {
   "cell_type": "code",
   "execution_count": 9,
   "metadata": {},
   "outputs": [
    {
     "data": {
      "text/plain": [
       "array([ 510.3334,  808.3334,  772.5   ,  125.5   , 1005.    ])"
      ]
     },
     "execution_count": 9,
     "metadata": {},
     "output_type": "execute_result"
    }
   ],
   "source": [
    "knn_model.predict(X_test)[0:5]"
   ]
  },
  {
   "cell_type": "code",
   "execution_count": 10,
   "metadata": {},
   "outputs": [],
   "source": [
    "y_pred = knn_model.predict(X_test)"
   ]
  },
  {
   "cell_type": "code",
   "execution_count": 11,
   "metadata": {},
   "outputs": [
    {
     "data": {
      "text/plain": [
       "426.6570764525201"
      ]
     },
     "execution_count": 11,
     "metadata": {},
     "output_type": "execute_result"
    }
   ],
   "source": [
    "np.sqrt(mean_squared_error(y_test,y_pred))"
   ]
  },
  {
   "cell_type": "markdown",
   "metadata": {},
   "source": [
    "## Model Tuning"
   ]
  },
  {
   "cell_type": "code",
   "execution_count": 12,
   "metadata": {},
   "outputs": [
    {
     "data": {
      "text/plain": [
       "KNeighborsRegressor(algorithm='auto', leaf_size=30, metric='minkowski',\n",
       "                    metric_params=None, n_jobs=None, n_neighbors=5, p=2,\n",
       "                    weights='uniform')"
      ]
     },
     "execution_count": 12,
     "metadata": {},
     "output_type": "execute_result"
    }
   ],
   "source": [
    "knn_model"
   ]
  },
  {
   "cell_type": "code",
   "execution_count": 13,
   "metadata": {},
   "outputs": [
    {
     "name": "stdout",
     "output_type": "stream",
     "text": [
      "k = 1 icin RMSE degeri: 455.03925390751965\n",
      "k = 2 icin RMSE degeri: 415.99629571490965\n",
      "k = 3 icin RMSE degeri: 420.6765370082348\n",
      "k = 4 icin RMSE degeri: 428.8564674588792\n",
      "k = 5 icin RMSE degeri: 426.6570764525201\n",
      "k = 6 icin RMSE degeri: 423.5071669008732\n",
      "k = 7 icin RMSE degeri: 414.9361222421057\n",
      "k = 8 icin RMSE degeri: 413.7094731463598\n",
      "k = 9 icin RMSE degeri: 417.84419990871265\n",
      "k = 10 icin RMSE degeri: 421.6252180741266\n"
     ]
    }
   ],
   "source": [
    "RMSE = []\n",
    "\n",
    "for k in range(10):\n",
    "    k = k+1\n",
    "    knn_model = KNeighborsRegressor(n_neighbors = k).fit(X_train, y_train)\n",
    "    y_pred = knn_model.predict(X_test)\n",
    "    rmse = np.sqrt(mean_squared_error(y_test,y_pred))\n",
    "    RMSE.append(rmse)\n",
    "    print(\"k =\", k, \"icin RMSE degeri:\", rmse)"
   ]
  },
  {
   "cell_type": "code",
   "execution_count": 14,
   "metadata": {},
   "outputs": [],
   "source": [
    "#GridSearchCV"
   ]
  },
  {
   "cell_type": "code",
   "execution_count": 15,
   "metadata": {},
   "outputs": [],
   "source": [
    "knn_params = {\"n_neighbors\": np.arange(1,30,1)}"
   ]
  },
  {
   "cell_type": "code",
   "execution_count": 16,
   "metadata": {},
   "outputs": [],
   "source": [
    "knn = KNeighborsRegressor()"
   ]
  },
  {
   "cell_type": "code",
   "execution_count": 17,
   "metadata": {},
   "outputs": [],
   "source": [
    "knn_cv_model = GridSearchCV(knn, knn_params, cv = 10).fit(X_train,y_train)"
   ]
  },
  {
   "cell_type": "code",
   "execution_count": 18,
   "metadata": {},
   "outputs": [
    {
     "data": {
      "text/plain": [
       "{'n_neighbors': 8}"
      ]
     },
     "execution_count": 18,
     "metadata": {},
     "output_type": "execute_result"
    }
   ],
   "source": [
    "knn_cv_model.best_params_"
   ]
  },
  {
   "cell_type": "code",
   "execution_count": 19,
   "metadata": {},
   "outputs": [],
   "source": [
    "#final model"
   ]
  },
  {
   "cell_type": "code",
   "execution_count": 20,
   "metadata": {},
   "outputs": [],
   "source": [
    "knn_tuned = KNeighborsRegressor(n_neighbors = knn_cv_model.best_params_[\"n_neighbors\"]).fit(X_train, y_train)"
   ]
  },
  {
   "cell_type": "code",
   "execution_count": 21,
   "metadata": {},
   "outputs": [],
   "source": [
    "y_pred = knn_tuned.predict(X_test)"
   ]
  },
  {
   "cell_type": "code",
   "execution_count": 22,
   "metadata": {},
   "outputs": [
    {
     "data": {
      "text/plain": [
       "413.7094731463598"
      ]
     },
     "execution_count": 22,
     "metadata": {},
     "output_type": "execute_result"
    }
   ],
   "source": [
    "np.sqrt(mean_squared_error(y_test,y_pred))"
   ]
  },
  {
   "cell_type": "markdown",
   "metadata": {},
   "source": [
    "# Destek Vektor Regresyonu (SVR)"
   ]
  },
  {
   "cell_type": "code",
   "execution_count": 23,
   "metadata": {},
   "outputs": [],
   "source": [
    "df = pd.read_csv(\"Hitters.csv\")\n",
    "df = df.dropna()\n",
    "dms = pd.get_dummies(df[['League', 'Division', 'NewLeague']])\n",
    "y = df[\"Salary\"]\n",
    "X_ = df.drop(['Salary', 'League', 'Division', 'NewLeague'], axis = 1).astype('float64')\n",
    "X = pd.concat([X_, dms[['League_N', 'Division_W', 'NewLeague_N']]], axis = 1)\n",
    "X_train, X_test, y_train, y_test = train_test_split(X, y, test_size = 0.25, random_state = 42)"
   ]
  },
  {
   "cell_type": "markdown",
   "metadata": {},
   "source": [
    "## Model ve Tahmin"
   ]
  },
  {
   "cell_type": "code",
   "execution_count": 24,
   "metadata": {},
   "outputs": [],
   "source": [
    "svr_model = SVR(\"linear\").fit(X_train, y_train)"
   ]
  },
  {
   "cell_type": "code",
   "execution_count": 25,
   "metadata": {},
   "outputs": [
    {
     "data": {
      "text/plain": [
       "SVR(C=1.0, cache_size=200, coef0=0.0, degree=3, epsilon=0.1, gamma='scale',\n",
       "    kernel='linear', max_iter=-1, shrinking=True, tol=0.001, verbose=False)"
      ]
     },
     "execution_count": 25,
     "metadata": {},
     "output_type": "execute_result"
    }
   ],
   "source": [
    "svr_model"
   ]
  },
  {
   "cell_type": "code",
   "execution_count": 26,
   "metadata": {},
   "outputs": [
    {
     "data": {
      "text/plain": [
       "array([219.32622169, 702.4303869 , 623.2055964 , 153.77538476,\n",
       "       463.15190834])"
      ]
     },
     "execution_count": 26,
     "metadata": {},
     "output_type": "execute_result"
    }
   ],
   "source": [
    "svr_model.predict(X_train)[0:5]"
   ]
  },
  {
   "cell_type": "code",
   "execution_count": 27,
   "metadata": {},
   "outputs": [
    {
     "data": {
      "text/plain": [
       "array([679.14754685, 633.72883069, 925.68640849, 270.28463621,\n",
       "       530.26659184])"
      ]
     },
     "execution_count": 27,
     "metadata": {},
     "output_type": "execute_result"
    }
   ],
   "source": [
    "svr_model.predict(X_test)[0:5]"
   ]
  },
  {
   "cell_type": "code",
   "execution_count": 28,
   "metadata": {},
   "outputs": [
    {
     "data": {
      "text/plain": [
       "array([-80.15196151])"
      ]
     },
     "execution_count": 28,
     "metadata": {},
     "output_type": "execute_result"
    }
   ],
   "source": [
    "svr_model.intercept_"
   ]
  },
  {
   "cell_type": "code",
   "execution_count": 30,
   "metadata": {},
   "outputs": [
    {
     "data": {
      "text/plain": [
       "array([[ -1.21839037,   6.09602969,  -3.67574533,   0.14217075,\n",
       "          0.51435919,   1.28388986,  12.55922537,  -0.08693755,\n",
       "          0.46597184,   2.98259944,   0.52944523,  -0.79820799,\n",
       "         -0.16015534,   0.30872794,   0.28842348,  -1.79560067,\n",
       "          6.41868985, -10.74313783,   1.33374317]])"
      ]
     },
     "execution_count": 30,
     "metadata": {},
     "output_type": "execute_result"
    }
   ],
   "source": [
    "svr_model.coef_"
   ]
  },
  {
   "cell_type": "code",
   "execution_count": 31,
   "metadata": {},
   "outputs": [
    {
     "data": {
      "text/plain": [
       "370.04084185624924"
      ]
     },
     "execution_count": 31,
     "metadata": {},
     "output_type": "execute_result"
    }
   ],
   "source": [
    "#test\n",
    "y_pred = svr_model.predict(X_test)\n",
    "np.sqrt(mean_squared_error(y_test, y_pred))"
   ]
  },
  {
   "cell_type": "markdown",
   "metadata": {},
   "source": [
    "## Model Tuning"
   ]
  },
  {
   "cell_type": "code",
   "execution_count": 35,
   "metadata": {},
   "outputs": [],
   "source": [
    "svr_model = SVR(\"linear\")"
   ]
  },
  {
   "cell_type": "code",
   "execution_count": 36,
   "metadata": {},
   "outputs": [
    {
     "data": {
      "text/plain": [
       "SVR(C=1.0, cache_size=200, coef0=0.0, degree=3, epsilon=0.1, gamma='scale',\n",
       "    kernel='linear', max_iter=-1, shrinking=True, tol=0.001, verbose=False)"
      ]
     },
     "execution_count": 36,
     "metadata": {},
     "output_type": "execute_result"
    }
   ],
   "source": [
    "svr_model"
   ]
  },
  {
   "cell_type": "code",
   "execution_count": 37,
   "metadata": {},
   "outputs": [],
   "source": [
    "svr_params = {\"C\": [0.1,0.5,1,3]}"
   ]
  },
  {
   "cell_type": "code",
   "execution_count": 38,
   "metadata": {},
   "outputs": [],
   "source": [
    "svr_cv_model = GridSearchCV(svr_model,svr_params, cv = 5).fit(X_train, y_train)"
   ]
  },
  {
   "cell_type": "code",
   "execution_count": 39,
   "metadata": {},
   "outputs": [
    {
     "data": {
      "text/plain": [
       "{'C': 0.5}"
      ]
     },
     "execution_count": 39,
     "metadata": {},
     "output_type": "execute_result"
    }
   ],
   "source": [
    "svr_cv_model.best_params_"
   ]
  },
  {
   "cell_type": "code",
   "execution_count": 40,
   "metadata": {},
   "outputs": [
    {
     "name": "stdout",
     "output_type": "stream",
     "text": [
      "Fitting 5 folds for each of 4 candidates, totalling 20 fits\n"
     ]
    },
    {
     "name": "stderr",
     "output_type": "stream",
     "text": [
      "[Parallel(n_jobs=-1)]: Using backend LokyBackend with 8 concurrent workers.\n",
      "[Parallel(n_jobs=-1)]: Done  16 out of  20 | elapsed:    7.3s remaining:    1.8s\n",
      "[Parallel(n_jobs=-1)]: Done  20 out of  20 | elapsed:   18.6s finished\n"
     ]
    }
   ],
   "source": [
    "svr_cv_model = GridSearchCV(svr_model,svr_params, cv = 5, verbose = 2, n_jobs = -1).fit(X_train, y_train)"
   ]
  },
  {
   "cell_type": "code",
   "execution_count": 41,
   "metadata": {},
   "outputs": [
    {
     "data": {
      "text/plain": [
       "{'C': 0.5}"
      ]
     },
     "execution_count": 41,
     "metadata": {},
     "output_type": "execute_result"
    }
   ],
   "source": [
    "svr_cv_model.best_params_"
   ]
  },
  {
   "cell_type": "code",
   "execution_count": 44,
   "metadata": {},
   "outputs": [],
   "source": [
    "svr_tuned = SVR(\"linear\", C = 0.5).fit(X_train, y_train)"
   ]
  },
  {
   "cell_type": "code",
   "execution_count": 45,
   "metadata": {},
   "outputs": [],
   "source": [
    "y_pred = svr_tuned.predict(X_test)"
   ]
  },
  {
   "cell_type": "code",
   "execution_count": 46,
   "metadata": {},
   "outputs": [
    {
     "data": {
      "text/plain": [
       "367.9874739022889"
      ]
     },
     "execution_count": 46,
     "metadata": {},
     "output_type": "execute_result"
    }
   ],
   "source": [
    "np.sqrt(mean_squared_error(y_test, y_pred))"
   ]
  },
  {
   "cell_type": "markdown",
   "metadata": {},
   "source": [
    "# Yapay Sinir Aglari (Neural Networks)"
   ]
  },
  {
   "cell_type": "code",
   "execution_count": 4,
   "metadata": {},
   "outputs": [],
   "source": [
    "df = pd.read_csv(\"Hitters.csv\")\n",
    "df = df.dropna()\n",
    "dms = pd.get_dummies(df[['League', 'Division', 'NewLeague']])\n",
    "y = df[\"Salary\"]\n",
    "X_ = df.drop(['Salary', 'League', 'Division', 'NewLeague'], axis = 1).astype('float64')\n",
    "X = pd.concat([X_, dms[['League_N', 'Division_W', 'NewLeague_N']]], axis = 1)\n",
    "X_train, X_test, y_train, y_test = train_test_split(X, y, test_size = 0.25, random_state = 42)"
   ]
  },
  {
   "cell_type": "markdown",
   "metadata": {},
   "source": [
    "## Model & Tahmin"
   ]
  },
  {
   "cell_type": "code",
   "execution_count": 5,
   "metadata": {},
   "outputs": [],
   "source": [
    "scaler = StandardScaler()"
   ]
  },
  {
   "cell_type": "code",
   "execution_count": 6,
   "metadata": {},
   "outputs": [],
   "source": [
    "scaler.fit(X_train)\n",
    "X_train_scaled = scaler.transform(X_train)\n",
    "X_test_scaled = scaler.transform(X_test)"
   ]
  },
  {
   "cell_type": "code",
   "execution_count": 7,
   "metadata": {},
   "outputs": [],
   "source": [
    "mlp_model = MLPRegressor().fit(X_train_scaled,y_train)"
   ]
  },
  {
   "cell_type": "code",
   "execution_count": 8,
   "metadata": {},
   "outputs": [
    {
     "data": {
      "text/plain": [
       "MLPRegressor(activation='relu', alpha=0.0001, batch_size='auto', beta_1=0.9,\n",
       "             beta_2=0.999, early_stopping=False, epsilon=1e-08,\n",
       "             hidden_layer_sizes=(100,), learning_rate='constant',\n",
       "             learning_rate_init=0.001, max_fun=15000, max_iter=200,\n",
       "             momentum=0.9, n_iter_no_change=10, nesterovs_momentum=True,\n",
       "             power_t=0.5, random_state=None, shuffle=True, solver='adam',\n",
       "             tol=0.0001, validation_fraction=0.1, verbose=False,\n",
       "             warm_start=False)"
      ]
     },
     "execution_count": 8,
     "metadata": {},
     "output_type": "execute_result"
    }
   ],
   "source": [
    "mlp_model"
   ]
  },
  {
   "cell_type": "code",
   "execution_count": 9,
   "metadata": {},
   "outputs": [
    {
     "data": {
      "text/plain": [
       "array([20.85677458, 41.63639475, 74.15500431, 16.48758538, 22.36825879])"
      ]
     },
     "execution_count": 9,
     "metadata": {},
     "output_type": "execute_result"
    }
   ],
   "source": [
    "mlp_model.predict(X_test_scaled)[0:5]"
   ]
  },
  {
   "cell_type": "code",
   "execution_count": 11,
   "metadata": {},
   "outputs": [
    {
     "data": {
      "text/plain": [
       "654.7420110021394"
      ]
     },
     "execution_count": 11,
     "metadata": {},
     "output_type": "execute_result"
    }
   ],
   "source": [
    "y_pred = mlp_model.predict(X_test_scaled)\n",
    "np.sqrt(mean_squared_error(y_test,y_pred))"
   ]
  },
  {
   "cell_type": "markdown",
   "metadata": {},
   "source": [
    "## Model Tuning"
   ]
  },
  {
   "cell_type": "code",
   "execution_count": 12,
   "metadata": {},
   "outputs": [],
   "source": [
    "mlp_params = {\"alpha\": [0.1, 0.01, 0.02, 0.001, 0.0001],\n",
    "              \"hidden_layer_sizes\":[(10,20), (5,5), (100,100)]}"
   ]
  },
  {
   "cell_type": "code",
   "execution_count": 23,
   "metadata": {},
   "outputs": [
    {
     "name": "stdout",
     "output_type": "stream",
     "text": [
      "Fitting 10 folds for each of 15 candidates, totalling 150 fits\n"
     ]
    },
    {
     "name": "stderr",
     "output_type": "stream",
     "text": [
      "[Parallel(n_jobs=-1)]: Using backend LokyBackend with 8 concurrent workers.\n",
      "[Parallel(n_jobs=-1)]: Done  34 tasks      | elapsed:    0.7s\n",
      "[Parallel(n_jobs=-1)]: Done 150 out of 150 | elapsed:    3.3s finished\n"
     ]
    }
   ],
   "source": [
    "mlp_cv_model = GridSearchCV(mlp_model, mlp_params, cv = 10, verbose = 2, n_jobs = -1).fit(X_train_scaled, y_train)"
   ]
  },
  {
   "cell_type": "code",
   "execution_count": 24,
   "metadata": {},
   "outputs": [
    {
     "data": {
      "text/plain": [
       "{'alpha': 0.1, 'hidden_layer_sizes': (100, 100)}"
      ]
     },
     "execution_count": 24,
     "metadata": {},
     "output_type": "execute_result"
    }
   ],
   "source": [
    "mlp_cv_model.best_params_"
   ]
  },
  {
   "cell_type": "code",
   "execution_count": 25,
   "metadata": {},
   "outputs": [],
   "source": [
    "#Final\n",
    "mlp_tuned = MLPRegressor(alpha = 0.1, hidden_layer_sizes = (100,100)).fit(X_train_scaled,y_train)"
   ]
  },
  {
   "cell_type": "code",
   "execution_count": 27,
   "metadata": {},
   "outputs": [],
   "source": [
    "y_pred = mlp_tuned.predict(X_test_scaled)"
   ]
  },
  {
   "cell_type": "code",
   "execution_count": 28,
   "metadata": {},
   "outputs": [
    {
     "data": {
      "text/plain": [
       "362.9992934535494"
      ]
     },
     "execution_count": 28,
     "metadata": {},
     "output_type": "execute_result"
    }
   ],
   "source": [
    "np.sqrt(mean_squared_error(y_test,y_pred))"
   ]
  },
  {
   "cell_type": "markdown",
   "metadata": {},
   "source": [
    "# Classification & Regression Tree (CART)"
   ]
  },
  {
   "cell_type": "code",
   "execution_count": 53,
   "metadata": {},
   "outputs": [],
   "source": [
    "df = pd.read_csv(\"Hitters.csv\")\n",
    "df = df.dropna()\n",
    "dms = pd.get_dummies(df[['League', 'Division', 'NewLeague']])\n",
    "y = df[\"Salary\"]\n",
    "X_ = df.drop(['Salary', 'League', 'Division', 'NewLeague'], axis = 1).astype('float64')\n",
    "X = pd.concat([X_, dms[['League_N', 'Division_W', 'NewLeague_N']]], axis = 1)\n",
    "X_train, X_test, y_train, y_test = train_test_split(X, y, test_size = 0.25, random_state = 42)"
   ]
  },
  {
   "cell_type": "code",
   "execution_count": 54,
   "metadata": {},
   "outputs": [],
   "source": [
    "X_train = pd.DataFrame(X_train[\"Hits\"])\n",
    "X_test = pd.DataFrame(X_test[\"Hits\"])"
   ]
  },
  {
   "cell_type": "markdown",
   "metadata": {},
   "source": [
    "## Model & Tahmin"
   ]
  },
  {
   "cell_type": "code",
   "execution_count": 55,
   "metadata": {},
   "outputs": [],
   "source": [
    "cart_model = DecisionTreeRegressor(max_leaf_nodes = 10)"
   ]
  },
  {
   "cell_type": "code",
   "execution_count": 56,
   "metadata": {},
   "outputs": [
    {
     "data": {
      "text/plain": [
       "DecisionTreeRegressor(ccp_alpha=0.0, criterion='mse', max_depth=None,\n",
       "                      max_features=None, max_leaf_nodes=10,\n",
       "                      min_impurity_decrease=0.0, min_impurity_split=None,\n",
       "                      min_samples_leaf=1, min_samples_split=2,\n",
       "                      min_weight_fraction_leaf=0.0, presort='deprecated',\n",
       "                      random_state=None, splitter='best')"
      ]
     },
     "execution_count": 56,
     "metadata": {},
     "output_type": "execute_result"
    }
   ],
   "source": [
    "cart_model.fit(X_train, y_train)"
   ]
  },
  {
   "cell_type": "code",
   "execution_count": 57,
   "metadata": {},
   "outputs": [
    {
     "data": {
      "image/png": "[encoded data removed]",
      "text/plain": [
       "<Figure size 432x288 with 1 Axes>"
      ]
     },
     "metadata": {
      "needs_background": "light"
     },
     "output_type": "display_data"
    }
   ],
   "source": [
    "X_grid = np.arange(min(np.array(X_train)), max(np.array(X_train)), 0.01)\n",
    "X_grid = X_grid.reshape((len(X_grid),1))\n",
    "\n",
    "plt.scatter(X_train, y_train, color = 'red')\n",
    "\n",
    "plt.plot(X_grid, cart_model.predict(X_grid), color = 'blue')\n",
    "\n",
    "plt.title('CART REGRESYON AGACI')\n",
    "plt.xlabel('Atis Sayisi (Hits)')\n",
    "plt.ylabel('Maas (Salary)');"
   ]
  },
  {
   "cell_type": "code",
   "execution_count": 58,
   "metadata": {},
   "outputs": [],
   "source": [
    "#tek degiskenli"
   ]
  },
  {
   "cell_type": "code",
   "execution_count": 59,
   "metadata": {},
   "outputs": [
    {
     "data": {
      "text/plain": [
       "array([621.96792308, 958.61111111, 621.96792308, 345.20115517,\n",
       "       345.20115517])"
      ]
     },
     "execution_count": 59,
     "metadata": {},
     "output_type": "execute_result"
    }
   ],
   "source": [
    "cart_model.predict(X_test)[0:5]"
   ]
  },
  {
   "cell_type": "code",
   "execution_count": 60,
   "metadata": {},
   "outputs": [
    {
     "data": {
      "text/plain": [
       "486.34593105235456"
      ]
     },
     "execution_count": 60,
     "metadata": {},
     "output_type": "execute_result"
    }
   ],
   "source": [
    "y_pred = cart_model.predict(X_test)\n",
    "np.sqrt(mean_squared_error(y_test,y_pred))"
   ]
  },
  {
   "cell_type": "code",
   "execution_count": 61,
   "metadata": {},
   "outputs": [],
   "source": [
    "#tum degiskenler"
   ]
  },
  {
   "cell_type": "code",
   "execution_count": 90,
   "metadata": {},
   "outputs": [],
   "source": [
    "df = pd.read_csv(\"Hitters.csv\")\n",
    "df = df.dropna()\n",
    "dms = pd.get_dummies(df[['League', 'Division', 'NewLeague']])\n",
    "y = df[\"Salary\"]\n",
    "X_ = df.drop(['Salary', 'League', 'Division', 'NewLeague'], axis = 1).astype('float64')\n",
    "X = pd.concat([X_, dms[['League_N', 'Division_W', 'NewLeague_N']]], axis = 1)\n",
    "X_train, X_test, y_train, y_test = train_test_split(X, y, test_size = 0.25, random_state = 42)"
   ]
  },
  {
   "cell_type": "code",
   "execution_count": 91,
   "metadata": {},
   "outputs": [],
   "source": [
    "cart_model = DecisionTreeRegressor().fit(X_train, y_train)"
   ]
  },
  {
   "cell_type": "code",
   "execution_count": 92,
   "metadata": {},
   "outputs": [
    {
     "data": {
      "text/plain": [
       "576.1125953135061"
      ]
     },
     "execution_count": 92,
     "metadata": {},
     "output_type": "execute_result"
    }
   ],
   "source": [
    "y_pred = cart_model.predict(X_test)\n",
    "np.sqrt(mean_squared_error(y_test,y_pred))"
   ]
  },
  {
   "cell_type": "markdown",
   "metadata": {},
   "source": [
    "## Model Tuning"
   ]
  },
  {
   "cell_type": "code",
   "execution_count": 93,
   "metadata": {},
   "outputs": [
    {
     "data": {
      "text/plain": [
       "DecisionTreeRegressor(ccp_alpha=0.0, criterion='mse', max_depth=None,\n",
       "                      max_features=None, max_leaf_nodes=None,\n",
       "                      min_impurity_decrease=0.0, min_impurity_split=None,\n",
       "                      min_samples_leaf=1, min_samples_split=2,\n",
       "                      min_weight_fraction_leaf=0.0, presort='deprecated',\n",
       "                      random_state=None, splitter='best')"
      ]
     },
     "execution_count": 93,
     "metadata": {},
     "output_type": "execute_result"
    }
   ],
   "source": [
    "cart_model"
   ]
  },
  {
   "cell_type": "code",
   "execution_count": 94,
   "metadata": {},
   "outputs": [
    {
     "data": {
      "text/plain": [
       "435.3876314155003"
      ]
     },
     "execution_count": 94,
     "metadata": {},
     "output_type": "execute_result"
    }
   ],
   "source": [
    "cart_model = DecisionTreeRegressor(max_depth = 3).fit(X_train, y_train)\n",
    "y_pred = cart_model.predict(X_test)\n",
    "np.sqrt(mean_squared_error(y_test,y_pred))"
   ]
  },
  {
   "cell_type": "code",
   "execution_count": 95,
   "metadata": {
    "collapsed": true,
    "jupyter": {
     "outputs_hidden": true
    }
   },
   "outputs": [
    {
     "data": {
      "text/plain": [
       "\u001b[1;31mType:\u001b[0m        DecisionTreeRegressor\n",
       "\u001b[1;31mString form:\u001b[0m\n",
       "DecisionTreeRegressor(ccp_alpha=0.0, criterion='mse', max_depth=3,\n",
       "           max_feat <...> raction_leaf=0.0, presort='deprecated',\n",
       "           random_state=None, splitter='best')\n",
       "\u001b[1;31mFile:\u001b[0m        c:\\users\\efe\\anaconda3\\lib\\site-packages\\sklearn\\tree\\_classes.py\n",
       "\u001b[1;31mDocstring:\u001b[0m  \n",
       "A decision tree regressor.\n",
       "\n",
       "Read more in the :ref:`User Guide <tree>`.\n",
       "\n",
       "Parameters\n",
       "----------\n",
       "criterion : {\"mse\", \"friedman_mse\", \"mae\"}, default=\"mse\"\n",
       "    The function to measure the quality of a split. Supported criteria\n",
       "    are \"mse\" for the mean squared error, which is equal to variance\n",
       "    reduction as feature selection criterion and minimizes the L2 loss\n",
       "    using the mean of each terminal node, \"friedman_mse\", which uses mean\n",
       "    squared error with Friedman's improvement score for potential splits,\n",
       "    and \"mae\" for the mean absolute error, which minimizes the L1 loss\n",
       "    using the median of each terminal node.\n",
       "\n",
       "    .. versionadded:: 0.18\n",
       "       Mean Absolute Error (MAE) criterion.\n",
       "\n",
       "splitter : {\"best\", \"random\"}, default=\"best\"\n",
       "    The strategy used to choose the split at each node. Supported\n",
       "    strategies are \"best\" to choose the best split and \"random\" to choose\n",
       "    the best random split.\n",
       "\n",
       "max_depth : int, default=None\n",
       "    The maximum depth of the tree. If None, then nodes are expanded until\n",
       "    all leaves are pure or until all leaves contain less than\n",
       "    min_samples_split samples.\n",
       "\n",
       "min_samples_split : int or float, default=2\n",
       "    The minimum number of samples required to split an internal node:\n",
       "\n",
       "    - If int, then consider `min_samples_split` as the minimum number.\n",
       "    - If float, then `min_samples_split` is a fraction and\n",
       "      `ceil(min_samples_split * n_samples)` are the minimum\n",
       "      number of samples for each split.\n",
       "\n",
       "    .. versionchanged:: 0.18\n",
       "       Added float values for fractions.\n",
       "\n",
       "min_samples_leaf : int or float, default=1\n",
       "    The minimum number of samples required to be at a leaf node.\n",
       "    A split point at any depth will only be considered if it leaves at\n",
       "    least ``min_samples_leaf`` training samples in each of the left and\n",
       "    right branches.  This may have the effect of smoothing the model,\n",
       "    especially in regression.\n",
       "\n",
       "    - If int, then consider `min_samples_leaf` as the minimum number.\n",
       "    - If float, then `min_samples_leaf` is a fraction and\n",
       "      `ceil(min_samples_leaf * n_samples)` are the minimum\n",
       "      number of samples for each node.\n",
       "\n",
       "    .. versionchanged:: 0.18\n",
       "       Added float values for fractions.\n",
       "\n",
       "min_weight_fraction_leaf : float, default=0.0\n",
       "    The minimum weighted fraction of the sum total of weights (of all\n",
       "    the input samples) required to be at a leaf node. Samples have\n",
       "    equal weight when sample_weight is not provided.\n",
       "\n",
       "max_features : int, float or {\"auto\", \"sqrt\", \"log2\"}, default=None\n",
       "    The number of features to consider when looking for the best split:\n",
       "\n",
       "    - If int, then consider `max_features` features at each split.\n",
       "    - If float, then `max_features` is a fraction and\n",
       "      `int(max_features * n_features)` features are considered at each\n",
       "      split.\n",
       "    - If \"auto\", then `max_features=n_features`.\n",
       "    - If \"sqrt\", then `max_features=sqrt(n_features)`.\n",
       "    - If \"log2\", then `max_features=log2(n_features)`.\n",
       "    - If None, then `max_features=n_features`.\n",
       "\n",
       "    Note: the search for a split does not stop until at least one\n",
       "    valid partition of the node samples is found, even if it requires to\n",
       "    effectively inspect more than ``max_features`` features.\n",
       "\n",
       "random_state : int or RandomState, default=None\n",
       "    If int, random_state is the seed used by the random number generator;\n",
       "    If RandomState instance, random_state is the random number generator;\n",
       "    If None, the random number generator is the RandomState instance used\n",
       "    by `np.random`.\n",
       "\n",
       "max_leaf_nodes : int, default=None\n",
       "    Grow a tree with ``max_leaf_nodes`` in best-first fashion.\n",
       "    Best nodes are defined as relative reduction in impurity.\n",
       "    If None then unlimited number of leaf nodes.\n",
       "\n",
       "min_impurity_decrease : float, default=0.0\n",
       "    A node will be split if this split induces a decrease of the impurity\n",
       "    greater than or equal to this value.\n",
       "\n",
       "    The weighted impurity decrease equation is the following::\n",
       "\n",
       "        N_t / N * (impurity - N_t_R / N_t * right_impurity\n",
       "                            - N_t_L / N_t * left_impurity)\n",
       "\n",
       "    where ``N`` is the total number of samples, ``N_t`` is the number of\n",
       "    samples at the current node, ``N_t_L`` is the number of samples in the\n",
       "    left child, and ``N_t_R`` is the number of samples in the right child.\n",
       "\n",
       "    ``N``, ``N_t``, ``N_t_R`` and ``N_t_L`` all refer to the weighted sum,\n",
       "    if ``sample_weight`` is passed.\n",
       "\n",
       "    .. versionadded:: 0.19\n",
       "\n",
       "min_impurity_split : float, (default=1e-7)\n",
       "    Threshold for early stopping in tree growth. A node will split\n",
       "    if its impurity is above the threshold, otherwise it is a leaf.\n",
       "\n",
       "    .. deprecated:: 0.19\n",
       "       ``min_impurity_split`` has been deprecated in favor of\n",
       "       ``min_impurity_decrease`` in 0.19. The default value of\n",
       "       ``min_impurity_split`` will change from 1e-7 to 0 in 0.23 and it\n",
       "       will be removed in 0.25. Use ``min_impurity_decrease`` instead.\n",
       "\n",
       "presort : deprecated, default='deprecated'\n",
       "    This parameter is deprecated and will be removed in v0.24.\n",
       "\n",
       "    .. deprecated:: 0.22\n",
       "\n",
       "ccp_alpha : non-negative float, default=0.0\n",
       "    Complexity parameter used for Minimal Cost-Complexity Pruning. The\n",
       "    subtree with the largest cost complexity that is smaller than\n",
       "    ``ccp_alpha`` will be chosen. By default, no pruning is performed. See\n",
       "    :ref:`minimal_cost_complexity_pruning` for details.\n",
       "\n",
       "    .. versionadded:: 0.22\n",
       "\n",
       "Attributes\n",
       "----------\n",
       "feature_importances_ : ndarray of shape (n_features,)\n",
       "    The feature importances.\n",
       "    The higher, the more important the feature.\n",
       "    The importance of a feature is computed as the\n",
       "    (normalized) total reduction of the criterion brought\n",
       "    by that feature. It is also known as the Gini importance [4]_.\n",
       "\n",
       "max_features_ : int\n",
       "    The inferred value of max_features.\n",
       "\n",
       "n_features_ : int\n",
       "    The number of features when ``fit`` is performed.\n",
       "\n",
       "n_outputs_ : int\n",
       "    The number of outputs when ``fit`` is performed.\n",
       "\n",
       "tree_ : Tree\n",
       "    The underlying Tree object. Please refer to\n",
       "    ``help(sklearn.tree._tree.Tree)`` for attributes of Tree object and\n",
       "    :ref:`sphx_glr_auto_examples_tree_plot_unveil_tree_structure.py`\n",
       "    for basic usage of these attributes.\n",
       "\n",
       "See Also\n",
       "--------\n",
       "DecisionTreeClassifier : A decision tree classifier.\n",
       "\n",
       "Notes\n",
       "-----\n",
       "The default values for the parameters controlling the size of the trees\n",
       "(e.g. ``max_depth``, ``min_samples_leaf``, etc.) lead to fully grown and\n",
       "unpruned trees which can potentially be very large on some data sets. To\n",
       "reduce memory consumption, the complexity and size of the trees should be\n",
       "controlled by setting those parameter values.\n",
       "\n",
       "The features are always randomly permuted at each split. Therefore,\n",
       "the best found split may vary, even with the same training data and\n",
       "``max_features=n_features``, if the improvement of the criterion is\n",
       "identical for several splits enumerated during the search of the best\n",
       "split. To obtain a deterministic behaviour during fitting,\n",
       "``random_state`` has to be fixed.\n",
       "\n",
       "References\n",
       "----------\n",
       "\n",
       ".. [1] https://en.wikipedia.org/wiki/Decision_tree_learning\n",
       "\n",
       ".. [2] L. Breiman, J. Friedman, R. Olshen, and C. Stone, \"Classification\n",
       "       and Regression Trees\", Wadsworth, Belmont, CA, 1984.\n",
       "\n",
       ".. [3] T. Hastie, R. Tibshirani and J. Friedman. \"Elements of Statistical\n",
       "       Learning\", Springer, 2009.\n",
       "\n",
       ".. [4] L. Breiman, and A. Cutler, \"Random Forests\",\n",
       "       https://www.stat.berkeley.edu/~breiman/RandomForests/cc_home.htm\n",
       "\n",
       "Examples\n",
       "--------\n",
       ">>> from sklearn.datasets import load_boston\n",
       ">>> from sklearn.model_selection import cross_val_score\n",
       ">>> from sklearn.tree import DecisionTreeRegressor\n",
       ">>> X, y = load_boston(return_X_y=True)\n",
       ">>> regressor = DecisionTreeRegressor(random_state=0)\n",
       ">>> cross_val_score(regressor, X, y, cv=10)\n",
       "...                    # doctest: +SKIP\n",
       "...\n",
       "array([ 0.61..., 0.57..., -0.34..., 0.41..., 0.75...,\n",
       "        0.07..., 0.29..., 0.33..., -1.42..., -1.77...])\n"
      ]
     },
     "metadata": {},
     "output_type": "display_data"
    }
   ],
   "source": [
    "?cart_model"
   ]
  },
  {
   "cell_type": "code",
   "execution_count": 96,
   "metadata": {},
   "outputs": [],
   "source": [
    "cart_params = {\"max_depth\": [2,3,4,5,10,20],\n",
    "              \"min_samples_split\": [2,10,5,30,50,10]}"
   ]
  },
  {
   "cell_type": "code",
   "execution_count": 97,
   "metadata": {},
   "outputs": [],
   "source": [
    "cart_model = DecisionTreeRegressor()"
   ]
  },
  {
   "cell_type": "code",
   "execution_count": 98,
   "metadata": {},
   "outputs": [],
   "source": [
    "cart_cv_model = GridSearchCV(cart_model,cart_params, cv = 10).fit(X_train, y_train)"
   ]
  },
  {
   "cell_type": "code",
   "execution_count": 99,
   "metadata": {},
   "outputs": [
    {
     "data": {
      "text/plain": [
       "{'max_depth': 4, 'min_samples_split': 50}"
      ]
     },
     "execution_count": 99,
     "metadata": {},
     "output_type": "execute_result"
    }
   ],
   "source": [
    "cart_cv_model.best_params_"
   ]
  },
  {
   "cell_type": "code",
   "execution_count": 104,
   "metadata": {},
   "outputs": [],
   "source": [
    "cart_tuned = DecisionTreeRegressor(max_depth = 4, min_samples_split = 50).fit(X_train, y_train)"
   ]
  },
  {
   "cell_type": "code",
   "execution_count": 105,
   "metadata": {},
   "outputs": [
    {
     "data": {
      "text/plain": [
       "361.0876906511434"
      ]
     },
     "execution_count": 105,
     "metadata": {},
     "output_type": "execute_result"
    }
   ],
   "source": [
    "y_pred = cart_tuned.predict(X_test)\n",
    "np.sqrt(mean_squared_error(y_test,y_pred))"
   ]
  },
  {
   "cell_type": "markdown",
   "metadata": {},
   "source": [
    "# Random Forest"
   ]
  },
  {
   "cell_type": "code",
   "execution_count": 5,
   "metadata": {},
   "outputs": [],
   "source": [
    "df = pd.read_csv(\"Hitters.csv\")\n",
    "df = df.dropna()\n",
    "dms = pd.get_dummies(df[['League', 'Division', 'NewLeague']])\n",
    "y = df[\"Salary\"]\n",
    "X_ = df.drop(['Salary', 'League', 'Division', 'NewLeague'], axis = 1).astype('float64')\n",
    "X = pd.concat([X_, dms[['League_N', 'Division_W', 'NewLeague_N']]], axis = 1)\n",
    "X_train, X_test, y_train, y_test = train_test_split(X, y, test_size = 0.25, random_state = 42)"
   ]
  },
  {
   "cell_type": "markdown",
   "metadata": {},
   "source": [
    "## Model & Tahmin"
   ]
  },
  {
   "cell_type": "code",
   "execution_count": 6,
   "metadata": {},
   "outputs": [],
   "source": [
    "rf_model = RandomForestRegressor(random_state = 42).fit(X_train, y_train)"
   ]
  },
  {
   "cell_type": "code",
   "execution_count": 7,
   "metadata": {},
   "outputs": [
    {
     "data": {
      "text/plain": [
       "RandomForestRegressor(bootstrap=True, ccp_alpha=0.0, criterion='mse',\n",
       "                      max_depth=None, max_features='auto', max_leaf_nodes=None,\n",
       "                      max_samples=None, min_impurity_decrease=0.0,\n",
       "                      min_impurity_split=None, min_samples_leaf=1,\n",
       "                      min_samples_split=2, min_weight_fraction_leaf=0.0,\n",
       "                      n_estimators=100, n_jobs=None, oob_score=False,\n",
       "                      random_state=42, verbose=0, warm_start=False)"
      ]
     },
     "execution_count": 7,
     "metadata": {},
     "output_type": "execute_result"
    }
   ],
   "source": [
    "rf_model"
   ]
  },
  {
   "cell_type": "code",
   "execution_count": 8,
   "metadata": {},
   "outputs": [
    {
     "data": {
      "text/plain": [
       "344.73852779396566"
      ]
     },
     "execution_count": 8,
     "metadata": {},
     "output_type": "execute_result"
    }
   ],
   "source": [
    "y_pred = rf_model.predict(X_test)\n",
    "np.sqrt(mean_squared_error(y_test, y_pred))"
   ]
  },
  {
   "cell_type": "markdown",
   "metadata": {},
   "source": [
    "## Model Tuning"
   ]
  },
  {
   "cell_type": "code",
   "execution_count": 9,
   "metadata": {},
   "outputs": [
    {
     "data": {
      "text/plain": [
       "RandomForestRegressor(bootstrap=True, ccp_alpha=0.0, criterion='mse',\n",
       "                      max_depth=None, max_features='auto', max_leaf_nodes=None,\n",
       "                      max_samples=None, min_impurity_decrease=0.0,\n",
       "                      min_impurity_split=None, min_samples_leaf=1,\n",
       "                      min_samples_split=2, min_weight_fraction_leaf=0.0,\n",
       "                      n_estimators=100, n_jobs=None, oob_score=False,\n",
       "                      random_state=42, verbose=0, warm_start=False)"
      ]
     },
     "execution_count": 9,
     "metadata": {},
     "output_type": "execute_result"
    }
   ],
   "source": [
    "rf_model = RandomForestRegressor(random_state = 42).fit(X_train, y_train)\n",
    "rf_model"
   ]
  },
  {
   "cell_type": "code",
   "execution_count": 12,
   "metadata": {},
   "outputs": [],
   "source": [
    "rf_params = {\"max_depth\": [5,8,10],\n",
    "            \"max_features\": [2,5,10],\n",
    "            \"n_estimators\": [200, 500, 1000, 2000],\n",
    "            \"min_samples_split\": [2, 10, 80, 100]}"
   ]
  },
  {
   "cell_type": "code",
   "execution_count": 13,
   "metadata": {},
   "outputs": [
    {
     "name": "stdout",
     "output_type": "stream",
     "text": [
      "Fitting 10 folds for each of 144 candidates, totalling 1440 fits\n"
     ]
    },
    {
     "name": "stderr",
     "output_type": "stream",
     "text": [
      "[Parallel(n_jobs=-1)]: Using backend LokyBackend with 8 concurrent workers.\n",
      "[Parallel(n_jobs=-1)]: Done  25 tasks      | elapsed:    2.5s\n",
      "[Parallel(n_jobs=-1)]: Done 146 tasks      | elapsed:   14.0s\n",
      "[Parallel(n_jobs=-1)]: Done 349 tasks      | elapsed:   34.4s\n",
      "[Parallel(n_jobs=-1)]: Done 632 tasks      | elapsed:  1.1min\n",
      "[Parallel(n_jobs=-1)]: Done 997 tasks      | elapsed:  1.8min\n",
      "[Parallel(n_jobs=-1)]: Done 1440 out of 1440 | elapsed:  2.6min finished\n"
     ]
    }
   ],
   "source": [
    "rf_cv_model = GridSearchCV(rf_model, rf_params, cv = 10, n_jobs = -1, verbose = 2).fit(X_train, y_train)"
   ]
  },
  {
   "cell_type": "code",
   "execution_count": 14,
   "metadata": {},
   "outputs": [
    {
     "data": {
      "text/plain": [
       "{'max_depth': 8,\n",
       " 'max_features': 2,\n",
       " 'min_samples_split': 2,\n",
       " 'n_estimators': 200}"
      ]
     },
     "execution_count": 14,
     "metadata": {},
     "output_type": "execute_result"
    }
   ],
   "source": [
    "rf_cv_model.best_params_"
   ]
  },
  {
   "cell_type": "code",
   "execution_count": 15,
   "metadata": {},
   "outputs": [],
   "source": [
    "rf_model = RandomForestRegressor(random_state = 42,\n",
    "                                 max_depth = 8,\n",
    "                                 max_features = 2,\n",
    "                                 min_samples_split = 2, \n",
    "                                 n_estimators = 200)\n",
    "rf_tuned = rf_model.fit(X_train, y_train)"
   ]
  },
  {
   "cell_type": "code",
   "execution_count": 16,
   "metadata": {},
   "outputs": [
    {
     "data": {
      "text/plain": [
       "RandomForestRegressor(bootstrap=True, ccp_alpha=0.0, criterion='mse',\n",
       "                      max_depth=8, max_features=2, max_leaf_nodes=None,\n",
       "                      max_samples=None, min_impurity_decrease=0.0,\n",
       "                      min_impurity_split=None, min_samples_leaf=1,\n",
       "                      min_samples_split=2, min_weight_fraction_leaf=0.0,\n",
       "                      n_estimators=200, n_jobs=None, oob_score=False,\n",
       "                      random_state=42, verbose=0, warm_start=False)"
      ]
     },
     "execution_count": 16,
     "metadata": {},
     "output_type": "execute_result"
    }
   ],
   "source": [
    "rf_tuned"
   ]
  },
  {
   "cell_type": "code",
   "execution_count": 18,
   "metadata": {},
   "outputs": [
    {
     "data": {
      "text/plain": [
       "348.2372919119422"
      ]
     },
     "execution_count": 18,
     "metadata": {},
     "output_type": "execute_result"
    }
   ],
   "source": [
    "y_pred = rf_tuned.predict(X_test)\n",
    "np.sqrt(mean_squared_error(y_test, y_pred))"
   ]
  },
  {
   "cell_type": "markdown",
   "metadata": {},
   "source": [
    "## Degisken Onem Duzeyi"
   ]
  },
  {
   "cell_type": "code",
   "execution_count": 22,
   "metadata": {},
   "outputs": [
    {
     "data": {
      "image/png": "[encoded data removed]",
      "text/plain": [
       "<Figure size 432x288 with 1 Axes>"
      ]
     },
     "metadata": {
      "needs_background": "light"
     },
     "output_type": "display_data"
    }
   ],
   "source": [
    "Importance = pd.DataFrame({'Importance': rf_tuned.feature_importances_*100}, index = X_train.columns)\n",
    "\n",
    "Importance.sort_values(by = 'Importance',\n",
    "                       axis = 0,\n",
    "                       ascending = True).plot(kind = 'barh', color = 'r')\n",
    "plt.xlabel('Variable Importance')\n",
    "plt.gca().legend_ = None"
   ]
  },
  {
   "cell_type": "markdown",
   "metadata": {},
   "source": [
    "# Gradient Boosting Machines (GBM)"
   ]
  },
  {
   "cell_type": "code",
   "execution_count": 9,
   "metadata": {},
   "outputs": [],
   "source": [
    "df = pd.read_csv(\"Hitters.csv\")\n",
    "df = df.dropna()\n",
    "dms = pd.get_dummies(df[['League', 'Division', 'NewLeague']])\n",
    "y = df[\"Salary\"]\n",
    "X_ = df.drop(['Salary', 'League', 'Division', 'NewLeague'], axis = 1).astype('float64')\n",
    "X = pd.concat([X_, dms[['League_N', 'Division_W', 'NewLeague_N']]], axis = 1)\n",
    "X_train, X_test, y_train, y_test = train_test_split(X, y, test_size = 0.25, random_state = 42)"
   ]
  },
  {
   "cell_type": "markdown",
   "metadata": {},
   "source": [
    "## Model & Tahmin"
   ]
  },
  {
   "cell_type": "code",
   "execution_count": 10,
   "metadata": {},
   "outputs": [],
   "source": [
    "gbm_model = GradientBoostingRegressor().fit(X_train,y_train)"
   ]
  },
  {
   "cell_type": "code",
   "execution_count": 11,
   "metadata": {},
   "outputs": [
    {
     "data": {
      "text/plain": [
       "GradientBoostingRegressor(alpha=0.9, ccp_alpha=0.0, criterion='friedman_mse',\n",
       "                          init=None, learning_rate=0.1, loss='ls', max_depth=3,\n",
       "                          max_features=None, max_leaf_nodes=None,\n",
       "                          min_impurity_decrease=0.0, min_impurity_split=None,\n",
       "                          min_samples_leaf=1, min_samples_split=2,\n",
       "                          min_weight_fraction_leaf=0.0, n_estimators=100,\n",
       "                          n_iter_no_change=None, presort='deprecated',\n",
       "                          random_state=None, subsample=1.0, tol=0.0001,\n",
       "                          validation_fraction=0.1, verbose=0, warm_start=False)"
      ]
     },
     "execution_count": 11,
     "metadata": {},
     "output_type": "execute_result"
    }
   ],
   "source": [
    "gbm_model"
   ]
  },
  {
   "cell_type": "code",
   "execution_count": 12,
   "metadata": {},
   "outputs": [],
   "source": [
    "y_pred = gbm_model.predict(X_test)"
   ]
  },
  {
   "cell_type": "code",
   "execution_count": 13,
   "metadata": {},
   "outputs": [
    {
     "data": {
      "text/plain": [
       "351.16056686575746"
      ]
     },
     "execution_count": 13,
     "metadata": {},
     "output_type": "execute_result"
    }
   ],
   "source": [
    "np.sqrt(mean_squared_error(y_test,y_pred))"
   ]
  },
  {
   "cell_type": "markdown",
   "metadata": {},
   "source": [
    "## Model Tuning"
   ]
  },
  {
   "cell_type": "code",
   "execution_count": 14,
   "metadata": {},
   "outputs": [
    {
     "data": {
      "text/plain": [
       "GradientBoostingRegressor(alpha=0.9, ccp_alpha=0.0, criterion='friedman_mse',\n",
       "                          init=None, learning_rate=0.1, loss='ls', max_depth=3,\n",
       "                          max_features=None, max_leaf_nodes=None,\n",
       "                          min_impurity_decrease=0.0, min_impurity_split=None,\n",
       "                          min_samples_leaf=1, min_samples_split=2,\n",
       "                          min_weight_fraction_leaf=0.0, n_estimators=100,\n",
       "                          n_iter_no_change=None, presort='deprecated',\n",
       "                          random_state=None, subsample=1.0, tol=0.0001,\n",
       "                          validation_fraction=0.1, verbose=0, warm_start=False)"
      ]
     },
     "execution_count": 14,
     "metadata": {},
     "output_type": "execute_result"
    }
   ],
   "source": [
    "gbm_model = GradientBoostingRegressor().fit(X_train,y_train)\n",
    "gbm_model"
   ]
  },
  {
   "cell_type": "code",
   "execution_count": 15,
   "metadata": {
    "collapsed": true,
    "jupyter": {
     "outputs_hidden": true
    }
   },
   "outputs": [
    {
     "data": {
      "text/plain": [
       "\u001b[1;31mType:\u001b[0m        GradientBoostingRegressor\n",
       "\u001b[1;31mString form:\u001b[0m\n",
       "GradientBoostingRegressor(alpha=0.9, ccp_alpha=0.0, criterion='friedman_mse',\n",
       "           <...> =1.0, tol=0.0001,\n",
       "           validation_fraction=0.1, verbose=0, warm_start=False)\n",
       "\u001b[1;31mLength:\u001b[0m      100\n",
       "\u001b[1;31mFile:\u001b[0m        c:\\users\\efe\\anaconda3\\lib\\site-packages\\sklearn\\ensemble\\_gb.py\n",
       "\u001b[1;31mDocstring:\u001b[0m  \n",
       "Gradient Boosting for regression.\n",
       "\n",
       "GB builds an additive model in a forward stage-wise fashion;\n",
       "it allows for the optimization of arbitrary differentiable loss functions.\n",
       "In each stage a regression tree is fit on the negative gradient of the\n",
       "given loss function.\n",
       "\n",
       "Read more in the :ref:`User Guide <gradient_boosting>`.\n",
       "\n",
       "Parameters\n",
       "----------\n",
       "loss : {'ls', 'lad', 'huber', 'quantile'}, optional (default='ls')\n",
       "    loss function to be optimized. 'ls' refers to least squares\n",
       "    regression. 'lad' (least absolute deviation) is a highly robust\n",
       "    loss function solely based on order information of the input\n",
       "    variables. 'huber' is a combination of the two. 'quantile'\n",
       "    allows quantile regression (use `alpha` to specify the quantile).\n",
       "\n",
       "learning_rate : float, optional (default=0.1)\n",
       "    learning rate shrinks the contribution of each tree by `learning_rate`.\n",
       "    There is a trade-off between learning_rate and n_estimators.\n",
       "\n",
       "n_estimators : int (default=100)\n",
       "    The number of boosting stages to perform. Gradient boosting\n",
       "    is fairly robust to over-fitting so a large number usually\n",
       "    results in better performance.\n",
       "\n",
       "subsample : float, optional (default=1.0)\n",
       "    The fraction of samples to be used for fitting the individual base\n",
       "    learners. If smaller than 1.0 this results in Stochastic Gradient\n",
       "    Boosting. `subsample` interacts with the parameter `n_estimators`.\n",
       "    Choosing `subsample < 1.0` leads to a reduction of variance\n",
       "    and an increase in bias.\n",
       "\n",
       "criterion : string, optional (default=\"friedman_mse\")\n",
       "    The function to measure the quality of a split. Supported criteria\n",
       "    are \"friedman_mse\" for the mean squared error with improvement\n",
       "    score by Friedman, \"mse\" for mean squared error, and \"mae\" for\n",
       "    the mean absolute error. The default value of \"friedman_mse\" is\n",
       "    generally the best as it can provide a better approximation in\n",
       "    some cases.\n",
       "\n",
       "    .. versionadded:: 0.18\n",
       "\n",
       "min_samples_split : int, float, optional (default=2)\n",
       "    The minimum number of samples required to split an internal node:\n",
       "\n",
       "    - If int, then consider `min_samples_split` as the minimum number.\n",
       "    - If float, then `min_samples_split` is a fraction and\n",
       "      `ceil(min_samples_split * n_samples)` are the minimum\n",
       "      number of samples for each split.\n",
       "\n",
       "    .. versionchanged:: 0.18\n",
       "       Added float values for fractions.\n",
       "\n",
       "min_samples_leaf : int, float, optional (default=1)\n",
       "    The minimum number of samples required to be at a leaf node.\n",
       "    A split point at any depth will only be considered if it leaves at\n",
       "    least ``min_samples_leaf`` training samples in each of the left and\n",
       "    right branches.  This may have the effect of smoothing the model,\n",
       "    especially in regression.\n",
       "\n",
       "    - If int, then consider `min_samples_leaf` as the minimum number.\n",
       "    - If float, then `min_samples_leaf` is a fraction and\n",
       "      `ceil(min_samples_leaf * n_samples)` are the minimum\n",
       "      number of samples for each node.\n",
       "\n",
       "    .. versionchanged:: 0.18\n",
       "       Added float values for fractions.\n",
       "\n",
       "min_weight_fraction_leaf : float, optional (default=0.)\n",
       "    The minimum weighted fraction of the sum total of weights (of all\n",
       "    the input samples) required to be at a leaf node. Samples have\n",
       "    equal weight when sample_weight is not provided.\n",
       "\n",
       "max_depth : integer, optional (default=3)\n",
       "    maximum depth of the individual regression estimators. The maximum\n",
       "    depth limits the number of nodes in the tree. Tune this parameter\n",
       "    for best performance; the best value depends on the interaction\n",
       "    of the input variables.\n",
       "\n",
       "min_impurity_decrease : float, optional (default=0.)\n",
       "    A node will be split if this split induces a decrease of the impurity\n",
       "    greater than or equal to this value.\n",
       "\n",
       "    The weighted impurity decrease equation is the following::\n",
       "\n",
       "        N_t / N * (impurity - N_t_R / N_t * right_impurity\n",
       "                            - N_t_L / N_t * left_impurity)\n",
       "\n",
       "    where ``N`` is the total number of samples, ``N_t`` is the number of\n",
       "    samples at the current node, ``N_t_L`` is the number of samples in the\n",
       "    left child, and ``N_t_R`` is the number of samples in the right child.\n",
       "\n",
       "    ``N``, ``N_t``, ``N_t_R`` and ``N_t_L`` all refer to the weighted sum,\n",
       "    if ``sample_weight`` is passed.\n",
       "\n",
       "    .. versionadded:: 0.19\n",
       "\n",
       "min_impurity_split : float, (default=1e-7)\n",
       "    Threshold for early stopping in tree growth. A node will split\n",
       "    if its impurity is above the threshold, otherwise it is a leaf.\n",
       "\n",
       "    .. deprecated:: 0.19\n",
       "       ``min_impurity_split`` has been deprecated in favor of\n",
       "       ``min_impurity_decrease`` in 0.19. The default value of\n",
       "       ``min_impurity_split`` will change from 1e-7 to 0 in 0.23 and it\n",
       "       will be removed in 0.25. Use ``min_impurity_decrease`` instead.\n",
       "\n",
       "init : estimator or 'zero', optional (default=None)\n",
       "    An estimator object that is used to compute the initial predictions.\n",
       "    ``init`` has to provide :term:`fit` and :term:`predict`. If 'zero', the\n",
       "    initial raw predictions are set to zero. By default a\n",
       "    ``DummyEstimator`` is used, predicting either the average target value\n",
       "    (for loss='ls'), or a quantile for the other losses.\n",
       "\n",
       "random_state : int, RandomState instance or None, optional (default=None)\n",
       "    If int, random_state is the seed used by the random number generator;\n",
       "    If RandomState instance, random_state is the random number generator;\n",
       "    If None, the random number generator is the RandomState instance used\n",
       "    by `np.random`.\n",
       "\n",
       "max_features : int, float, string or None, optional (default=None)\n",
       "    The number of features to consider when looking for the best split:\n",
       "\n",
       "    - If int, then consider `max_features` features at each split.\n",
       "    - If float, then `max_features` is a fraction and\n",
       "      `int(max_features * n_features)` features are considered at each\n",
       "      split.\n",
       "    - If \"auto\", then `max_features=n_features`.\n",
       "    - If \"sqrt\", then `max_features=sqrt(n_features)`.\n",
       "    - If \"log2\", then `max_features=log2(n_features)`.\n",
       "    - If None, then `max_features=n_features`.\n",
       "\n",
       "    Choosing `max_features < n_features` leads to a reduction of variance\n",
       "    and an increase in bias.\n",
       "\n",
       "    Note: the search for a split does not stop until at least one\n",
       "    valid partition of the node samples is found, even if it requires to\n",
       "    effectively inspect more than ``max_features`` features.\n",
       "\n",
       "alpha : float (default=0.9)\n",
       "    The alpha-quantile of the huber loss function and the quantile\n",
       "    loss function. Only if ``loss='huber'`` or ``loss='quantile'``.\n",
       "\n",
       "verbose : int, default: 0\n",
       "    Enable verbose output. If 1 then it prints progress and performance\n",
       "    once in a while (the more trees the lower the frequency). If greater\n",
       "    than 1 then it prints progress and performance for every tree.\n",
       "\n",
       "max_leaf_nodes : int or None, optional (default=None)\n",
       "    Grow trees with ``max_leaf_nodes`` in best-first fashion.\n",
       "    Best nodes are defined as relative reduction in impurity.\n",
       "    If None then unlimited number of leaf nodes.\n",
       "\n",
       "warm_start : bool, default: False\n",
       "    When set to ``True``, reuse the solution of the previous call to fit\n",
       "    and add more estimators to the ensemble, otherwise, just erase the\n",
       "    previous solution. See :term:`the Glossary <warm_start>`.\n",
       "\n",
       "presort : deprecated, default='deprecated'\n",
       "    This parameter is deprecated and will be removed in v0.24.\n",
       "\n",
       "    .. deprecated :: 0.22\n",
       "\n",
       "validation_fraction : float, optional, default 0.1\n",
       "    The proportion of training data to set aside as validation set for\n",
       "    early stopping. Must be between 0 and 1.\n",
       "    Only used if ``n_iter_no_change`` is set to an integer.\n",
       "\n",
       "    .. versionadded:: 0.20\n",
       "\n",
       "n_iter_no_change : int, default None\n",
       "    ``n_iter_no_change`` is used to decide if early stopping will be used\n",
       "    to terminate training when validation score is not improving. By\n",
       "    default it is set to None to disable early stopping. If set to a\n",
       "    number, it will set aside ``validation_fraction`` size of the training\n",
       "    data as validation and terminate training when validation score is not\n",
       "    improving in all of the previous ``n_iter_no_change`` numbers of\n",
       "    iterations.\n",
       "\n",
       "    .. versionadded:: 0.20\n",
       "\n",
       "tol : float, optional, default 1e-4\n",
       "    Tolerance for the early stopping. When the loss is not improving\n",
       "    by at least tol for ``n_iter_no_change`` iterations (if set to a\n",
       "    number), the training stops.\n",
       "\n",
       "    .. versionadded:: 0.20\n",
       "\n",
       "ccp_alpha : non-negative float, optional (default=0.0)\n",
       "    Complexity parameter used for Minimal Cost-Complexity Pruning. The\n",
       "    subtree with the largest cost complexity that is smaller than\n",
       "    ``ccp_alpha`` will be chosen. By default, no pruning is performed. See\n",
       "    :ref:`minimal_cost_complexity_pruning` for details.\n",
       "\n",
       "    .. versionadded:: 0.22\n",
       "\n",
       "Attributes\n",
       "----------\n",
       "feature_importances_ : array, shape (n_features,)\n",
       "    The feature importances (the higher, the more important the feature).\n",
       "\n",
       "oob_improvement_ : array, shape (n_estimators,)\n",
       "    The improvement in loss (= deviance) on the out-of-bag samples\n",
       "    relative to the previous iteration.\n",
       "    ``oob_improvement_[0]`` is the improvement in\n",
       "    loss of the first stage over the ``init`` estimator.\n",
       "    Only available if ``subsample < 1.0``\n",
       "\n",
       "train_score_ : array, shape (n_estimators,)\n",
       "    The i-th score ``train_score_[i]`` is the deviance (= loss) of the\n",
       "    model at iteration ``i`` on the in-bag sample.\n",
       "    If ``subsample == 1`` this is the deviance on the training data.\n",
       "\n",
       "loss_ : LossFunction\n",
       "    The concrete ``LossFunction`` object.\n",
       "\n",
       "init_ : estimator\n",
       "    The estimator that provides the initial predictions.\n",
       "    Set via the ``init`` argument or ``loss.init_estimator``.\n",
       "\n",
       "estimators_ : array of DecisionTreeRegressor, shape (n_estimators, 1)\n",
       "    The collection of fitted sub-estimators.\n",
       "\n",
       "Notes\n",
       "-----\n",
       "The features are always randomly permuted at each split. Therefore,\n",
       "the best found split may vary, even with the same training data and\n",
       "``max_features=n_features``, if the improvement of the criterion is\n",
       "identical for several splits enumerated during the search of the best\n",
       "split. To obtain a deterministic behaviour during fitting,\n",
       "``random_state`` has to be fixed.\n",
       "\n",
       "See also\n",
       "--------\n",
       "sklearn.ensemble.HistGradientBoostingRegressor,\n",
       "sklearn.tree.DecisionTreeRegressor, RandomForestRegressor\n",
       "\n",
       "References\n",
       "----------\n",
       "J. Friedman, Greedy Function Approximation: A Gradient Boosting\n",
       "Machine, The Annals of Statistics, Vol. 29, No. 5, 2001.\n",
       "\n",
       "J. Friedman, Stochastic Gradient Boosting, 1999\n",
       "\n",
       "T. Hastie, R. Tibshirani and J. Friedman.\n",
       "Elements of Statistical Learning Ed. 2, Springer, 2009.\n"
      ]
     },
     "metadata": {},
     "output_type": "display_data"
    }
   ],
   "source": [
    "?gbm_model"
   ]
  },
  {
   "cell_type": "code",
   "execution_count": 20,
   "metadata": {},
   "outputs": [],
   "source": [
    "gbm_params = {\"learning_rate\": [0.001,0.1,0.01],\n",
    "             \"max_depth\": [3,5,8],\n",
    "             \"n_estimators\": [100,200,500],\n",
    "              \"subsample\": [1,0.5,0.8],\n",
    "             \"loss\": [\"ls\",\"lad\",\"quantile\"]}"
   ]
  },
  {
   "cell_type": "code",
   "execution_count": 21,
   "metadata": {},
   "outputs": [],
   "source": [
    "gbm_model = GradientBoostingRegressor().fit(X_train,y_train)"
   ]
  },
  {
   "cell_type": "code",
   "execution_count": 22,
   "metadata": {},
   "outputs": [
    {
     "name": "stdout",
     "output_type": "stream",
     "text": [
      "Fitting 10 folds for each of 243 candidates, totalling 2430 fits\n"
     ]
    },
    {
     "name": "stderr",
     "output_type": "stream",
     "text": [
      "[Parallel(n_jobs=-1)]: Using backend LokyBackend with 8 concurrent workers.\n",
      "[Parallel(n_jobs=-1)]: Done  34 tasks      | elapsed:    0.3s\n",
      "[Parallel(n_jobs=-1)]: Done 378 tasks      | elapsed:    9.7s\n",
      "[Parallel(n_jobs=-1)]: Done 581 tasks      | elapsed:   20.1s\n",
      "[Parallel(n_jobs=-1)]: Done 872 tasks      | elapsed:   31.0s\n",
      "[Parallel(n_jobs=-1)]: Done 1437 tasks      | elapsed:   55.5s\n",
      "[Parallel(n_jobs=-1)]: Done 2020 tasks      | elapsed:  1.3min\n",
      "[Parallel(n_jobs=-1)]: Done 2430 out of 2430 | elapsed:  1.7min finished\n"
     ]
    }
   ],
   "source": [
    "gbm_cv_model = GridSearchCV(gbm_model, gbm_params, cv = 10, n_jobs = -1, verbose = 2).fit(X_train, y_train)"
   ]
  },
  {
   "cell_type": "code",
   "execution_count": 23,
   "metadata": {},
   "outputs": [
    {
     "data": {
      "text/plain": [
       "{'learning_rate': 0.1,\n",
       " 'loss': 'lad',\n",
       " 'max_depth': 3,\n",
       " 'n_estimators': 100,\n",
       " 'subsample': 0.5}"
      ]
     },
     "execution_count": 23,
     "metadata": {},
     "output_type": "execute_result"
    }
   ],
   "source": [
    "gbm_cv_model.best_params_"
   ]
  },
  {
   "cell_type": "code",
   "execution_count": 27,
   "metadata": {},
   "outputs": [],
   "source": [
    "gbm_tuned = GradientBoostingRegressor(learning_rate = 0.1,\n",
    "                                     loss = \"lad\",\n",
    "                                     max_depth = 3,\n",
    "                                     n_estimators = 100,\n",
    "                                     subsample = 0.5).fit(X_train,y_train)"
   ]
  },
  {
   "cell_type": "code",
   "execution_count": 28,
   "metadata": {},
   "outputs": [
    {
     "data": {
      "text/plain": [
       "347.17888044850844"
      ]
     },
     "execution_count": 28,
     "metadata": {},
     "output_type": "execute_result"
    }
   ],
   "source": [
    "y_pred = gbm_tuned.predict(X_test)\n",
    "np.sqrt(mean_squared_error(y_test, y_pred))"
   ]
  },
  {
   "cell_type": "markdown",
   "metadata": {},
   "source": [
    "## Degisken Onem Duzeyi"
   ]
  },
  {
   "cell_type": "code",
   "execution_count": 29,
   "metadata": {},
   "outputs": [
    {
     "data": {
      "image/png": "[encoded data removed]",
      "text/plain": [
       "<Figure size 432x288 with 1 Axes>"
      ]
     },
     "metadata": {
      "needs_background": "light"
     },
     "output_type": "display_data"
    }
   ],
   "source": [
    "Importance = pd.DataFrame({'Importance': gbm_tuned.feature_importances_*100}, index = X_train.columns)\n",
    "\n",
    "Importance.sort_values(by = 'Importance',\n",
    "                       axis = 0,\n",
    "                       ascending = True).plot(kind = 'barh', color = 'r')\n",
    "plt.xlabel('Variable Importance')\n",
    "plt.gca().legend_ = None"
   ]
  },
  {
   "cell_type": "markdown",
   "metadata": {},
   "source": [
    "# XGBoost"
   ]
  },
  {
   "cell_type": "code",
   "execution_count": 30,
   "metadata": {},
   "outputs": [],
   "source": [
    "df = pd.read_csv(\"Hitters.csv\")\n",
    "df = df.dropna()\n",
    "dms = pd.get_dummies(df[['League', 'Division', 'NewLeague']])\n",
    "y = df[\"Salary\"]\n",
    "X_ = df.drop(['Salary', 'League', 'Division', 'NewLeague'], axis = 1).astype('float64')\n",
    "X = pd.concat([X_, dms[['League_N', 'Division_W', 'NewLeague_N']]], axis = 1)\n",
    "X_train, X_test, y_train, y_test = train_test_split(X, y, test_size = 0.25, random_state = 42)"
   ]
  },
  {
   "cell_type": "markdown",
   "metadata": {},
   "source": [
    "## Model & Tahmin"
   ]
  },
  {
   "cell_type": "code",
   "execution_count": 31,
   "metadata": {
    "collapsed": true,
    "jupyter": {
     "outputs_hidden": true
    }
   },
   "outputs": [
    {
     "name": "stdout",
     "output_type": "stream",
     "text": [
      "Collecting xgboost\n",
      "  Downloading xgboost-1.0.2-py3-none-win_amd64.whl (24.6 MB)\n",
      "Requirement already satisfied: numpy in c:\\users\\efe\\anaconda3\\lib\\site-packages (from xgboost) (1.18.1)\n",
      "Requirement already satisfied: scipy in c:\\users\\efe\\anaconda3\\lib\\site-packages (from xgboost) (1.4.1)\n",
      "Installing collected packages: xgboost\n",
      "Successfully installed xgboost-1.0.2\n"
     ]
    }
   ],
   "source": [
    "!pip install xgboost"
   ]
  },
  {
   "cell_type": "code",
   "execution_count": 13,
   "metadata": {},
   "outputs": [],
   "source": [
    "import xgboost\n",
    "from xgboost import XGBRegressor"
   ]
  },
  {
   "cell_type": "code",
   "execution_count": 35,
   "metadata": {},
   "outputs": [],
   "source": [
    "xgb = XGBRegressor().fit(X_train,y_train)"
   ]
  },
  {
   "cell_type": "code",
   "execution_count": 36,
   "metadata": {},
   "outputs": [
    {
     "data": {
      "text/plain": [
       "XGBRegressor(base_score=0.5, booster=None, colsample_bylevel=1,\n",
       "             colsample_bynode=1, colsample_bytree=1, gamma=0, gpu_id=-1,\n",
       "             importance_type='gain', interaction_constraints=None,\n",
       "             learning_rate=0.300000012, max_delta_step=0, max_depth=6,\n",
       "             min_child_weight=1, missing=nan, monotone_constraints=None,\n",
       "             n_estimators=100, n_jobs=0, num_parallel_tree=1,\n",
       "             objective='reg:squarederror', random_state=0, reg_alpha=0,\n",
       "             reg_lambda=1, scale_pos_weight=1, subsample=1, tree_method=None,\n",
       "             validate_parameters=False, verbosity=None)"
      ]
     },
     "execution_count": 36,
     "metadata": {},
     "output_type": "execute_result"
    }
   ],
   "source": [
    "xgb"
   ]
  },
  {
   "cell_type": "code",
   "execution_count": 37,
   "metadata": {},
   "outputs": [],
   "source": [
    "y_pred = xgb.predict(X_test)"
   ]
  },
  {
   "cell_type": "code",
   "execution_count": 38,
   "metadata": {},
   "outputs": [
    {
     "data": {
      "text/plain": [
       "355.4651481224188"
      ]
     },
     "execution_count": 38,
     "metadata": {},
     "output_type": "execute_result"
    }
   ],
   "source": [
    "np.sqrt(mean_squared_error(y_test, y_pred))"
   ]
  },
  {
   "cell_type": "markdown",
   "metadata": {},
   "source": [
    "## Model Tuning"
   ]
  },
  {
   "cell_type": "code",
   "execution_count": 40,
   "metadata": {},
   "outputs": [
    {
     "data": {
      "text/plain": [
       "XGBRegressor(base_score=None, booster=None, colsample_bylevel=None,\n",
       "             colsample_bynode=None, colsample_bytree=None, gamma=None,\n",
       "             gpu_id=None, importance_type='gain', interaction_constraints=None,\n",
       "             learning_rate=None, max_delta_step=None, max_depth=None,\n",
       "             min_child_weight=None, missing=nan, monotone_constraints=None,\n",
       "             n_estimators=100, n_jobs=None, num_parallel_tree=None,\n",
       "             objective='reg:squarederror', random_state=None, reg_alpha=None,\n",
       "             reg_lambda=None, scale_pos_weight=None, subsample=None,\n",
       "             tree_method=None, validate_parameters=False, verbosity=None)"
      ]
     },
     "execution_count": 40,
     "metadata": {},
     "output_type": "execute_result"
    }
   ],
   "source": [
    "xgb = XGBRegressor()\n",
    "xgb"
   ]
  },
  {
   "cell_type": "code",
   "execution_count": 41,
   "metadata": {},
   "outputs": [],
   "source": [
    "xgb_params = {\"learning_rate\": [0.1,0.01,0.5],\n",
    "             \"max_depth\": [2,3,4,5,8],\n",
    "             \"n_estimators\": [100,200,500,1000],\n",
    "              \"colsample_bytree\": [0.4,0.7,1]}"
   ]
  },
  {
   "cell_type": "code",
   "execution_count": 42,
   "metadata": {},
   "outputs": [
    {
     "name": "stdout",
     "output_type": "stream",
     "text": [
      "Fitting 10 folds for each of 180 candidates, totalling 1800 fits\n"
     ]
    },
    {
     "name": "stderr",
     "output_type": "stream",
     "text": [
      "[Parallel(n_jobs=-1)]: Using backend LokyBackend with 8 concurrent workers.\n",
      "[Parallel(n_jobs=-1)]: Done  25 tasks      | elapsed:    1.2s\n",
      "[Parallel(n_jobs=-1)]: Done 408 tasks      | elapsed:    5.1s\n",
      "[Parallel(n_jobs=-1)]: Done 1220 tasks      | elapsed:   14.1s\n",
      "[Parallel(n_jobs=-1)]: Done 1800 out of 1800 | elapsed:   22.9s finished\n"
     ]
    }
   ],
   "source": [
    "xgb_cv_model = GridSearchCV(xgb,xgb_params, cv = 10, n_jobs = -1, verbose = 2).fit(X_train, y_train)"
   ]
  },
  {
   "cell_type": "code",
   "execution_count": 43,
   "metadata": {},
   "outputs": [
    {
     "data": {
      "text/plain": [
       "{'colsample_bytree': 0.4,\n",
       " 'learning_rate': 0.1,\n",
       " 'max_depth': 2,\n",
       " 'n_estimators': 1000}"
      ]
     },
     "execution_count": 43,
     "metadata": {},
     "output_type": "execute_result"
    }
   ],
   "source": [
    "xgb_cv_model.best_params_"
   ]
  },
  {
   "cell_type": "code",
   "execution_count": 47,
   "metadata": {},
   "outputs": [],
   "source": [
    "xgb_tuned = XGBRegressor(colsample_bytree = 0.4,\n",
    "                         learning_rate = 0.1,\n",
    "                         max_depth = 2,\n",
    "                         n_estimators = 1000).fit(X_train,y_train)"
   ]
  },
  {
   "cell_type": "code",
   "execution_count": 48,
   "metadata": {},
   "outputs": [],
   "source": [
    "y_pred = xgb_tuned.predict(X_test)"
   ]
  },
  {
   "cell_type": "code",
   "execution_count": 49,
   "metadata": {},
   "outputs": [
    {
     "data": {
      "text/plain": [
       "367.8515297956715"
      ]
     },
     "execution_count": 49,
     "metadata": {},
     "output_type": "execute_result"
    }
   ],
   "source": [
    "np.sqrt(mean_squared_error(y_test, y_pred))"
   ]
  },
  {
   "cell_type": "markdown",
   "metadata": {},
   "source": [
    "# Light GBM"
   ]
  },
  {
   "cell_type": "code",
   "execution_count": 50,
   "metadata": {},
   "outputs": [],
   "source": [
    "df = pd.read_csv(\"Hitters.csv\")\n",
    "df = df.dropna()\n",
    "dms = pd.get_dummies(df[['League', 'Division', 'NewLeague']])\n",
    "y = df[\"Salary\"]\n",
    "X_ = df.drop(['Salary', 'League', 'Division', 'NewLeague'], axis = 1).astype('float64')\n",
    "X = pd.concat([X_, dms[['League_N', 'Division_W', 'NewLeague_N']]], axis = 1)\n",
    "X_train, X_test, y_train, y_test = train_test_split(X, y, test_size = 0.25, random_state = 42)"
   ]
  },
  {
   "cell_type": "code",
   "execution_count": 51,
   "metadata": {},
   "outputs": [
    {
     "name": "stdout",
     "output_type": "stream",
     "text": [
      "Collecting lightgbm\n",
      "  Downloading lightgbm-2.3.1-py2.py3-none-win_amd64.whl (544 kB)\n",
      "Requirement already satisfied: scikit-learn in c:\\users\\efe\\anaconda3\\lib\\site-packages (from lightgbm) (0.22.1)\n",
      "Requirement already satisfied: scipy in c:\\users\\efe\\anaconda3\\lib\\site-packages (from lightgbm) (1.4.1)\n",
      "Requirement already satisfied: numpy in c:\\users\\efe\\anaconda3\\lib\\site-packages (from lightgbm) (1.18.1)\n",
      "Requirement already satisfied: joblib>=0.11 in c:\\users\\efe\\anaconda3\\lib\\site-packages (from scikit-learn->lightgbm) (0.14.1)\n",
      "Installing collected packages: lightgbm\n",
      "Successfully installed lightgbm-2.3.1\n"
     ]
    }
   ],
   "source": [
    "!pip install lightgbm"
   ]
  },
  {
   "cell_type": "code",
   "execution_count": 52,
   "metadata": {
    "collapsed": true,
    "jupyter": {
     "outputs_hidden": true
    }
   },
   "outputs": [
    {
     "name": "stdout",
     "output_type": "stream",
     "text": [
      "Collecting package metadata (current_repodata.json): ...working... done\n",
      "Solving environment: ...working... done\n",
      "\n",
      "## Package Plan ##\n",
      "\n",
      "  environment location: C:\\Users\\EFE\\anaconda3\n",
      "\n",
      "  added / updated specs:\n",
      "    - lightgbm\n",
      "\n",
      "\n",
      "The following packages will be downloaded:\n",
      "\n",
      "    package                    |            build\n",
      "    ---------------------------|-----------------\n",
      "    conda-4.8.3                |   py37hc8dfbb8_1         3.1 MB  conda-forge\n",
      "    lightgbm-2.3.1             |   py37h6538335_0         559 KB  conda-forge\n",
      "    python_abi-3.7             |          1_cp37m           4 KB  conda-forge\n",
      "    ------------------------------------------------------------\n",
      "                                           Total:         3.6 MB\n",
      "\n",
      "The following NEW packages will be INSTALLED:\n",
      "\n",
      "  lightgbm           conda-forge/win-64::lightgbm-2.3.1-py37h6538335_0\n",
      "  python_abi         conda-forge/win-64::python_abi-3.7-1_cp37m\n",
      "\n",
      "The following packages will be UPDATED:\n",
      "\n",
      "  conda                       pkgs/main::conda-4.8.2-py37_0 --> conda-forge::conda-4.8.3-py37hc8dfbb8_1\n",
      "\n",
      "\n",
      "\n",
      "Downloading and Extracting Packages\n",
      "\n",
      "conda-4.8.3          | 3.1 MB    |            |   0% \n",
      "conda-4.8.3          | 3.1 MB    |            |   1% \n",
      "conda-4.8.3          | 3.1 MB    | #5         |  16% \n",
      "conda-4.8.3          | 3.1 MB    | ######2    |  63% \n",
      "conda-4.8.3          | 3.1 MB    | ########## | 100% \n",
      "\n",
      "python_abi-3.7       | 4 KB      |            |   0% \n",
      "python_abi-3.7       | 4 KB      | ########## | 100% \n",
      "\n",
      "lightgbm-2.3.1       | 559 KB    |            |   0% \n",
      "lightgbm-2.3.1       | 559 KB    | 2          |   3% \n",
      "lightgbm-2.3.1       | 559 KB    | ########## | 100% \n",
      "Preparing transaction: ...working... done\n",
      "Verifying transaction: ...working... done\n",
      "Executing transaction: ...working... done\n",
      "\n",
      "Note: you may need to restart the kernel to use updated packages.\n"
     ]
    },
    {
     "name": "stderr",
     "output_type": "stream",
     "text": [
      "\n",
      "\n",
      "==> WARNING: A newer version of conda exists. <==\n",
      "  current version: 4.8.2\n",
      "  latest version: 4.8.3\n",
      "\n",
      "Please update conda by running\n",
      "\n",
      "    $ conda update -n base -c defaults conda\n",
      "\n",
      "\n"
     ]
    }
   ],
   "source": [
    "#conda install -c conda-forge lightgbm"
   ]
  },
  {
   "cell_type": "code",
   "execution_count": 10,
   "metadata": {},
   "outputs": [],
   "source": [
    "from lightgbm import LGBMRegressor"
   ]
  },
  {
   "cell_type": "markdown",
   "metadata": {},
   "source": [
    "## Model & Tahmin"
   ]
  },
  {
   "cell_type": "code",
   "execution_count": 56,
   "metadata": {},
   "outputs": [],
   "source": [
    "lgb_model = LGBMRegressor().fit(X_train, y_train)"
   ]
  },
  {
   "cell_type": "code",
   "execution_count": 57,
   "metadata": {},
   "outputs": [
    {
     "data": {
      "text/plain": [
       "LGBMRegressor(boosting_type='gbdt', class_weight=None, colsample_bytree=1.0,\n",
       "              importance_type='split', learning_rate=0.1, max_depth=-1,\n",
       "              min_child_samples=20, min_child_weight=0.001, min_split_gain=0.0,\n",
       "              n_estimators=100, n_jobs=-1, num_leaves=31, objective=None,\n",
       "              random_state=None, reg_alpha=0.0, reg_lambda=0.0, silent=True,\n",
       "              subsample=1.0, subsample_for_bin=200000, subsample_freq=0)"
      ]
     },
     "execution_count": 57,
     "metadata": {},
     "output_type": "execute_result"
    }
   ],
   "source": [
    "lgb_model"
   ]
  },
  {
   "cell_type": "code",
   "execution_count": 59,
   "metadata": {},
   "outputs": [],
   "source": [
    "y_pred = lgb_model.predict(X_test)"
   ]
  },
  {
   "cell_type": "code",
   "execution_count": 60,
   "metadata": {},
   "outputs": [
    {
     "data": {
      "text/plain": [
       "363.8712087611089"
      ]
     },
     "execution_count": 60,
     "metadata": {},
     "output_type": "execute_result"
    }
   ],
   "source": [
    "np.sqrt(mean_squared_error(y_test, y_pred))"
   ]
  },
  {
   "cell_type": "markdown",
   "metadata": {},
   "source": [
    "## Model Tuning"
   ]
  },
  {
   "cell_type": "code",
   "execution_count": 61,
   "metadata": {},
   "outputs": [
    {
     "data": {
      "text/plain": [
       "LGBMRegressor(boosting_type='gbdt', class_weight=None, colsample_bytree=1.0,\n",
       "              importance_type='split', learning_rate=0.1, max_depth=-1,\n",
       "              min_child_samples=20, min_child_weight=0.001, min_split_gain=0.0,\n",
       "              n_estimators=100, n_jobs=-1, num_leaves=31, objective=None,\n",
       "              random_state=None, reg_alpha=0.0, reg_lambda=0.0, silent=True,\n",
       "              subsample=1.0, subsample_for_bin=200000, subsample_freq=0)"
      ]
     },
     "execution_count": 61,
     "metadata": {},
     "output_type": "execute_result"
    }
   ],
   "source": [
    "lgb_model = LGBMRegressor()\n",
    "lgb_model"
   ]
  },
  {
   "cell_type": "code",
   "execution_count": 62,
   "metadata": {},
   "outputs": [],
   "source": [
    "lgbm_params = {\"learning_rate\": [0.01,0.1,0.5,1],\n",
    "               \"n_estimators\": [20,40,100,200,500,1000],\n",
    "               \"max_depth\": [1,2,3,4,5,6,7,8,9,10]}"
   ]
  },
  {
   "cell_type": "code",
   "execution_count": 63,
   "metadata": {},
   "outputs": [
    {
     "name": "stdout",
     "output_type": "stream",
     "text": [
      "Fitting 10 folds for each of 240 candidates, totalling 2400 fits\n"
     ]
    },
    {
     "name": "stderr",
     "output_type": "stream",
     "text": [
      "[Parallel(n_jobs=-1)]: Using backend LokyBackend with 8 concurrent workers.\n",
      "[Parallel(n_jobs=-1)]: Done  25 tasks      | elapsed:    0.8s\n",
      "[Parallel(n_jobs=-1)]: Done 1192 tasks      | elapsed:    6.5s\n",
      "[Parallel(n_jobs=-1)]: Done 2400 out of 2400 | elapsed:   13.0s finished\n"
     ]
    }
   ],
   "source": [
    "lgbm_cv_model = GridSearchCV(lgb_model,lgbm_params, cv = 10, n_jobs = -1, verbose = 2).fit(X_train, y_train)"
   ]
  },
  {
   "cell_type": "code",
   "execution_count": 65,
   "metadata": {},
   "outputs": [
    {
     "data": {
      "text/plain": [
       "{'learning_rate': 0.1, 'max_depth': 6, 'n_estimators': 20}"
      ]
     },
     "execution_count": 65,
     "metadata": {},
     "output_type": "execute_result"
    }
   ],
   "source": [
    "lgbm_cv_model.best_params_"
   ]
  },
  {
   "cell_type": "code",
   "execution_count": 66,
   "metadata": {},
   "outputs": [],
   "source": [
    "lgbm_tuned = LGBMRegressor(learning_rate = 0.1,\n",
    "                           max_depth = 6,\n",
    "                           n_estimators = 20).fit(X_train,y_train)"
   ]
  },
  {
   "cell_type": "code",
   "execution_count": 69,
   "metadata": {},
   "outputs": [],
   "source": [
    "y_pred = lgbm_tuned.predict(X_test)"
   ]
  },
  {
   "cell_type": "code",
   "execution_count": 70,
   "metadata": {},
   "outputs": [
    {
     "data": {
      "text/plain": [
       "371.5044868943621"
      ]
     },
     "execution_count": 70,
     "metadata": {},
     "output_type": "execute_result"
    }
   ],
   "source": [
    "np.sqrt(mean_squared_error(y_test, y_pred))"
   ]
  },
  {
   "cell_type": "markdown",
   "metadata": {},
   "source": [
    "# CatBoost"
   ]
  },
  {
   "cell_type": "code",
   "execution_count": 71,
   "metadata": {},
   "outputs": [],
   "source": [
    "df = pd.read_csv(\"Hitters.csv\")\n",
    "df = df.dropna()\n",
    "dms = pd.get_dummies(df[['League', 'Division', 'NewLeague']])\n",
    "y = df[\"Salary\"]\n",
    "X_ = df.drop(['Salary', 'League', 'Division', 'NewLeague'], axis = 1).astype('float64')\n",
    "X = pd.concat([X_, dms[['League_N', 'Division_W', 'NewLeague_N']]], axis = 1)\n",
    "X_train, X_test, y_train, y_test = train_test_split(X, y, test_size = 0.25, random_state = 42)"
   ]
  },
  {
   "cell_type": "code",
   "execution_count": 72,
   "metadata": {
    "collapsed": true,
    "jupyter": {
     "outputs_hidden": true
    }
   },
   "outputs": [
    {
     "name": "stdout",
     "output_type": "stream",
     "text": [
      "Collecting catboost\n",
      "  Downloading catboost-0.23-cp37-none-win_amd64.whl (63.6 MB)\n",
      "Requirement already satisfied: matplotlib in c:\\users\\efe\\anaconda3\\lib\\site-packages (from catboost) (3.1.3)\n",
      "Requirement already satisfied: scipy in c:\\users\\efe\\anaconda3\\lib\\site-packages (from catboost) (1.4.1)\n",
      "Requirement already satisfied: six in c:\\users\\efe\\anaconda3\\lib\\site-packages (from catboost) (1.14.0)\n",
      "Collecting plotly\n",
      "  Downloading plotly-4.7.1-py2.py3-none-any.whl (11.5 MB)\n",
      "Collecting graphviz\n",
      "  Downloading graphviz-0.14-py2.py3-none-any.whl (18 kB)\n",
      "Requirement already satisfied: pandas>=0.24.0 in c:\\users\\efe\\anaconda3\\lib\\site-packages (from catboost) (1.0.1)\n",
      "Requirement already satisfied: numpy>=1.16.0 in c:\\users\\efe\\anaconda3\\lib\\site-packages (from catboost) (1.18.1)\n",
      "Requirement already satisfied: kiwisolver>=1.0.1 in c:\\users\\efe\\anaconda3\\lib\\site-packages (from matplotlib->catboost) (1.1.0)\n",
      "Requirement already satisfied: cycler>=0.10 in c:\\users\\efe\\anaconda3\\lib\\site-packages (from matplotlib->catboost) (0.10.0)\n",
      "Requirement already satisfied: pyparsing!=2.0.4,!=2.1.2,!=2.1.6,>=2.0.1 in c:\\users\\efe\\anaconda3\\lib\\site-packages (from matplotlib->catboost) (2.4.6)\n",
      "Requirement already satisfied: python-dateutil>=2.1 in c:\\users\\efe\\anaconda3\\lib\\site-packages (from matplotlib->catboost) (2.8.1)\n",
      "Collecting retrying>=1.3.3\n",
      "  Downloading retrying-1.3.3.tar.gz (10 kB)\n",
      "Requirement already satisfied: pytz>=2017.2 in c:\\users\\efe\\anaconda3\\lib\\site-packages (from pandas>=0.24.0->catboost) (2019.3)\n",
      "Requirement already satisfied: setuptools in c:\\users\\efe\\anaconda3\\lib\\site-packages (from kiwisolver>=1.0.1->matplotlib->catboost) (45.2.0.post20200210)\n",
      "Building wheels for collected packages: retrying\n",
      "  Building wheel for retrying (setup.py): started\n",
      "  Building wheel for retrying (setup.py): finished with status 'done'\n",
      "  Created wheel for retrying: filename=retrying-1.3.3-py3-none-any.whl size=11435 sha256=c70f290f490c100043e1f2dd16476299b7a3d64ce5d095b2b8047c0926b9e4f3\n",
      "  Stored in directory: c:\\users\\efe\\appdata\\local\\pip\\cache\\wheels\\f9\\8d\\8d\\f6af3f7f9eea3553bc2fe6d53e4b287dad18b06a861ac56ddf\n",
      "Successfully built retrying\n",
      "Installing collected packages: retrying, plotly, graphviz, catboost\n",
      "Successfully installed catboost-0.23 graphviz-0.14 plotly-4.7.1 retrying-1.3.3\n"
     ]
    }
   ],
   "source": [
    "!pip install catboost"
   ]
  },
  {
   "cell_type": "code",
   "execution_count": 6,
   "metadata": {},
   "outputs": [],
   "source": [
    "from catboost import CatBoostRegressor"
   ]
  },
  {
   "cell_type": "code",
   "execution_count": 80,
   "metadata": {
    "collapsed": true,
    "jupyter": {
     "outputs_hidden": true
    }
   },
   "outputs": [
    {
     "name": "stdout",
     "output_type": "stream",
     "text": [
      "Learning rate set to 0.029229\n",
      "0:\tlearn: 438.1974206\ttotal: 1.13ms\tremaining: 1.13s\n",
      "1:\tlearn: 432.4168868\ttotal: 2.05ms\tremaining: 1.02s\n",
      "2:\tlearn: 426.3836690\ttotal: 2.79ms\tremaining: 929ms\n",
      "3:\tlearn: 420.2261014\ttotal: 3.56ms\tremaining: 887ms\n",
      "4:\tlearn: 414.9976675\ttotal: 4.28ms\tremaining: 851ms\n",
      "5:\tlearn: 409.6125323\ttotal: 4.96ms\tremaining: 823ms\n",
      "6:\tlearn: 403.9277911\ttotal: 5.7ms\tremaining: 809ms\n",
      "7:\tlearn: 398.4395285\ttotal: 6.47ms\tremaining: 802ms\n",
      "8:\tlearn: 392.4517081\ttotal: 7.3ms\tremaining: 804ms\n",
      "9:\tlearn: 387.4871123\ttotal: 8.04ms\tremaining: 796ms\n",
      "10:\tlearn: 382.6230510\ttotal: 8.78ms\tremaining: 789ms\n",
      "11:\tlearn: 378.1012454\ttotal: 9.6ms\tremaining: 790ms\n",
      "12:\tlearn: 372.6002306\ttotal: 10.5ms\tremaining: 796ms\n",
      "13:\tlearn: 368.4682192\ttotal: 11.4ms\tremaining: 800ms\n",
      "14:\tlearn: 364.0565766\ttotal: 12.1ms\tremaining: 795ms\n",
      "15:\tlearn: 359.5683249\ttotal: 12.8ms\tremaining: 784ms\n",
      "16:\tlearn: 355.1782794\ttotal: 13.5ms\tremaining: 780ms\n",
      "17:\tlearn: 350.4689946\ttotal: 14.3ms\tremaining: 779ms\n",
      "18:\tlearn: 346.2553348\ttotal: 15.1ms\tremaining: 779ms\n",
      "19:\tlearn: 341.7051884\ttotal: 16ms\tremaining: 784ms\n",
      "20:\tlearn: 337.8343606\ttotal: 16.7ms\tremaining: 780ms\n",
      "21:\tlearn: 333.7956702\ttotal: 17.4ms\tremaining: 776ms\n",
      "22:\tlearn: 329.8867930\ttotal: 18.2ms\tremaining: 774ms\n",
      "23:\tlearn: 326.1844372\ttotal: 19.1ms\tremaining: 777ms\n",
      "24:\tlearn: 323.1315580\ttotal: 19.9ms\tremaining: 778ms\n",
      "25:\tlearn: 319.3322885\ttotal: 20.7ms\tremaining: 776ms\n",
      "26:\tlearn: 316.2039164\ttotal: 21.4ms\tremaining: 770ms\n",
      "27:\tlearn: 313.2598806\ttotal: 22ms\tremaining: 765ms\n",
      "28:\tlearn: 310.1086898\ttotal: 22.7ms\tremaining: 760ms\n",
      "29:\tlearn: 307.0508553\ttotal: 23.5ms\tremaining: 759ms\n",
      "30:\tlearn: 304.5843401\ttotal: 24.3ms\tremaining: 760ms\n",
      "31:\tlearn: 301.6708432\ttotal: 25.1ms\tremaining: 758ms\n",
      "32:\tlearn: 298.9175443\ttotal: 25.8ms\tremaining: 756ms\n",
      "33:\tlearn: 296.1231309\ttotal: 26.6ms\tremaining: 755ms\n",
      "34:\tlearn: 293.2359275\ttotal: 27.3ms\tremaining: 752ms\n",
      "35:\tlearn: 290.3999850\ttotal: 28.1ms\tremaining: 752ms\n",
      "36:\tlearn: 287.8958674\ttotal: 28.9ms\tremaining: 752ms\n",
      "37:\tlearn: 285.6692571\ttotal: 29.6ms\tremaining: 750ms\n",
      "38:\tlearn: 282.9812904\ttotal: 30.3ms\tremaining: 747ms\n",
      "39:\tlearn: 280.6302291\ttotal: 31ms\tremaining: 745ms\n",
      "40:\tlearn: 278.2767119\ttotal: 31.8ms\tremaining: 743ms\n",
      "41:\tlearn: 276.0589541\ttotal: 32.4ms\tremaining: 739ms\n",
      "42:\tlearn: 273.6619286\ttotal: 33.1ms\tremaining: 737ms\n",
      "43:\tlearn: 271.1128163\ttotal: 34ms\tremaining: 739ms\n",
      "44:\tlearn: 268.9091716\ttotal: 34.9ms\tremaining: 740ms\n",
      "45:\tlearn: 266.3675542\ttotal: 35.6ms\tremaining: 739ms\n",
      "46:\tlearn: 263.7815611\ttotal: 36.4ms\tremaining: 739ms\n",
      "47:\tlearn: 261.8160223\ttotal: 37.2ms\tremaining: 738ms\n",
      "48:\tlearn: 259.7109561\ttotal: 37.9ms\tremaining: 737ms\n",
      "49:\tlearn: 257.7200276\ttotal: 38.7ms\tremaining: 735ms\n",
      "50:\tlearn: 255.7835524\ttotal: 39.6ms\tremaining: 737ms\n",
      "51:\tlearn: 253.8406902\ttotal: 40.3ms\tremaining: 735ms\n",
      "52:\tlearn: 251.6896611\ttotal: 41ms\tremaining: 732ms\n",
      "53:\tlearn: 250.0830915\ttotal: 41.7ms\tremaining: 731ms\n",
      "54:\tlearn: 248.3689069\ttotal: 42.4ms\tremaining: 728ms\n",
      "55:\tlearn: 246.2718937\ttotal: 43.1ms\tremaining: 726ms\n",
      "56:\tlearn: 244.3923224\ttotal: 43.8ms\tremaining: 725ms\n",
      "57:\tlearn: 242.3040669\ttotal: 44.5ms\tremaining: 722ms\n",
      "58:\tlearn: 240.5357981\ttotal: 45.1ms\tremaining: 720ms\n",
      "59:\tlearn: 238.7009594\ttotal: 46ms\tremaining: 721ms\n",
      "60:\tlearn: 237.2676945\ttotal: 46.8ms\tremaining: 720ms\n",
      "61:\tlearn: 235.7252656\ttotal: 47.5ms\tremaining: 718ms\n",
      "62:\tlearn: 234.1007596\ttotal: 48.3ms\tremaining: 718ms\n",
      "63:\tlearn: 232.4179971\ttotal: 48.9ms\tremaining: 716ms\n",
      "64:\tlearn: 231.1643497\ttotal: 49.6ms\tremaining: 714ms\n",
      "65:\tlearn: 229.6810852\ttotal: 50.4ms\tremaining: 713ms\n",
      "66:\tlearn: 228.1714231\ttotal: 51.1ms\tremaining: 712ms\n",
      "67:\tlearn: 226.9338286\ttotal: 51.9ms\tremaining: 712ms\n",
      "68:\tlearn: 226.0780127\ttotal: 52.7ms\tremaining: 710ms\n",
      "69:\tlearn: 224.6598569\ttotal: 53.4ms\tremaining: 709ms\n",
      "70:\tlearn: 223.1110463\ttotal: 54.1ms\tremaining: 708ms\n",
      "71:\tlearn: 221.6545694\ttotal: 54.8ms\tremaining: 707ms\n",
      "72:\tlearn: 220.2670639\ttotal: 55.5ms\tremaining: 705ms\n",
      "73:\tlearn: 218.9738032\ttotal: 56.3ms\tremaining: 705ms\n",
      "74:\tlearn: 217.9247112\ttotal: 57.1ms\tremaining: 704ms\n",
      "75:\tlearn: 216.9202490\ttotal: 57.7ms\tremaining: 702ms\n",
      "76:\tlearn: 215.5989131\ttotal: 58.4ms\tremaining: 700ms\n",
      "77:\tlearn: 214.3540917\ttotal: 59.1ms\tremaining: 699ms\n",
      "78:\tlearn: 213.4575339\ttotal: 59.9ms\tremaining: 698ms\n",
      "79:\tlearn: 212.1036261\ttotal: 60.6ms\tremaining: 697ms\n",
      "80:\tlearn: 210.8030392\ttotal: 61.3ms\tremaining: 695ms\n",
      "81:\tlearn: 209.5290460\ttotal: 62ms\tremaining: 694ms\n",
      "82:\tlearn: 208.0255508\ttotal: 62.7ms\tremaining: 693ms\n",
      "83:\tlearn: 206.9124270\ttotal: 63.5ms\tremaining: 692ms\n",
      "84:\tlearn: 205.5903017\ttotal: 64.2ms\tremaining: 692ms\n",
      "85:\tlearn: 204.6057051\ttotal: 65.1ms\tremaining: 691ms\n",
      "86:\tlearn: 203.7128429\ttotal: 65.8ms\tremaining: 690ms\n",
      "87:\tlearn: 202.7663836\ttotal: 66.5ms\tremaining: 690ms\n",
      "88:\tlearn: 201.9026542\ttotal: 67.4ms\tremaining: 690ms\n",
      "89:\tlearn: 200.7729520\ttotal: 68.2ms\tremaining: 690ms\n",
      "90:\tlearn: 199.6909954\ttotal: 69.1ms\tremaining: 690ms\n",
      "91:\tlearn: 198.6341430\ttotal: 70ms\tremaining: 691ms\n",
      "92:\tlearn: 197.6117675\ttotal: 71.3ms\tremaining: 695ms\n",
      "93:\tlearn: 196.5198483\ttotal: 72.2ms\tremaining: 696ms\n",
      "94:\tlearn: 195.5443940\ttotal: 72.9ms\tremaining: 695ms\n",
      "95:\tlearn: 194.4203970\ttotal: 73.7ms\tremaining: 694ms\n",
      "96:\tlearn: 193.2677508\ttotal: 74.5ms\tremaining: 693ms\n",
      "97:\tlearn: 192.1768427\ttotal: 75.2ms\tremaining: 692ms\n",
      "98:\tlearn: 191.2356955\ttotal: 75.9ms\tremaining: 691ms\n",
      "99:\tlearn: 189.9934546\ttotal: 76.9ms\tremaining: 692ms\n",
      "100:\tlearn: 189.2719006\ttotal: 77.8ms\tremaining: 692ms\n",
      "101:\tlearn: 188.1079321\ttotal: 78.6ms\tremaining: 692ms\n",
      "102:\tlearn: 187.1211517\ttotal: 79.3ms\tremaining: 691ms\n",
      "103:\tlearn: 185.9059118\ttotal: 80ms\tremaining: 689ms\n",
      "104:\tlearn: 185.2620919\ttotal: 80.8ms\tremaining: 689ms\n",
      "105:\tlearn: 184.4349037\ttotal: 81.5ms\tremaining: 688ms\n",
      "106:\tlearn: 183.1846237\ttotal: 82.3ms\tremaining: 687ms\n",
      "107:\tlearn: 182.1448077\ttotal: 83ms\tremaining: 686ms\n",
      "108:\tlearn: 181.4787170\ttotal: 83.8ms\tremaining: 685ms\n",
      "109:\tlearn: 180.6789032\ttotal: 84.5ms\tremaining: 684ms\n",
      "110:\tlearn: 179.9122461\ttotal: 85.2ms\tremaining: 682ms\n",
      "111:\tlearn: 178.9952892\ttotal: 85.9ms\tremaining: 681ms\n",
      "112:\tlearn: 178.6013107\ttotal: 86.5ms\tremaining: 679ms\n",
      "113:\tlearn: 177.7090692\ttotal: 87.2ms\tremaining: 678ms\n",
      "114:\tlearn: 176.7404828\ttotal: 87.9ms\tremaining: 676ms\n",
      "115:\tlearn: 176.0415402\ttotal: 88.8ms\tremaining: 677ms\n",
      "116:\tlearn: 175.5315148\ttotal: 89.6ms\tremaining: 676ms\n",
      "117:\tlearn: 174.8976738\ttotal: 90.4ms\tremaining: 676ms\n",
      "118:\tlearn: 174.0530870\ttotal: 91.1ms\tremaining: 674ms\n",
      "119:\tlearn: 173.0700181\ttotal: 91.7ms\tremaining: 673ms\n",
      "120:\tlearn: 172.2832739\ttotal: 92.4ms\tremaining: 671ms\n",
      "121:\tlearn: 171.4960220\ttotal: 93.1ms\tremaining: 670ms\n",
      "122:\tlearn: 171.0402978\ttotal: 93.8ms\tremaining: 668ms\n",
      "123:\tlearn: 170.7119169\ttotal: 94.5ms\tremaining: 668ms\n",
      "124:\tlearn: 169.6907823\ttotal: 95.2ms\tremaining: 667ms\n",
      "125:\tlearn: 169.2063700\ttotal: 96.2ms\tremaining: 667ms\n",
      "126:\tlearn: 168.1597529\ttotal: 97.2ms\tremaining: 668ms\n",
      "127:\tlearn: 167.3156403\ttotal: 98.2ms\tremaining: 669ms\n",
      "128:\tlearn: 166.3187281\ttotal: 98.9ms\tremaining: 668ms\n",
      "129:\tlearn: 166.1101656\ttotal: 99.6ms\tremaining: 667ms\n",
      "130:\tlearn: 165.5420012\ttotal: 100ms\tremaining: 667ms\n",
      "131:\tlearn: 164.6237022\ttotal: 101ms\tremaining: 666ms\n",
      "132:\tlearn: 163.7646814\ttotal: 102ms\tremaining: 665ms\n",
      "133:\tlearn: 163.3971858\ttotal: 103ms\tremaining: 664ms\n",
      "134:\tlearn: 162.8775666\ttotal: 103ms\tremaining: 662ms\n",
      "135:\tlearn: 162.3591190\ttotal: 104ms\tremaining: 661ms\n",
      "136:\tlearn: 161.8515150\ttotal: 105ms\tremaining: 660ms\n",
      "137:\tlearn: 161.2542226\ttotal: 105ms\tremaining: 659ms\n",
      "138:\tlearn: 160.5899334\ttotal: 106ms\tremaining: 658ms\n",
      "139:\tlearn: 159.6307999\ttotal: 107ms\tremaining: 658ms\n",
      "140:\tlearn: 159.0055431\ttotal: 108ms\tremaining: 656ms\n",
      "141:\tlearn: 158.2566894\ttotal: 108ms\tremaining: 655ms\n",
      "142:\tlearn: 157.6496356\ttotal: 109ms\tremaining: 654ms\n",
      "143:\tlearn: 157.1590393\ttotal: 110ms\tremaining: 652ms\n",
      "144:\tlearn: 156.5730455\ttotal: 111ms\tremaining: 652ms\n",
      "145:\tlearn: 155.8450985\ttotal: 111ms\tremaining: 652ms\n",
      "146:\tlearn: 155.2439210\ttotal: 112ms\tremaining: 651ms\n",
      "147:\tlearn: 154.9417796\ttotal: 113ms\tremaining: 650ms\n",
      "148:\tlearn: 154.3763613\ttotal: 114ms\tremaining: 648ms\n",
      "149:\tlearn: 153.9438757\ttotal: 114ms\tremaining: 647ms\n",
      "150:\tlearn: 153.1854046\ttotal: 115ms\tremaining: 645ms\n",
      "151:\tlearn: 152.8631442\ttotal: 115ms\tremaining: 644ms\n",
      "152:\tlearn: 152.3115428\ttotal: 116ms\tremaining: 642ms\n",
      "153:\tlearn: 151.8957029\ttotal: 117ms\tremaining: 641ms\n",
      "154:\tlearn: 151.1871329\ttotal: 117ms\tremaining: 639ms\n",
      "155:\tlearn: 150.6828564\ttotal: 118ms\tremaining: 637ms\n",
      "156:\tlearn: 150.2509622\ttotal: 119ms\tremaining: 637ms\n",
      "157:\tlearn: 149.6497659\ttotal: 119ms\tremaining: 635ms\n",
      "158:\tlearn: 148.9332067\ttotal: 120ms\tremaining: 634ms\n",
      "159:\tlearn: 148.7156418\ttotal: 121ms\tremaining: 633ms\n",
      "160:\tlearn: 148.2737189\ttotal: 121ms\tremaining: 631ms\n",
      "161:\tlearn: 147.9625721\ttotal: 122ms\tremaining: 630ms\n",
      "162:\tlearn: 147.4564915\ttotal: 122ms\tremaining: 629ms\n",
      "163:\tlearn: 146.8606991\ttotal: 123ms\tremaining: 627ms\n",
      "164:\tlearn: 146.2386459\ttotal: 124ms\tremaining: 626ms\n",
      "165:\tlearn: 145.7642228\ttotal: 124ms\tremaining: 625ms\n",
      "166:\tlearn: 145.3792204\ttotal: 125ms\tremaining: 623ms\n",
      "167:\tlearn: 145.0935465\ttotal: 126ms\tremaining: 622ms\n",
      "168:\tlearn: 144.6976165\ttotal: 126ms\tremaining: 620ms\n",
      "169:\tlearn: 143.9724403\ttotal: 127ms\tremaining: 619ms\n",
      "170:\tlearn: 143.6449839\ttotal: 127ms\tremaining: 618ms\n",
      "171:\tlearn: 143.1999180\ttotal: 128ms\tremaining: 616ms\n",
      "172:\tlearn: 142.9381183\ttotal: 129ms\tremaining: 615ms\n",
      "173:\tlearn: 142.3304601\ttotal: 129ms\tremaining: 614ms\n",
      "174:\tlearn: 141.9229624\ttotal: 130ms\tremaining: 612ms\n",
      "175:\tlearn: 141.4043903\ttotal: 130ms\tremaining: 611ms\n",
      "176:\tlearn: 141.0209642\ttotal: 131ms\tremaining: 609ms\n",
      "177:\tlearn: 140.4510865\ttotal: 132ms\tremaining: 608ms\n",
      "178:\tlearn: 140.3441522\ttotal: 132ms\tremaining: 605ms\n",
      "179:\tlearn: 139.8478562\ttotal: 133ms\tremaining: 604ms\n",
      "180:\tlearn: 139.7464932\ttotal: 133ms\tremaining: 601ms\n",
      "181:\tlearn: 139.2514614\ttotal: 133ms\tremaining: 600ms\n",
      "182:\tlearn: 139.0274540\ttotal: 134ms\tremaining: 598ms\n",
      "183:\tlearn: 138.4584181\ttotal: 135ms\tremaining: 597ms\n",
      "184:\tlearn: 138.2093063\ttotal: 135ms\tremaining: 596ms\n",
      "185:\tlearn: 137.8406250\ttotal: 136ms\tremaining: 595ms\n",
      "186:\tlearn: 137.7280816\ttotal: 137ms\tremaining: 594ms\n",
      "187:\tlearn: 137.2465993\ttotal: 137ms\tremaining: 593ms\n",
      "188:\tlearn: 136.7894765\ttotal: 138ms\tremaining: 592ms\n",
      "189:\tlearn: 136.4857311\ttotal: 138ms\tremaining: 590ms\n",
      "190:\tlearn: 136.0043713\ttotal: 139ms\tremaining: 589ms\n",
      "191:\tlearn: 135.7523177\ttotal: 140ms\tremaining: 588ms\n",
      "192:\tlearn: 135.3372675\ttotal: 140ms\tremaining: 587ms\n",
      "193:\tlearn: 135.0202084\ttotal: 141ms\tremaining: 586ms\n",
      "194:\tlearn: 134.7757422\ttotal: 142ms\tremaining: 584ms\n",
      "195:\tlearn: 134.3546545\ttotal: 142ms\tremaining: 583ms\n",
      "196:\tlearn: 133.9623627\ttotal: 143ms\tremaining: 582ms\n",
      "197:\tlearn: 133.2648869\ttotal: 143ms\tremaining: 581ms\n",
      "198:\tlearn: 132.9318972\ttotal: 144ms\tremaining: 580ms\n",
      "199:\tlearn: 132.5119098\ttotal: 145ms\tremaining: 578ms\n",
      "200:\tlearn: 131.8954412\ttotal: 145ms\tremaining: 577ms\n",
      "201:\tlearn: 131.6115557\ttotal: 146ms\tremaining: 576ms\n",
      "202:\tlearn: 131.2095441\ttotal: 146ms\tremaining: 575ms\n",
      "203:\tlearn: 130.6658729\ttotal: 147ms\tremaining: 574ms\n",
      "204:\tlearn: 130.3457517\ttotal: 148ms\tremaining: 573ms\n",
      "205:\tlearn: 130.0833818\ttotal: 148ms\tremaining: 572ms\n",
      "206:\tlearn: 129.7238048\ttotal: 149ms\tremaining: 570ms\n",
      "207:\tlearn: 129.0671906\ttotal: 150ms\tremaining: 569ms\n",
      "208:\tlearn: 128.7683402\ttotal: 150ms\tremaining: 568ms\n",
      "209:\tlearn: 128.5832593\ttotal: 151ms\tremaining: 567ms\n",
      "210:\tlearn: 128.3749444\ttotal: 151ms\tremaining: 566ms\n",
      "211:\tlearn: 128.1143221\ttotal: 152ms\tremaining: 565ms\n",
      "212:\tlearn: 127.9897497\ttotal: 153ms\tremaining: 564ms\n",
      "213:\tlearn: 127.6815659\ttotal: 153ms\tremaining: 563ms\n",
      "214:\tlearn: 127.2006697\ttotal: 154ms\tremaining: 562ms\n",
      "215:\tlearn: 127.0352179\ttotal: 154ms\tremaining: 560ms\n",
      "216:\tlearn: 126.9617234\ttotal: 155ms\tremaining: 559ms\n",
      "217:\tlearn: 126.7776328\ttotal: 155ms\tremaining: 558ms\n",
      "218:\tlearn: 126.3802524\ttotal: 156ms\tremaining: 557ms\n",
      "219:\tlearn: 126.1995377\ttotal: 157ms\tremaining: 555ms\n",
      "220:\tlearn: 126.1155383\ttotal: 157ms\tremaining: 554ms\n",
      "221:\tlearn: 125.9832799\ttotal: 158ms\tremaining: 553ms\n",
      "222:\tlearn: 125.7495770\ttotal: 159ms\tremaining: 553ms\n",
      "223:\tlearn: 125.2409845\ttotal: 160ms\tremaining: 553ms\n",
      "224:\tlearn: 124.9538099\ttotal: 160ms\tremaining: 552ms\n",
      "225:\tlearn: 124.7089151\ttotal: 161ms\tremaining: 551ms\n",
      "226:\tlearn: 124.3984858\ttotal: 162ms\tremaining: 550ms\n",
      "227:\tlearn: 124.0014588\ttotal: 162ms\tremaining: 550ms\n",
      "228:\tlearn: 123.7139174\ttotal: 163ms\tremaining: 549ms\n",
      "229:\tlearn: 123.6555034\ttotal: 163ms\tremaining: 547ms\n",
      "230:\tlearn: 123.3398368\ttotal: 164ms\tremaining: 547ms\n",
      "231:\tlearn: 122.7561150\ttotal: 165ms\tremaining: 546ms\n",
      "232:\tlearn: 122.5676806\ttotal: 166ms\tremaining: 547ms\n",
      "233:\tlearn: 122.1759040\ttotal: 167ms\tremaining: 547ms\n",
      "234:\tlearn: 121.5761316\ttotal: 168ms\tremaining: 546ms\n",
      "235:\tlearn: 121.3308579\ttotal: 169ms\tremaining: 546ms\n",
      "236:\tlearn: 120.6316918\ttotal: 169ms\tremaining: 545ms\n",
      "237:\tlearn: 120.0241441\ttotal: 170ms\tremaining: 544ms\n",
      "238:\tlearn: 119.6974692\ttotal: 171ms\tremaining: 543ms\n",
      "239:\tlearn: 119.5295579\ttotal: 171ms\tremaining: 543ms\n",
      "240:\tlearn: 118.8105516\ttotal: 172ms\tremaining: 542ms\n",
      "241:\tlearn: 118.5001438\ttotal: 173ms\tremaining: 541ms\n",
      "242:\tlearn: 118.1525333\ttotal: 174ms\tremaining: 541ms\n",
      "243:\tlearn: 117.8294708\ttotal: 174ms\tremaining: 540ms\n",
      "244:\tlearn: 117.4650856\ttotal: 175ms\tremaining: 539ms\n",
      "245:\tlearn: 117.2329146\ttotal: 176ms\tremaining: 538ms\n",
      "246:\tlearn: 116.6281150\ttotal: 176ms\tremaining: 537ms\n",
      "247:\tlearn: 116.4382173\ttotal: 177ms\tremaining: 537ms\n",
      "248:\tlearn: 115.7804838\ttotal: 178ms\tremaining: 536ms\n",
      "249:\tlearn: 115.4468389\ttotal: 178ms\tremaining: 535ms\n",
      "250:\tlearn: 115.2535858\ttotal: 179ms\tremaining: 534ms\n",
      "251:\tlearn: 115.0959725\ttotal: 180ms\tremaining: 534ms\n",
      "252:\tlearn: 114.5054098\ttotal: 181ms\tremaining: 534ms\n",
      "253:\tlearn: 114.2196805\ttotal: 181ms\tremaining: 533ms\n",
      "254:\tlearn: 113.9389493\ttotal: 182ms\tremaining: 532ms\n",
      "255:\tlearn: 113.8318782\ttotal: 183ms\tremaining: 531ms\n",
      "256:\tlearn: 113.7010766\ttotal: 184ms\tremaining: 531ms\n",
      "257:\tlearn: 113.5349213\ttotal: 184ms\tremaining: 530ms\n",
      "258:\tlearn: 113.2939692\ttotal: 185ms\tremaining: 529ms\n",
      "259:\tlearn: 112.8734855\ttotal: 186ms\tremaining: 528ms\n",
      "260:\tlearn: 112.2073904\ttotal: 186ms\tremaining: 528ms\n",
      "261:\tlearn: 111.7098455\ttotal: 187ms\tremaining: 527ms\n",
      "262:\tlearn: 111.4861643\ttotal: 188ms\tremaining: 526ms\n",
      "263:\tlearn: 111.4065123\ttotal: 188ms\tremaining: 525ms\n",
      "264:\tlearn: 110.9193214\ttotal: 189ms\tremaining: 524ms\n",
      "265:\tlearn: 110.2486713\ttotal: 190ms\tremaining: 523ms\n",
      "266:\tlearn: 110.1718829\ttotal: 190ms\tremaining: 522ms\n",
      "267:\tlearn: 109.8233102\ttotal: 191ms\tremaining: 521ms\n",
      "268:\tlearn: 109.2576068\ttotal: 192ms\tremaining: 521ms\n",
      "269:\tlearn: 109.1038965\ttotal: 192ms\tremaining: 520ms\n",
      "270:\tlearn: 108.5183523\ttotal: 193ms\tremaining: 519ms\n",
      "271:\tlearn: 108.4470954\ttotal: 193ms\tremaining: 518ms\n",
      "272:\tlearn: 108.0259628\ttotal: 194ms\tremaining: 517ms\n",
      "273:\tlearn: 107.5793316\ttotal: 195ms\tremaining: 516ms\n",
      "274:\tlearn: 107.4747562\ttotal: 195ms\tremaining: 515ms\n",
      "275:\tlearn: 107.4015080\ttotal: 196ms\tremaining: 514ms\n",
      "276:\tlearn: 106.7954512\ttotal: 197ms\tremaining: 513ms\n",
      "277:\tlearn: 106.3607188\ttotal: 197ms\tremaining: 512ms\n",
      "278:\tlearn: 106.2892222\ttotal: 198ms\tremaining: 511ms\n",
      "279:\tlearn: 106.1701389\ttotal: 198ms\tremaining: 510ms\n",
      "280:\tlearn: 106.0889424\ttotal: 199ms\tremaining: 509ms\n",
      "281:\tlearn: 105.8903610\ttotal: 200ms\tremaining: 508ms\n",
      "282:\tlearn: 105.6531794\ttotal: 200ms\tremaining: 507ms\n",
      "283:\tlearn: 105.3489666\ttotal: 201ms\tremaining: 506ms\n",
      "284:\tlearn: 105.2156952\ttotal: 201ms\tremaining: 505ms\n",
      "285:\tlearn: 104.7489850\ttotal: 202ms\tremaining: 504ms\n",
      "286:\tlearn: 104.4701409\ttotal: 203ms\tremaining: 504ms\n",
      "287:\tlearn: 104.3778769\ttotal: 203ms\tremaining: 503ms\n",
      "288:\tlearn: 103.8224679\ttotal: 204ms\tremaining: 502ms\n",
      "289:\tlearn: 103.2728523\ttotal: 205ms\tremaining: 501ms\n",
      "290:\tlearn: 102.7341369\ttotal: 205ms\tremaining: 500ms\n",
      "291:\tlearn: 102.5732242\ttotal: 206ms\tremaining: 499ms\n",
      "292:\tlearn: 102.4869595\ttotal: 206ms\tremaining: 498ms\n",
      "293:\tlearn: 101.9743362\ttotal: 207ms\tremaining: 497ms\n",
      "294:\tlearn: 101.8782948\ttotal: 208ms\tremaining: 496ms\n",
      "295:\tlearn: 101.3571512\ttotal: 208ms\tremaining: 495ms\n",
      "296:\tlearn: 100.8372462\ttotal: 209ms\tremaining: 494ms\n",
      "297:\tlearn: 100.6707783\ttotal: 209ms\tremaining: 493ms\n",
      "298:\tlearn: 100.3215940\ttotal: 210ms\tremaining: 492ms\n",
      "299:\tlearn: 99.8162460\ttotal: 211ms\tremaining: 491ms\n",
      "300:\tlearn: 99.7024172\ttotal: 211ms\tremaining: 490ms\n",
      "301:\tlearn: 99.2308832\ttotal: 212ms\tremaining: 490ms\n",
      "302:\tlearn: 98.7981083\ttotal: 212ms\tremaining: 489ms\n",
      "303:\tlearn: 98.6418362\ttotal: 213ms\tremaining: 488ms\n",
      "304:\tlearn: 98.1248564\ttotal: 214ms\tremaining: 487ms\n",
      "305:\tlearn: 97.9442581\ttotal: 214ms\tremaining: 486ms\n",
      "306:\tlearn: 97.5091297\ttotal: 215ms\tremaining: 485ms\n",
      "307:\tlearn: 97.0381695\ttotal: 215ms\tremaining: 484ms\n",
      "308:\tlearn: 96.5858904\ttotal: 216ms\tremaining: 483ms\n",
      "309:\tlearn: 96.4466124\ttotal: 217ms\tremaining: 482ms\n",
      "310:\tlearn: 95.9786304\ttotal: 217ms\tremaining: 481ms\n",
      "311:\tlearn: 95.5390501\ttotal: 218ms\tremaining: 481ms\n",
      "312:\tlearn: 95.3241323\ttotal: 219ms\tremaining: 480ms\n",
      "313:\tlearn: 95.1166839\ttotal: 219ms\tremaining: 479ms\n",
      "314:\tlearn: 94.6729021\ttotal: 220ms\tremaining: 478ms\n",
      "315:\tlearn: 94.2571678\ttotal: 220ms\tremaining: 477ms\n",
      "316:\tlearn: 93.9414786\ttotal: 221ms\tremaining: 476ms\n",
      "317:\tlearn: 93.7804159\ttotal: 222ms\tremaining: 476ms\n",
      "318:\tlearn: 93.5413306\ttotal: 222ms\tremaining: 475ms\n",
      "319:\tlearn: 93.4280107\ttotal: 223ms\tremaining: 474ms\n",
      "320:\tlearn: 92.9986302\ttotal: 224ms\tremaining: 473ms\n",
      "321:\tlearn: 92.9421610\ttotal: 224ms\tremaining: 472ms\n",
      "322:\tlearn: 92.4662692\ttotal: 225ms\tremaining: 471ms\n",
      "323:\tlearn: 92.0455485\ttotal: 225ms\tremaining: 470ms\n",
      "324:\tlearn: 91.6664667\ttotal: 226ms\tremaining: 469ms\n",
      "325:\tlearn: 91.5600717\ttotal: 227ms\tremaining: 468ms\n",
      "326:\tlearn: 91.5004974\ttotal: 227ms\tremaining: 468ms\n",
      "327:\tlearn: 91.0716355\ttotal: 228ms\tremaining: 467ms\n",
      "328:\tlearn: 90.6376777\ttotal: 228ms\tremaining: 466ms\n",
      "329:\tlearn: 90.2132341\ttotal: 229ms\tremaining: 465ms\n",
      "330:\tlearn: 90.1525801\ttotal: 230ms\tremaining: 464ms\n",
      "331:\tlearn: 89.7879501\ttotal: 230ms\tremaining: 463ms\n",
      "332:\tlearn: 89.3626218\ttotal: 231ms\tremaining: 463ms\n",
      "333:\tlearn: 89.1274526\ttotal: 232ms\tremaining: 462ms\n",
      "334:\tlearn: 88.7222011\ttotal: 232ms\tremaining: 461ms\n",
      "335:\tlearn: 88.5311901\ttotal: 233ms\tremaining: 460ms\n",
      "336:\tlearn: 88.0699983\ttotal: 233ms\tremaining: 459ms\n",
      "337:\tlearn: 87.6737037\ttotal: 234ms\tremaining: 458ms\n",
      "338:\tlearn: 87.3069085\ttotal: 235ms\tremaining: 457ms\n",
      "339:\tlearn: 86.8639700\ttotal: 235ms\tremaining: 457ms\n",
      "340:\tlearn: 86.7339532\ttotal: 236ms\tremaining: 456ms\n",
      "341:\tlearn: 86.5677333\ttotal: 236ms\tremaining: 455ms\n",
      "342:\tlearn: 86.4361752\ttotal: 237ms\tremaining: 454ms\n",
      "343:\tlearn: 86.2469458\ttotal: 238ms\tremaining: 453ms\n",
      "344:\tlearn: 86.1967306\ttotal: 238ms\tremaining: 452ms\n",
      "345:\tlearn: 86.0709863\ttotal: 239ms\tremaining: 452ms\n",
      "346:\tlearn: 85.6398833\ttotal: 240ms\tremaining: 451ms\n",
      "347:\tlearn: 85.5979263\ttotal: 240ms\tremaining: 450ms\n",
      "348:\tlearn: 85.4437261\ttotal: 241ms\tremaining: 449ms\n",
      "349:\tlearn: 85.0669752\ttotal: 241ms\tremaining: 448ms\n",
      "350:\tlearn: 85.0164116\ttotal: 242ms\tremaining: 447ms\n",
      "351:\tlearn: 84.6350071\ttotal: 243ms\tremaining: 447ms\n",
      "352:\tlearn: 84.1473245\ttotal: 243ms\tremaining: 446ms\n",
      "353:\tlearn: 83.8115391\ttotal: 244ms\tremaining: 445ms\n",
      "354:\tlearn: 83.4823620\ttotal: 244ms\tremaining: 444ms\n",
      "355:\tlearn: 83.1595406\ttotal: 245ms\tremaining: 443ms\n",
      "356:\tlearn: 82.7280745\ttotal: 246ms\tremaining: 442ms\n",
      "357:\tlearn: 82.6210086\ttotal: 246ms\tremaining: 442ms\n",
      "358:\tlearn: 82.3077194\ttotal: 247ms\tremaining: 441ms\n",
      "359:\tlearn: 81.9112073\ttotal: 247ms\tremaining: 440ms\n",
      "360:\tlearn: 81.5518193\ttotal: 248ms\tremaining: 439ms\n",
      "361:\tlearn: 81.4267033\ttotal: 249ms\tremaining: 438ms\n",
      "362:\tlearn: 81.0255982\ttotal: 249ms\tremaining: 438ms\n",
      "363:\tlearn: 80.6891175\ttotal: 250ms\tremaining: 437ms\n",
      "364:\tlearn: 80.4390711\ttotal: 251ms\tremaining: 436ms\n",
      "365:\tlearn: 80.1232319\ttotal: 251ms\tremaining: 435ms\n",
      "366:\tlearn: 80.0808756\ttotal: 252ms\tremaining: 434ms\n",
      "367:\tlearn: 79.7090424\ttotal: 252ms\tremaining: 433ms\n",
      "368:\tlearn: 79.3969152\ttotal: 253ms\tremaining: 433ms\n",
      "369:\tlearn: 79.0731259\ttotal: 254ms\tremaining: 432ms\n",
      "370:\tlearn: 78.9862934\ttotal: 254ms\tremaining: 431ms\n",
      "371:\tlearn: 78.7730476\ttotal: 255ms\tremaining: 430ms\n",
      "372:\tlearn: 78.6302158\ttotal: 255ms\tremaining: 429ms\n",
      "373:\tlearn: 78.5184111\ttotal: 256ms\tremaining: 429ms\n",
      "374:\tlearn: 78.3814955\ttotal: 257ms\tremaining: 428ms\n",
      "375:\tlearn: 77.9622261\ttotal: 257ms\tremaining: 427ms\n",
      "376:\tlearn: 77.8601787\ttotal: 258ms\tremaining: 426ms\n",
      "377:\tlearn: 77.7650898\ttotal: 259ms\tremaining: 425ms\n",
      "378:\tlearn: 77.3945927\ttotal: 259ms\tremaining: 425ms\n",
      "379:\tlearn: 77.3348237\ttotal: 260ms\tremaining: 424ms\n",
      "380:\tlearn: 77.2431856\ttotal: 260ms\tremaining: 423ms\n",
      "381:\tlearn: 76.9192891\ttotal: 261ms\tremaining: 422ms\n",
      "382:\tlearn: 76.7949544\ttotal: 262ms\tremaining: 422ms\n",
      "383:\tlearn: 76.5217530\ttotal: 262ms\tremaining: 421ms\n",
      "384:\tlearn: 76.1648512\ttotal: 263ms\tremaining: 420ms\n",
      "385:\tlearn: 75.9867656\ttotal: 264ms\tremaining: 419ms\n",
      "386:\tlearn: 75.7293435\ttotal: 265ms\tremaining: 419ms\n",
      "387:\tlearn: 75.6419805\ttotal: 265ms\tremaining: 418ms\n",
      "388:\tlearn: 75.3138222\ttotal: 266ms\tremaining: 418ms\n",
      "389:\tlearn: 75.0125736\ttotal: 267ms\tremaining: 417ms\n",
      "390:\tlearn: 74.9803725\ttotal: 267ms\tremaining: 416ms\n",
      "391:\tlearn: 74.6113970\ttotal: 268ms\tremaining: 416ms\n",
      "392:\tlearn: 74.3668766\ttotal: 269ms\tremaining: 415ms\n",
      "393:\tlearn: 74.2752147\ttotal: 269ms\tremaining: 414ms\n",
      "394:\tlearn: 74.2172412\ttotal: 271ms\tremaining: 414ms\n",
      "395:\tlearn: 73.8652110\ttotal: 271ms\tremaining: 414ms\n",
      "396:\tlearn: 73.6963645\ttotal: 272ms\tremaining: 413ms\n",
      "397:\tlearn: 73.4075086\ttotal: 273ms\tremaining: 412ms\n",
      "398:\tlearn: 73.0346771\ttotal: 273ms\tremaining: 412ms\n",
      "399:\tlearn: 72.9971586\ttotal: 274ms\tremaining: 411ms\n",
      "400:\tlearn: 72.6755493\ttotal: 275ms\tremaining: 411ms\n",
      "401:\tlearn: 72.5972282\ttotal: 276ms\tremaining: 410ms\n",
      "402:\tlearn: 72.4345974\ttotal: 276ms\tremaining: 409ms\n",
      "403:\tlearn: 72.2185716\ttotal: 277ms\tremaining: 409ms\n",
      "404:\tlearn: 71.9251032\ttotal: 278ms\tremaining: 408ms\n",
      "405:\tlearn: 71.8901544\ttotal: 278ms\tremaining: 407ms\n",
      "406:\tlearn: 71.5338422\ttotal: 279ms\tremaining: 407ms\n",
      "407:\tlearn: 71.4477827\ttotal: 280ms\tremaining: 406ms\n",
      "408:\tlearn: 71.4127550\ttotal: 281ms\tremaining: 406ms\n",
      "409:\tlearn: 71.3322454\ttotal: 281ms\tremaining: 405ms\n",
      "410:\tlearn: 71.2981804\ttotal: 282ms\tremaining: 404ms\n",
      "411:\tlearn: 71.0089173\ttotal: 283ms\tremaining: 403ms\n",
      "412:\tlearn: 70.7854493\ttotal: 283ms\tremaining: 403ms\n",
      "413:\tlearn: 70.4930103\ttotal: 284ms\tremaining: 402ms\n",
      "414:\tlearn: 70.1976578\ttotal: 285ms\tremaining: 401ms\n",
      "415:\tlearn: 69.9565552\ttotal: 285ms\tremaining: 401ms\n",
      "416:\tlearn: 69.8912103\ttotal: 286ms\tremaining: 400ms\n",
      "417:\tlearn: 69.7356706\ttotal: 287ms\tremaining: 399ms\n",
      "418:\tlearn: 69.6634412\ttotal: 287ms\tremaining: 399ms\n",
      "419:\tlearn: 69.2943609\ttotal: 288ms\tremaining: 398ms\n",
      "420:\tlearn: 69.0269983\ttotal: 289ms\tremaining: 397ms\n",
      "421:\tlearn: 68.8653561\ttotal: 290ms\tremaining: 397ms\n",
      "422:\tlearn: 68.6555281\ttotal: 290ms\tremaining: 396ms\n",
      "423:\tlearn: 68.2338294\ttotal: 291ms\tremaining: 395ms\n",
      "424:\tlearn: 68.0909898\ttotal: 291ms\tremaining: 394ms\n",
      "425:\tlearn: 67.7905722\ttotal: 292ms\tremaining: 394ms\n",
      "426:\tlearn: 67.5586853\ttotal: 293ms\tremaining: 393ms\n",
      "427:\tlearn: 67.3518839\ttotal: 293ms\tremaining: 392ms\n",
      "428:\tlearn: 67.2029794\ttotal: 294ms\tremaining: 391ms\n",
      "429:\tlearn: 66.9467892\ttotal: 295ms\tremaining: 391ms\n",
      "430:\tlearn: 66.7821891\ttotal: 295ms\tremaining: 390ms\n",
      "431:\tlearn: 66.4955741\ttotal: 296ms\tremaining: 389ms\n",
      "432:\tlearn: 66.2240359\ttotal: 297ms\tremaining: 388ms\n",
      "433:\tlearn: 65.9832136\ttotal: 297ms\tremaining: 388ms\n",
      "434:\tlearn: 65.7761577\ttotal: 298ms\tremaining: 387ms\n",
      "435:\tlearn: 65.4845025\ttotal: 298ms\tremaining: 386ms\n",
      "436:\tlearn: 65.4215937\ttotal: 299ms\tremaining: 385ms\n",
      "437:\tlearn: 65.1768197\ttotal: 300ms\tremaining: 385ms\n",
      "438:\tlearn: 65.1071642\ttotal: 300ms\tremaining: 384ms\n",
      "439:\tlearn: 65.0705857\ttotal: 301ms\tremaining: 383ms\n",
      "440:\tlearn: 64.7782864\ttotal: 302ms\tremaining: 382ms\n",
      "441:\tlearn: 64.5284944\ttotal: 302ms\tremaining: 382ms\n",
      "442:\tlearn: 64.3504433\ttotal: 303ms\tremaining: 381ms\n",
      "443:\tlearn: 64.3001112\ttotal: 303ms\tremaining: 380ms\n",
      "444:\tlearn: 63.9063758\ttotal: 304ms\tremaining: 379ms\n",
      "445:\tlearn: 63.8746707\ttotal: 305ms\tremaining: 379ms\n",
      "446:\tlearn: 63.5487944\ttotal: 305ms\tremaining: 378ms\n",
      "447:\tlearn: 63.3406893\ttotal: 306ms\tremaining: 377ms\n",
      "448:\tlearn: 63.0992921\ttotal: 307ms\tremaining: 376ms\n",
      "449:\tlearn: 62.8676535\ttotal: 307ms\tremaining: 375ms\n",
      "450:\tlearn: 62.6978975\ttotal: 308ms\tremaining: 375ms\n",
      "451:\tlearn: 62.4888356\ttotal: 308ms\tremaining: 374ms\n",
      "452:\tlearn: 62.4591033\ttotal: 309ms\tremaining: 373ms\n",
      "453:\tlearn: 62.3981355\ttotal: 310ms\tremaining: 372ms\n",
      "454:\tlearn: 62.2755114\ttotal: 310ms\tremaining: 372ms\n",
      "455:\tlearn: 62.0286915\ttotal: 311ms\tremaining: 371ms\n",
      "456:\tlearn: 61.8101493\ttotal: 311ms\tremaining: 370ms\n",
      "457:\tlearn: 61.7125436\ttotal: 312ms\tremaining: 369ms\n",
      "458:\tlearn: 61.3464743\ttotal: 313ms\tremaining: 369ms\n",
      "459:\tlearn: 61.0777407\ttotal: 313ms\tremaining: 368ms\n",
      "460:\tlearn: 60.7354015\ttotal: 314ms\tremaining: 367ms\n",
      "461:\tlearn: 60.7070785\ttotal: 315ms\tremaining: 366ms\n",
      "462:\tlearn: 60.4380726\ttotal: 315ms\tremaining: 366ms\n",
      "463:\tlearn: 60.3794644\ttotal: 316ms\tremaining: 365ms\n",
      "464:\tlearn: 60.3096146\ttotal: 316ms\tremaining: 364ms\n",
      "465:\tlearn: 60.2803998\ttotal: 317ms\tremaining: 363ms\n",
      "466:\tlearn: 60.2489158\ttotal: 318ms\tremaining: 362ms\n",
      "467:\tlearn: 60.2187601\ttotal: 318ms\tremaining: 362ms\n",
      "468:\tlearn: 59.9901529\ttotal: 319ms\tremaining: 361ms\n",
      "469:\tlearn: 59.7821357\ttotal: 320ms\tremaining: 360ms\n",
      "470:\tlearn: 59.7334527\ttotal: 320ms\tremaining: 360ms\n",
      "471:\tlearn: 59.4989600\ttotal: 321ms\tremaining: 359ms\n",
      "472:\tlearn: 59.1865219\ttotal: 322ms\tremaining: 359ms\n",
      "473:\tlearn: 58.9478658\ttotal: 323ms\tremaining: 358ms\n",
      "474:\tlearn: 58.6836425\ttotal: 323ms\tremaining: 357ms\n",
      "475:\tlearn: 58.6522637\ttotal: 324ms\tremaining: 357ms\n",
      "476:\tlearn: 58.5963542\ttotal: 325ms\tremaining: 356ms\n",
      "477:\tlearn: 58.3648296\ttotal: 326ms\tremaining: 356ms\n",
      "478:\tlearn: 58.3188915\ttotal: 327ms\tremaining: 355ms\n",
      "479:\tlearn: 58.1813689\ttotal: 327ms\tremaining: 354ms\n",
      "480:\tlearn: 57.9437076\ttotal: 328ms\tremaining: 354ms\n",
      "481:\tlearn: 57.7694232\ttotal: 329ms\tremaining: 353ms\n",
      "482:\tlearn: 57.7437082\ttotal: 329ms\tremaining: 352ms\n",
      "483:\tlearn: 57.5081532\ttotal: 330ms\tremaining: 352ms\n",
      "484:\tlearn: 57.2134650\ttotal: 331ms\tremaining: 351ms\n",
      "485:\tlearn: 56.9733344\ttotal: 331ms\tremaining: 350ms\n",
      "486:\tlearn: 56.9412760\ttotal: 332ms\tremaining: 350ms\n",
      "487:\tlearn: 56.8640335\ttotal: 333ms\tremaining: 349ms\n",
      "488:\tlearn: 56.5624625\ttotal: 334ms\tremaining: 349ms\n",
      "489:\tlearn: 56.4986179\ttotal: 334ms\tremaining: 348ms\n",
      "490:\tlearn: 56.3527490\ttotal: 335ms\tremaining: 347ms\n",
      "491:\tlearn: 56.0961642\ttotal: 336ms\tremaining: 346ms\n",
      "492:\tlearn: 55.8256120\ttotal: 336ms\tremaining: 346ms\n",
      "493:\tlearn: 55.6150160\ttotal: 337ms\tremaining: 345ms\n",
      "494:\tlearn: 55.5631279\ttotal: 338ms\tremaining: 344ms\n",
      "495:\tlearn: 55.3736400\ttotal: 338ms\tremaining: 344ms\n",
      "496:\tlearn: 55.3441677\ttotal: 339ms\tremaining: 343ms\n",
      "497:\tlearn: 55.1995384\ttotal: 340ms\tremaining: 343ms\n",
      "498:\tlearn: 54.8980322\ttotal: 340ms\tremaining: 342ms\n",
      "499:\tlearn: 54.7119603\ttotal: 341ms\tremaining: 341ms\n",
      "500:\tlearn: 54.6236591\ttotal: 342ms\tremaining: 340ms\n",
      "501:\tlearn: 54.4131558\ttotal: 343ms\tremaining: 340ms\n",
      "502:\tlearn: 54.3901230\ttotal: 343ms\tremaining: 339ms\n",
      "503:\tlearn: 54.3662021\ttotal: 344ms\tremaining: 338ms\n",
      "504:\tlearn: 54.2068745\ttotal: 345ms\tremaining: 338ms\n",
      "505:\tlearn: 54.1800600\ttotal: 345ms\tremaining: 337ms\n",
      "506:\tlearn: 54.1376632\ttotal: 346ms\tremaining: 336ms\n",
      "507:\tlearn: 53.9788342\ttotal: 347ms\tremaining: 336ms\n",
      "508:\tlearn: 53.9294324\ttotal: 348ms\tremaining: 335ms\n",
      "509:\tlearn: 53.6786369\ttotal: 348ms\tremaining: 335ms\n",
      "510:\tlearn: 53.4578789\ttotal: 349ms\tremaining: 334ms\n",
      "511:\tlearn: 53.3261204\ttotal: 350ms\tremaining: 333ms\n",
      "512:\tlearn: 53.1331329\ttotal: 351ms\tremaining: 333ms\n",
      "513:\tlearn: 52.9261288\ttotal: 351ms\tremaining: 332ms\n",
      "514:\tlearn: 52.7447311\ttotal: 352ms\tremaining: 331ms\n",
      "515:\tlearn: 52.5966869\ttotal: 352ms\tremaining: 331ms\n",
      "516:\tlearn: 52.4130565\ttotal: 353ms\tremaining: 330ms\n",
      "517:\tlearn: 52.1948654\ttotal: 354ms\tremaining: 329ms\n",
      "518:\tlearn: 51.9463802\ttotal: 354ms\tremaining: 328ms\n",
      "519:\tlearn: 51.9178306\ttotal: 355ms\tremaining: 328ms\n",
      "520:\tlearn: 51.7246141\ttotal: 355ms\tremaining: 327ms\n",
      "521:\tlearn: 51.5669648\ttotal: 356ms\tremaining: 326ms\n",
      "522:\tlearn: 51.5221972\ttotal: 357ms\tremaining: 325ms\n",
      "523:\tlearn: 51.3293697\ttotal: 357ms\tremaining: 325ms\n",
      "524:\tlearn: 51.1767477\ttotal: 358ms\tremaining: 324ms\n",
      "525:\tlearn: 51.0961343\ttotal: 359ms\tremaining: 323ms\n",
      "526:\tlearn: 50.9995340\ttotal: 359ms\tremaining: 323ms\n",
      "527:\tlearn: 50.8846082\ttotal: 360ms\tremaining: 322ms\n",
      "528:\tlearn: 50.7478794\ttotal: 361ms\tremaining: 321ms\n",
      "529:\tlearn: 50.5116322\ttotal: 361ms\tremaining: 320ms\n",
      "530:\tlearn: 50.2760468\ttotal: 362ms\tremaining: 320ms\n",
      "531:\tlearn: 50.1040144\ttotal: 363ms\tremaining: 319ms\n",
      "532:\tlearn: 49.8827812\ttotal: 363ms\tremaining: 318ms\n",
      "533:\tlearn: 49.8255711\ttotal: 364ms\tremaining: 317ms\n",
      "534:\tlearn: 49.7890438\ttotal: 364ms\tremaining: 317ms\n",
      "535:\tlearn: 49.6290340\ttotal: 365ms\tremaining: 316ms\n",
      "536:\tlearn: 49.3965889\ttotal: 366ms\tremaining: 315ms\n",
      "537:\tlearn: 49.1641285\ttotal: 366ms\tremaining: 315ms\n",
      "538:\tlearn: 48.9654180\ttotal: 367ms\tremaining: 314ms\n",
      "539:\tlearn: 48.9278341\ttotal: 367ms\tremaining: 313ms\n",
      "540:\tlearn: 48.8457405\ttotal: 368ms\tremaining: 312ms\n",
      "541:\tlearn: 48.8041804\ttotal: 369ms\tremaining: 312ms\n",
      "542:\tlearn: 48.7179291\ttotal: 369ms\tremaining: 311ms\n",
      "543:\tlearn: 48.6759771\ttotal: 370ms\tremaining: 310ms\n",
      "544:\tlearn: 48.4792967\ttotal: 371ms\tremaining: 309ms\n",
      "545:\tlearn: 48.3843114\ttotal: 371ms\tremaining: 309ms\n",
      "546:\tlearn: 48.2453957\ttotal: 372ms\tremaining: 308ms\n",
      "547:\tlearn: 48.0231685\ttotal: 373ms\tremaining: 307ms\n",
      "548:\tlearn: 47.8612203\ttotal: 373ms\tremaining: 307ms\n",
      "549:\tlearn: 47.7590091\ttotal: 374ms\tremaining: 306ms\n",
      "550:\tlearn: 47.6561968\ttotal: 374ms\tremaining: 305ms\n",
      "551:\tlearn: 47.4106594\ttotal: 375ms\tremaining: 304ms\n",
      "552:\tlearn: 47.2194456\ttotal: 376ms\tremaining: 304ms\n",
      "553:\tlearn: 47.0783850\ttotal: 376ms\tremaining: 303ms\n",
      "554:\tlearn: 46.8215038\ttotal: 377ms\tremaining: 302ms\n",
      "555:\tlearn: 46.6674572\ttotal: 377ms\tremaining: 301ms\n",
      "556:\tlearn: 46.6418726\ttotal: 378ms\tremaining: 301ms\n",
      "557:\tlearn: 46.5248666\ttotal: 379ms\tremaining: 300ms\n",
      "558:\tlearn: 46.5061320\ttotal: 379ms\tremaining: 299ms\n",
      "559:\tlearn: 46.4397708\ttotal: 380ms\tremaining: 299ms\n",
      "560:\tlearn: 46.3904442\ttotal: 381ms\tremaining: 298ms\n",
      "561:\tlearn: 46.2576989\ttotal: 381ms\tremaining: 297ms\n",
      "562:\tlearn: 45.9568721\ttotal: 382ms\tremaining: 296ms\n",
      "563:\tlearn: 45.8482033\ttotal: 382ms\tremaining: 296ms\n",
      "564:\tlearn: 45.6689466\ttotal: 383ms\tremaining: 295ms\n",
      "565:\tlearn: 45.4222796\ttotal: 384ms\tremaining: 294ms\n",
      "566:\tlearn: 45.2404146\ttotal: 384ms\tremaining: 293ms\n",
      "567:\tlearn: 45.0903054\ttotal: 385ms\tremaining: 293ms\n",
      "568:\tlearn: 44.7991969\ttotal: 386ms\tremaining: 292ms\n",
      "569:\tlearn: 44.6413756\ttotal: 386ms\tremaining: 291ms\n",
      "570:\tlearn: 44.5799550\ttotal: 387ms\tremaining: 291ms\n",
      "571:\tlearn: 44.5651506\ttotal: 387ms\tremaining: 290ms\n",
      "572:\tlearn: 44.4233165\ttotal: 388ms\tremaining: 289ms\n",
      "573:\tlearn: 44.2369747\ttotal: 389ms\tremaining: 288ms\n",
      "574:\tlearn: 44.0545664\ttotal: 389ms\tremaining: 288ms\n",
      "575:\tlearn: 43.9004385\ttotal: 390ms\tremaining: 287ms\n",
      "576:\tlearn: 43.7138119\ttotal: 391ms\tremaining: 286ms\n",
      "577:\tlearn: 43.5755556\ttotal: 391ms\tremaining: 286ms\n",
      "578:\tlearn: 43.4934072\ttotal: 392ms\tremaining: 285ms\n",
      "579:\tlearn: 43.4629843\ttotal: 392ms\tremaining: 284ms\n",
      "580:\tlearn: 43.3825129\ttotal: 393ms\tremaining: 283ms\n",
      "581:\tlearn: 43.2549166\ttotal: 394ms\tremaining: 283ms\n",
      "582:\tlearn: 43.1514800\ttotal: 394ms\tremaining: 282ms\n",
      "583:\tlearn: 42.9846414\ttotal: 395ms\tremaining: 281ms\n",
      "584:\tlearn: 42.8538804\ttotal: 396ms\tremaining: 281ms\n",
      "585:\tlearn: 42.7710806\ttotal: 396ms\tremaining: 280ms\n",
      "586:\tlearn: 42.5351412\ttotal: 397ms\tremaining: 279ms\n",
      "587:\tlearn: 42.4784055\ttotal: 397ms\tremaining: 278ms\n",
      "588:\tlearn: 42.3174788\ttotal: 398ms\tremaining: 278ms\n",
      "589:\tlearn: 42.1761529\ttotal: 399ms\tremaining: 277ms\n",
      "590:\tlearn: 42.0486059\ttotal: 399ms\tremaining: 276ms\n",
      "591:\tlearn: 41.8689529\ttotal: 400ms\tremaining: 276ms\n",
      "592:\tlearn: 41.8306286\ttotal: 400ms\tremaining: 275ms\n",
      "593:\tlearn: 41.6966124\ttotal: 401ms\tremaining: 274ms\n",
      "594:\tlearn: 41.6647082\ttotal: 402ms\tremaining: 273ms\n",
      "595:\tlearn: 41.5609917\ttotal: 402ms\tremaining: 273ms\n",
      "596:\tlearn: 41.4632566\ttotal: 403ms\tremaining: 272ms\n",
      "597:\tlearn: 41.3899602\ttotal: 404ms\tremaining: 271ms\n",
      "598:\tlearn: 41.2152047\ttotal: 404ms\tremaining: 271ms\n",
      "599:\tlearn: 41.0959753\ttotal: 405ms\tremaining: 270ms\n",
      "600:\tlearn: 40.9815009\ttotal: 405ms\tremaining: 269ms\n",
      "601:\tlearn: 40.8912971\ttotal: 406ms\tremaining: 269ms\n",
      "602:\tlearn: 40.7881395\ttotal: 407ms\tremaining: 268ms\n",
      "603:\tlearn: 40.6325570\ttotal: 407ms\tremaining: 267ms\n",
      "604:\tlearn: 40.4083902\ttotal: 408ms\tremaining: 266ms\n",
      "605:\tlearn: 40.3292737\ttotal: 409ms\tremaining: 266ms\n",
      "606:\tlearn: 40.2629492\ttotal: 409ms\tremaining: 265ms\n",
      "607:\tlearn: 40.2448471\ttotal: 410ms\tremaining: 264ms\n",
      "608:\tlearn: 40.2293673\ttotal: 410ms\tremaining: 264ms\n",
      "609:\tlearn: 40.0978829\ttotal: 411ms\tremaining: 263ms\n",
      "610:\tlearn: 40.0512268\ttotal: 412ms\tremaining: 262ms\n",
      "611:\tlearn: 39.8920221\ttotal: 412ms\tremaining: 261ms\n",
      "612:\tlearn: 39.8591122\ttotal: 413ms\tremaining: 261ms\n",
      "613:\tlearn: 39.7261911\ttotal: 414ms\tremaining: 260ms\n",
      "614:\tlearn: 39.6986628\ttotal: 414ms\tremaining: 259ms\n",
      "615:\tlearn: 39.5659851\ttotal: 415ms\tremaining: 259ms\n",
      "616:\tlearn: 39.4815274\ttotal: 415ms\tremaining: 258ms\n",
      "617:\tlearn: 39.3682607\ttotal: 416ms\tremaining: 257ms\n",
      "618:\tlearn: 39.2643803\ttotal: 417ms\tremaining: 256ms\n",
      "619:\tlearn: 39.1307437\ttotal: 417ms\tremaining: 256ms\n",
      "620:\tlearn: 38.9596117\ttotal: 418ms\tremaining: 255ms\n",
      "621:\tlearn: 38.8456302\ttotal: 418ms\tremaining: 254ms\n",
      "622:\tlearn: 38.7810676\ttotal: 419ms\tremaining: 254ms\n",
      "623:\tlearn: 38.7450983\ttotal: 420ms\tremaining: 253ms\n",
      "624:\tlearn: 38.6788090\ttotal: 420ms\tremaining: 252ms\n",
      "625:\tlearn: 38.5788475\ttotal: 421ms\tremaining: 251ms\n",
      "626:\tlearn: 38.4675366\ttotal: 422ms\tremaining: 251ms\n",
      "627:\tlearn: 38.2350724\ttotal: 422ms\tremaining: 250ms\n",
      "628:\tlearn: 38.2074221\ttotal: 423ms\tremaining: 249ms\n",
      "629:\tlearn: 38.0622880\ttotal: 423ms\tremaining: 249ms\n",
      "630:\tlearn: 37.8520281\ttotal: 424ms\tremaining: 248ms\n",
      "631:\tlearn: 37.6631204\ttotal: 425ms\tremaining: 247ms\n",
      "632:\tlearn: 37.5153877\ttotal: 425ms\tremaining: 247ms\n",
      "633:\tlearn: 37.3834892\ttotal: 426ms\tremaining: 246ms\n",
      "634:\tlearn: 37.2552166\ttotal: 427ms\tremaining: 245ms\n",
      "635:\tlearn: 37.0779047\ttotal: 427ms\tremaining: 244ms\n",
      "636:\tlearn: 37.0329263\ttotal: 428ms\tremaining: 244ms\n",
      "637:\tlearn: 36.8927982\ttotal: 428ms\tremaining: 243ms\n",
      "638:\tlearn: 36.8105498\ttotal: 429ms\tremaining: 242ms\n",
      "639:\tlearn: 36.7512624\ttotal: 430ms\tremaining: 242ms\n",
      "640:\tlearn: 36.5891302\ttotal: 430ms\tremaining: 241ms\n",
      "641:\tlearn: 36.4551656\ttotal: 431ms\tremaining: 240ms\n",
      "642:\tlearn: 36.4318588\ttotal: 432ms\tremaining: 240ms\n",
      "643:\tlearn: 36.4074785\ttotal: 432ms\tremaining: 239ms\n",
      "644:\tlearn: 36.2579510\ttotal: 433ms\tremaining: 238ms\n",
      "645:\tlearn: 36.1413504\ttotal: 433ms\tremaining: 237ms\n",
      "646:\tlearn: 36.0078406\ttotal: 434ms\tremaining: 237ms\n",
      "647:\tlearn: 35.8909828\ttotal: 435ms\tremaining: 236ms\n",
      "648:\tlearn: 35.7426906\ttotal: 435ms\tremaining: 235ms\n",
      "649:\tlearn: 35.5963108\ttotal: 436ms\tremaining: 235ms\n",
      "650:\tlearn: 35.4623805\ttotal: 436ms\tremaining: 234ms\n",
      "651:\tlearn: 35.4428004\ttotal: 437ms\tremaining: 233ms\n",
      "652:\tlearn: 35.3007158\ttotal: 438ms\tremaining: 233ms\n",
      "653:\tlearn: 35.1510309\ttotal: 438ms\tremaining: 232ms\n",
      "654:\tlearn: 35.1258328\ttotal: 439ms\tremaining: 231ms\n",
      "655:\tlearn: 35.0183795\ttotal: 439ms\tremaining: 230ms\n",
      "656:\tlearn: 34.9003271\ttotal: 440ms\tremaining: 230ms\n",
      "657:\tlearn: 34.7887445\ttotal: 441ms\tremaining: 229ms\n",
      "658:\tlearn: 34.6253676\ttotal: 441ms\tremaining: 228ms\n",
      "659:\tlearn: 34.5506116\ttotal: 442ms\tremaining: 228ms\n",
      "660:\tlearn: 34.4197699\ttotal: 443ms\tremaining: 227ms\n",
      "661:\tlearn: 34.3097495\ttotal: 443ms\tremaining: 226ms\n",
      "662:\tlearn: 34.1572027\ttotal: 444ms\tremaining: 226ms\n",
      "663:\tlearn: 34.1441284\ttotal: 444ms\tremaining: 225ms\n",
      "664:\tlearn: 34.0600732\ttotal: 445ms\tremaining: 224ms\n",
      "665:\tlearn: 34.0500587\ttotal: 446ms\tremaining: 224ms\n",
      "666:\tlearn: 33.9193340\ttotal: 446ms\tremaining: 223ms\n",
      "667:\tlearn: 33.7564013\ttotal: 447ms\tremaining: 222ms\n",
      "668:\tlearn: 33.6528749\ttotal: 448ms\tremaining: 221ms\n",
      "669:\tlearn: 33.5681199\ttotal: 448ms\tremaining: 221ms\n",
      "670:\tlearn: 33.4451433\ttotal: 449ms\tremaining: 220ms\n",
      "671:\tlearn: 33.3468901\ttotal: 449ms\tremaining: 219ms\n",
      "672:\tlearn: 33.2486282\ttotal: 450ms\tremaining: 219ms\n",
      "673:\tlearn: 33.2302888\ttotal: 451ms\tremaining: 218ms\n",
      "674:\tlearn: 33.0558859\ttotal: 451ms\tremaining: 217ms\n",
      "675:\tlearn: 32.9700344\ttotal: 452ms\tremaining: 217ms\n",
      "676:\tlearn: 32.8501642\ttotal: 452ms\tremaining: 216ms\n",
      "677:\tlearn: 32.7340426\ttotal: 453ms\tremaining: 215ms\n",
      "678:\tlearn: 32.7121017\ttotal: 454ms\tremaining: 214ms\n",
      "679:\tlearn: 32.6200569\ttotal: 454ms\tremaining: 214ms\n",
      "680:\tlearn: 32.5052371\ttotal: 455ms\tremaining: 213ms\n",
      "681:\tlearn: 32.3916969\ttotal: 456ms\tremaining: 212ms\n",
      "682:\tlearn: 32.2925704\ttotal: 456ms\tremaining: 212ms\n",
      "683:\tlearn: 32.1901836\ttotal: 457ms\tremaining: 211ms\n",
      "684:\tlearn: 32.1810795\ttotal: 457ms\tremaining: 210ms\n",
      "685:\tlearn: 32.0538798\ttotal: 458ms\tremaining: 210ms\n",
      "686:\tlearn: 31.9695880\ttotal: 459ms\tremaining: 209ms\n",
      "687:\tlearn: 31.8186240\ttotal: 459ms\tremaining: 208ms\n",
      "688:\tlearn: 31.7717776\ttotal: 460ms\tremaining: 208ms\n",
      "689:\tlearn: 31.6271069\ttotal: 460ms\tremaining: 207ms\n",
      "690:\tlearn: 31.4257754\ttotal: 461ms\tremaining: 206ms\n",
      "691:\tlearn: 31.3158018\ttotal: 462ms\tremaining: 205ms\n",
      "692:\tlearn: 31.2062456\ttotal: 462ms\tremaining: 205ms\n",
      "693:\tlearn: 31.1002943\ttotal: 463ms\tremaining: 204ms\n",
      "694:\tlearn: 31.0204694\ttotal: 464ms\tremaining: 203ms\n",
      "695:\tlearn: 30.8638326\ttotal: 464ms\tremaining: 203ms\n",
      "696:\tlearn: 30.8558418\ttotal: 465ms\tremaining: 202ms\n",
      "697:\tlearn: 30.7168233\ttotal: 465ms\tremaining: 201ms\n",
      "698:\tlearn: 30.6741149\ttotal: 466ms\tremaining: 201ms\n",
      "699:\tlearn: 30.5633505\ttotal: 467ms\tremaining: 200ms\n",
      "700:\tlearn: 30.3980151\ttotal: 467ms\tremaining: 199ms\n",
      "701:\tlearn: 30.3868882\ttotal: 468ms\tremaining: 199ms\n",
      "702:\tlearn: 30.3095110\ttotal: 468ms\tremaining: 198ms\n",
      "703:\tlearn: 30.2001626\ttotal: 469ms\tremaining: 197ms\n",
      "704:\tlearn: 30.1086639\ttotal: 470ms\tremaining: 197ms\n",
      "705:\tlearn: 30.0062050\ttotal: 470ms\tremaining: 196ms\n",
      "706:\tlearn: 29.9366332\ttotal: 471ms\tremaining: 195ms\n",
      "707:\tlearn: 29.8514157\ttotal: 472ms\tremaining: 195ms\n",
      "708:\tlearn: 29.8410197\ttotal: 472ms\tremaining: 194ms\n",
      "709:\tlearn: 29.7691296\ttotal: 473ms\tremaining: 193ms\n",
      "710:\tlearn: 29.6347315\ttotal: 474ms\tremaining: 193ms\n",
      "711:\tlearn: 29.5690771\ttotal: 474ms\tremaining: 192ms\n",
      "712:\tlearn: 29.4717613\ttotal: 475ms\tremaining: 191ms\n",
      "713:\tlearn: 29.3453955\ttotal: 476ms\tremaining: 191ms\n",
      "714:\tlearn: 29.3183996\ttotal: 476ms\tremaining: 190ms\n",
      "715:\tlearn: 29.2357029\ttotal: 477ms\tremaining: 189ms\n",
      "716:\tlearn: 29.1493484\ttotal: 477ms\tremaining: 188ms\n",
      "717:\tlearn: 29.1412750\ttotal: 478ms\tremaining: 188ms\n",
      "718:\tlearn: 29.0633640\ttotal: 478ms\tremaining: 187ms\n",
      "719:\tlearn: 29.0063752\ttotal: 479ms\tremaining: 186ms\n",
      "720:\tlearn: 28.8895697\ttotal: 480ms\tremaining: 186ms\n",
      "721:\tlearn: 28.8127439\ttotal: 481ms\tremaining: 185ms\n",
      "722:\tlearn: 28.7979935\ttotal: 481ms\tremaining: 184ms\n",
      "723:\tlearn: 28.7730564\ttotal: 482ms\tremaining: 184ms\n",
      "724:\tlearn: 28.6841951\ttotal: 483ms\tremaining: 183ms\n",
      "725:\tlearn: 28.6192690\ttotal: 484ms\tremaining: 183ms\n",
      "726:\tlearn: 28.5382100\ttotal: 485ms\tremaining: 182ms\n",
      "727:\tlearn: 28.4124604\ttotal: 485ms\tremaining: 181ms\n",
      "728:\tlearn: 28.3992354\ttotal: 486ms\tremaining: 181ms\n",
      "729:\tlearn: 28.2458739\ttotal: 487ms\tremaining: 180ms\n",
      "730:\tlearn: 28.1698858\ttotal: 487ms\tremaining: 179ms\n",
      "731:\tlearn: 28.0857240\ttotal: 488ms\tremaining: 179ms\n",
      "732:\tlearn: 28.0631865\ttotal: 489ms\tremaining: 178ms\n",
      "733:\tlearn: 27.9617138\ttotal: 490ms\tremaining: 177ms\n",
      "734:\tlearn: 27.9296040\ttotal: 490ms\tremaining: 177ms\n",
      "735:\tlearn: 27.8714544\ttotal: 491ms\tremaining: 176ms\n",
      "736:\tlearn: 27.8468105\ttotal: 491ms\tremaining: 175ms\n",
      "737:\tlearn: 27.7605180\ttotal: 492ms\tremaining: 175ms\n",
      "738:\tlearn: 27.6731250\ttotal: 493ms\tremaining: 174ms\n",
      "739:\tlearn: 27.6662586\ttotal: 493ms\tremaining: 173ms\n",
      "740:\tlearn: 27.6319100\ttotal: 494ms\tremaining: 173ms\n",
      "741:\tlearn: 27.5465757\ttotal: 494ms\tremaining: 172ms\n",
      "742:\tlearn: 27.4710735\ttotal: 495ms\tremaining: 171ms\n",
      "743:\tlearn: 27.4510659\ttotal: 496ms\tremaining: 171ms\n",
      "744:\tlearn: 27.3748617\ttotal: 496ms\tremaining: 170ms\n",
      "745:\tlearn: 27.3633452\ttotal: 497ms\tremaining: 169ms\n",
      "746:\tlearn: 27.2959571\ttotal: 498ms\tremaining: 169ms\n",
      "747:\tlearn: 27.1315947\ttotal: 499ms\tremaining: 168ms\n",
      "748:\tlearn: 27.0550248\ttotal: 499ms\tremaining: 167ms\n",
      "749:\tlearn: 27.0373435\ttotal: 500ms\tremaining: 167ms\n",
      "750:\tlearn: 26.9726665\ttotal: 501ms\tremaining: 166ms\n",
      "751:\tlearn: 26.9145554\ttotal: 501ms\tremaining: 165ms\n",
      "752:\tlearn: 26.8976495\ttotal: 502ms\tremaining: 165ms\n",
      "753:\tlearn: 26.8013163\ttotal: 503ms\tremaining: 164ms\n",
      "754:\tlearn: 26.7203712\ttotal: 503ms\tremaining: 163ms\n",
      "755:\tlearn: 26.5829005\ttotal: 504ms\tremaining: 163ms\n",
      "756:\tlearn: 26.4324310\ttotal: 505ms\tremaining: 162ms\n",
      "757:\tlearn: 26.2890218\ttotal: 506ms\tremaining: 161ms\n",
      "758:\tlearn: 26.1965245\ttotal: 506ms\tremaining: 161ms\n",
      "759:\tlearn: 26.1810870\ttotal: 507ms\tremaining: 160ms\n",
      "760:\tlearn: 26.1187072\ttotal: 508ms\tremaining: 159ms\n",
      "761:\tlearn: 26.0637705\ttotal: 508ms\tremaining: 159ms\n",
      "762:\tlearn: 25.9562461\ttotal: 509ms\tremaining: 158ms\n",
      "763:\tlearn: 25.8386943\ttotal: 510ms\tremaining: 157ms\n",
      "764:\tlearn: 25.7790725\ttotal: 511ms\tremaining: 157ms\n",
      "765:\tlearn: 25.6701106\ttotal: 511ms\tremaining: 156ms\n",
      "766:\tlearn: 25.6362119\ttotal: 512ms\tremaining: 156ms\n",
      "767:\tlearn: 25.6252040\ttotal: 513ms\tremaining: 155ms\n",
      "768:\tlearn: 25.5249470\ttotal: 513ms\tremaining: 154ms\n",
      "769:\tlearn: 25.4610308\ttotal: 514ms\tremaining: 154ms\n",
      "770:\tlearn: 25.3338917\ttotal: 514ms\tremaining: 153ms\n",
      "771:\tlearn: 25.2081591\ttotal: 515ms\tremaining: 152ms\n",
      "772:\tlearn: 25.1976317\ttotal: 516ms\tremaining: 151ms\n",
      "773:\tlearn: 25.1309682\ttotal: 516ms\tremaining: 151ms\n",
      "774:\tlearn: 25.0198547\ttotal: 517ms\tremaining: 150ms\n",
      "775:\tlearn: 24.9490229\ttotal: 518ms\tremaining: 149ms\n",
      "776:\tlearn: 24.9028200\ttotal: 519ms\tremaining: 149ms\n",
      "777:\tlearn: 24.8337886\ttotal: 519ms\tremaining: 148ms\n",
      "778:\tlearn: 24.7433955\ttotal: 520ms\tremaining: 147ms\n",
      "779:\tlearn: 24.6167855\ttotal: 520ms\tremaining: 147ms\n",
      "780:\tlearn: 24.5516424\ttotal: 521ms\tremaining: 146ms\n",
      "781:\tlearn: 24.3925316\ttotal: 522ms\tremaining: 145ms\n",
      "782:\tlearn: 24.3473598\ttotal: 522ms\tremaining: 145ms\n",
      "783:\tlearn: 24.2382596\ttotal: 523ms\tremaining: 144ms\n",
      "784:\tlearn: 24.1741117\ttotal: 524ms\tremaining: 143ms\n",
      "785:\tlearn: 24.1282632\ttotal: 524ms\tremaining: 143ms\n",
      "786:\tlearn: 24.1150038\ttotal: 525ms\tremaining: 142ms\n",
      "787:\tlearn: 24.0552315\ttotal: 526ms\tremaining: 141ms\n",
      "788:\tlearn: 24.0020307\ttotal: 526ms\tremaining: 141ms\n",
      "789:\tlearn: 23.9582172\ttotal: 527ms\tremaining: 140ms\n",
      "790:\tlearn: 23.9466945\ttotal: 527ms\tremaining: 139ms\n",
      "791:\tlearn: 23.9012494\ttotal: 528ms\tremaining: 139ms\n",
      "792:\tlearn: 23.8902062\ttotal: 529ms\tremaining: 138ms\n",
      "793:\tlearn: 23.8375677\ttotal: 529ms\tremaining: 137ms\n",
      "794:\tlearn: 23.8275049\ttotal: 530ms\tremaining: 137ms\n",
      "795:\tlearn: 23.7639978\ttotal: 531ms\tremaining: 136ms\n",
      "796:\tlearn: 23.7210385\ttotal: 531ms\tremaining: 135ms\n",
      "797:\tlearn: 23.7118867\ttotal: 532ms\tremaining: 135ms\n",
      "798:\tlearn: 23.6210770\ttotal: 532ms\tremaining: 134ms\n",
      "799:\tlearn: 23.5667973\ttotal: 533ms\tremaining: 133ms\n",
      "800:\tlearn: 23.5093551\ttotal: 534ms\tremaining: 133ms\n",
      "801:\tlearn: 23.4248240\ttotal: 534ms\tremaining: 132ms\n",
      "802:\tlearn: 23.3851975\ttotal: 535ms\tremaining: 131ms\n",
      "803:\tlearn: 23.2576151\ttotal: 535ms\tremaining: 131ms\n",
      "804:\tlearn: 23.1403284\ttotal: 536ms\tremaining: 130ms\n",
      "805:\tlearn: 23.0861220\ttotal: 537ms\tremaining: 129ms\n",
      "806:\tlearn: 23.0179965\ttotal: 537ms\tremaining: 129ms\n",
      "807:\tlearn: 22.9499510\ttotal: 538ms\tremaining: 128ms\n",
      "808:\tlearn: 22.9093322\ttotal: 539ms\tremaining: 127ms\n",
      "809:\tlearn: 22.8749288\ttotal: 539ms\tremaining: 126ms\n",
      "810:\tlearn: 22.8082947\ttotal: 540ms\tremaining: 126ms\n",
      "811:\tlearn: 22.7734708\ttotal: 540ms\tremaining: 125ms\n",
      "812:\tlearn: 22.6526692\ttotal: 541ms\tremaining: 124ms\n",
      "813:\tlearn: 22.5530242\ttotal: 542ms\tremaining: 124ms\n",
      "814:\tlearn: 22.4717488\ttotal: 542ms\tremaining: 123ms\n",
      "815:\tlearn: 22.4620780\ttotal: 543ms\tremaining: 122ms\n",
      "816:\tlearn: 22.4023061\ttotal: 543ms\tremaining: 122ms\n",
      "817:\tlearn: 22.3578971\ttotal: 544ms\tremaining: 121ms\n",
      "818:\tlearn: 22.3087689\ttotal: 545ms\tremaining: 120ms\n",
      "819:\tlearn: 22.3046658\ttotal: 545ms\tremaining: 120ms\n",
      "820:\tlearn: 22.2330663\ttotal: 546ms\tremaining: 119ms\n",
      "821:\tlearn: 22.1591095\ttotal: 546ms\tremaining: 118ms\n",
      "822:\tlearn: 22.1550239\ttotal: 547ms\tremaining: 118ms\n",
      "823:\tlearn: 22.1463899\ttotal: 547ms\tremaining: 117ms\n",
      "824:\tlearn: 22.1315815\ttotal: 548ms\tremaining: 116ms\n",
      "825:\tlearn: 22.0652590\ttotal: 548ms\tremaining: 116ms\n",
      "826:\tlearn: 22.0221121\ttotal: 549ms\tremaining: 115ms\n",
      "827:\tlearn: 21.9774501\ttotal: 550ms\tremaining: 114ms\n",
      "828:\tlearn: 21.9395292\ttotal: 550ms\tremaining: 114ms\n",
      "829:\tlearn: 21.8508549\ttotal: 551ms\tremaining: 113ms\n",
      "830:\tlearn: 21.8190935\ttotal: 552ms\tremaining: 112ms\n",
      "831:\tlearn: 21.8109670\ttotal: 552ms\tremaining: 111ms\n",
      "832:\tlearn: 21.7578310\ttotal: 553ms\tremaining: 111ms\n",
      "833:\tlearn: 21.6862934\ttotal: 553ms\tremaining: 110ms\n",
      "834:\tlearn: 21.6036840\ttotal: 554ms\tremaining: 109ms\n",
      "835:\tlearn: 21.5099448\ttotal: 555ms\tremaining: 109ms\n",
      "836:\tlearn: 21.4677400\ttotal: 555ms\tremaining: 108ms\n",
      "837:\tlearn: 21.4091690\ttotal: 556ms\tremaining: 107ms\n",
      "838:\tlearn: 21.3466938\ttotal: 556ms\tremaining: 107ms\n",
      "839:\tlearn: 21.2298144\ttotal: 557ms\tremaining: 106ms\n",
      "840:\tlearn: 21.1270373\ttotal: 558ms\tremaining: 105ms\n",
      "841:\tlearn: 21.0373314\ttotal: 558ms\tremaining: 105ms\n",
      "842:\tlearn: 20.9835159\ttotal: 559ms\tremaining: 104ms\n",
      "843:\tlearn: 20.8484600\ttotal: 560ms\tremaining: 103ms\n",
      "844:\tlearn: 20.7891557\ttotal: 560ms\tremaining: 103ms\n",
      "845:\tlearn: 20.7291399\ttotal: 561ms\tremaining: 102ms\n",
      "846:\tlearn: 20.6849494\ttotal: 562ms\tremaining: 101ms\n",
      "847:\tlearn: 20.6154963\ttotal: 562ms\tremaining: 101ms\n",
      "848:\tlearn: 20.5405276\ttotal: 563ms\tremaining: 100ms\n",
      "849:\tlearn: 20.5016669\ttotal: 563ms\tremaining: 99.4ms\n",
      "850:\tlearn: 20.4700003\ttotal: 564ms\tremaining: 98.8ms\n",
      "851:\tlearn: 20.4163286\ttotal: 565ms\tremaining: 98.1ms\n",
      "852:\tlearn: 20.3832418\ttotal: 565ms\tremaining: 97.4ms\n",
      "853:\tlearn: 20.3012184\ttotal: 566ms\tremaining: 96.7ms\n",
      "854:\tlearn: 20.2920333\ttotal: 566ms\tremaining: 96.1ms\n",
      "855:\tlearn: 20.2053869\ttotal: 567ms\tremaining: 95.4ms\n",
      "856:\tlearn: 20.1658977\ttotal: 568ms\tremaining: 94.7ms\n",
      "857:\tlearn: 20.1100216\ttotal: 568ms\tremaining: 94.1ms\n",
      "858:\tlearn: 20.0083729\ttotal: 569ms\tremaining: 93.4ms\n",
      "859:\tlearn: 19.9455311\ttotal: 570ms\tremaining: 92.7ms\n",
      "860:\tlearn: 19.8796059\ttotal: 570ms\tremaining: 92ms\n",
      "861:\tlearn: 19.8565398\ttotal: 571ms\tremaining: 91.4ms\n",
      "862:\tlearn: 19.7320152\ttotal: 571ms\tremaining: 90.7ms\n",
      "863:\tlearn: 19.6553629\ttotal: 572ms\tremaining: 90ms\n",
      "864:\tlearn: 19.5653904\ttotal: 573ms\tremaining: 89.4ms\n",
      "865:\tlearn: 19.5044019\ttotal: 573ms\tremaining: 88.7ms\n",
      "866:\tlearn: 19.4952821\ttotal: 574ms\tremaining: 88ms\n",
      "867:\tlearn: 19.4417196\ttotal: 575ms\tremaining: 87.4ms\n",
      "868:\tlearn: 19.3928280\ttotal: 575ms\tremaining: 86.7ms\n",
      "869:\tlearn: 19.3310543\ttotal: 576ms\tremaining: 86ms\n",
      "870:\tlearn: 19.2860856\ttotal: 576ms\tremaining: 85.4ms\n",
      "871:\tlearn: 19.1689820\ttotal: 577ms\tremaining: 84.7ms\n",
      "872:\tlearn: 19.0656586\ttotal: 578ms\tremaining: 84ms\n",
      "873:\tlearn: 19.0585347\ttotal: 578ms\tremaining: 83.4ms\n",
      "874:\tlearn: 19.0124418\ttotal: 579ms\tremaining: 82.7ms\n",
      "875:\tlearn: 18.9798186\ttotal: 579ms\tremaining: 82ms\n",
      "876:\tlearn: 18.8896499\ttotal: 580ms\tremaining: 81.4ms\n",
      "877:\tlearn: 18.8379639\ttotal: 581ms\tremaining: 80.7ms\n",
      "878:\tlearn: 18.8312106\ttotal: 581ms\tremaining: 80ms\n",
      "879:\tlearn: 18.7718969\ttotal: 582ms\tremaining: 79.4ms\n",
      "880:\tlearn: 18.7453473\ttotal: 583ms\tremaining: 78.7ms\n",
      "881:\tlearn: 18.6851317\ttotal: 583ms\tremaining: 78ms\n",
      "882:\tlearn: 18.5988650\ttotal: 584ms\tremaining: 77.4ms\n",
      "883:\tlearn: 18.5525116\ttotal: 584ms\tremaining: 76.7ms\n",
      "884:\tlearn: 18.4964362\ttotal: 585ms\tremaining: 76ms\n",
      "885:\tlearn: 18.4542378\ttotal: 586ms\tremaining: 75.4ms\n",
      "886:\tlearn: 18.4053368\ttotal: 586ms\tremaining: 74.7ms\n",
      "887:\tlearn: 18.3676513\ttotal: 587ms\tremaining: 74ms\n",
      "888:\tlearn: 18.3048839\ttotal: 587ms\tremaining: 73.4ms\n",
      "889:\tlearn: 18.2501678\ttotal: 588ms\tremaining: 72.7ms\n",
      "890:\tlearn: 18.2421410\ttotal: 589ms\tremaining: 72ms\n",
      "891:\tlearn: 18.1820355\ttotal: 589ms\tremaining: 71.4ms\n",
      "892:\tlearn: 18.1045997\ttotal: 590ms\tremaining: 70.7ms\n",
      "893:\tlearn: 18.0516539\ttotal: 591ms\tremaining: 70ms\n",
      "894:\tlearn: 17.9507407\ttotal: 591ms\tremaining: 69.4ms\n",
      "895:\tlearn: 17.8656394\ttotal: 592ms\tremaining: 68.7ms\n",
      "896:\tlearn: 17.8130004\ttotal: 592ms\tremaining: 68ms\n",
      "897:\tlearn: 17.8056685\ttotal: 593ms\tremaining: 67.4ms\n",
      "898:\tlearn: 17.7479301\ttotal: 594ms\tremaining: 66.7ms\n",
      "899:\tlearn: 17.6628775\ttotal: 594ms\tremaining: 66ms\n",
      "900:\tlearn: 17.6036263\ttotal: 595ms\tremaining: 65.4ms\n",
      "901:\tlearn: 17.5548725\ttotal: 596ms\tremaining: 64.7ms\n",
      "902:\tlearn: 17.5112982\ttotal: 596ms\tremaining: 64ms\n",
      "903:\tlearn: 17.4337097\ttotal: 597ms\tremaining: 63.4ms\n",
      "904:\tlearn: 17.3438812\ttotal: 597ms\tremaining: 62.7ms\n",
      "905:\tlearn: 17.2978952\ttotal: 598ms\tremaining: 62.1ms\n",
      "906:\tlearn: 17.2705120\ttotal: 599ms\tremaining: 61.4ms\n",
      "907:\tlearn: 17.2197843\ttotal: 600ms\tremaining: 60.7ms\n",
      "908:\tlearn: 17.1672918\ttotal: 600ms\tremaining: 60.1ms\n",
      "909:\tlearn: 17.0962813\ttotal: 601ms\tremaining: 59.4ms\n",
      "910:\tlearn: 17.0367884\ttotal: 602ms\tremaining: 58.8ms\n",
      "911:\tlearn: 16.9995434\ttotal: 602ms\tremaining: 58.1ms\n",
      "912:\tlearn: 16.9503108\ttotal: 603ms\tremaining: 57.4ms\n",
      "913:\tlearn: 16.8634821\ttotal: 603ms\tremaining: 56.8ms\n",
      "914:\tlearn: 16.8562342\ttotal: 604ms\tremaining: 56.1ms\n",
      "915:\tlearn: 16.8266675\ttotal: 605ms\tremaining: 55.5ms\n",
      "916:\tlearn: 16.8202756\ttotal: 605ms\tremaining: 54.8ms\n",
      "917:\tlearn: 16.8140117\ttotal: 606ms\tremaining: 54.1ms\n",
      "918:\tlearn: 16.7657793\ttotal: 607ms\tremaining: 53.5ms\n",
      "919:\tlearn: 16.7455489\ttotal: 607ms\tremaining: 52.8ms\n",
      "920:\tlearn: 16.7350234\ttotal: 608ms\tremaining: 52.1ms\n",
      "921:\tlearn: 16.6764784\ttotal: 608ms\tremaining: 51.5ms\n",
      "922:\tlearn: 16.6413683\ttotal: 609ms\tremaining: 50.8ms\n",
      "923:\tlearn: 16.6313216\ttotal: 610ms\tremaining: 50.1ms\n",
      "924:\tlearn: 16.5737890\ttotal: 610ms\tremaining: 49.5ms\n",
      "925:\tlearn: 16.5612564\ttotal: 611ms\tremaining: 48.8ms\n",
      "926:\tlearn: 16.5194103\ttotal: 612ms\tremaining: 48.2ms\n",
      "927:\tlearn: 16.4774875\ttotal: 612ms\tremaining: 47.5ms\n",
      "928:\tlearn: 16.4716862\ttotal: 613ms\tremaining: 46.8ms\n",
      "929:\tlearn: 16.4373752\ttotal: 613ms\tremaining: 46.2ms\n",
      "930:\tlearn: 16.4285377\ttotal: 614ms\tremaining: 45.5ms\n",
      "931:\tlearn: 16.3673869\ttotal: 615ms\tremaining: 44.8ms\n",
      "932:\tlearn: 16.3185470\ttotal: 615ms\tremaining: 44.2ms\n",
      "933:\tlearn: 16.2631467\ttotal: 616ms\tremaining: 43.5ms\n",
      "934:\tlearn: 16.1934975\ttotal: 617ms\tremaining: 42.9ms\n",
      "935:\tlearn: 16.1884481\ttotal: 617ms\tremaining: 42.2ms\n",
      "936:\tlearn: 16.1500024\ttotal: 618ms\tremaining: 41.5ms\n",
      "937:\tlearn: 16.1409804\ttotal: 618ms\tremaining: 40.9ms\n",
      "938:\tlearn: 16.0683587\ttotal: 619ms\tremaining: 40.2ms\n",
      "939:\tlearn: 15.9809030\ttotal: 620ms\tremaining: 39.5ms\n",
      "940:\tlearn: 15.8978202\ttotal: 620ms\tremaining: 38.9ms\n",
      "941:\tlearn: 15.8709900\ttotal: 621ms\tremaining: 38.2ms\n",
      "942:\tlearn: 15.8344018\ttotal: 622ms\tremaining: 37.6ms\n",
      "943:\tlearn: 15.8295482\ttotal: 622ms\tremaining: 36.9ms\n",
      "944:\tlearn: 15.7744973\ttotal: 623ms\tremaining: 36.2ms\n",
      "945:\tlearn: 15.7305450\ttotal: 623ms\tremaining: 35.6ms\n",
      "946:\tlearn: 15.6857434\ttotal: 624ms\tremaining: 34.9ms\n",
      "947:\tlearn: 15.6591016\ttotal: 625ms\tremaining: 34.3ms\n",
      "948:\tlearn: 15.6314256\ttotal: 625ms\tremaining: 33.6ms\n",
      "949:\tlearn: 15.5788777\ttotal: 626ms\tremaining: 32.9ms\n",
      "950:\tlearn: 15.5325554\ttotal: 626ms\tremaining: 32.3ms\n",
      "951:\tlearn: 15.4890930\ttotal: 627ms\tremaining: 31.6ms\n",
      "952:\tlearn: 15.4263779\ttotal: 628ms\tremaining: 31ms\n",
      "953:\tlearn: 15.3892307\ttotal: 628ms\tremaining: 30.3ms\n",
      "954:\tlearn: 15.3531641\ttotal: 629ms\tremaining: 29.6ms\n",
      "955:\tlearn: 15.3172544\ttotal: 629ms\tremaining: 29ms\n",
      "956:\tlearn: 15.2722481\ttotal: 630ms\tremaining: 28.3ms\n",
      "957:\tlearn: 15.2509946\ttotal: 631ms\tremaining: 27.7ms\n",
      "958:\tlearn: 15.2106080\ttotal: 631ms\tremaining: 27ms\n",
      "959:\tlearn: 15.1550705\ttotal: 632ms\tremaining: 26.3ms\n",
      "960:\tlearn: 15.1198927\ttotal: 633ms\tremaining: 25.7ms\n",
      "961:\tlearn: 15.0521121\ttotal: 633ms\tremaining: 25ms\n",
      "962:\tlearn: 15.0138282\ttotal: 634ms\tremaining: 24.4ms\n",
      "963:\tlearn: 14.9511473\ttotal: 634ms\tremaining: 23.7ms\n",
      "964:\tlearn: 14.9013556\ttotal: 635ms\tremaining: 23ms\n",
      "965:\tlearn: 14.8491591\ttotal: 636ms\tremaining: 22.4ms\n",
      "966:\tlearn: 14.7846364\ttotal: 636ms\tremaining: 21.7ms\n",
      "967:\tlearn: 14.7378076\ttotal: 637ms\tremaining: 21.1ms\n",
      "968:\tlearn: 14.6963646\ttotal: 638ms\tremaining: 20.4ms\n",
      "969:\tlearn: 14.6368320\ttotal: 638ms\tremaining: 19.7ms\n",
      "970:\tlearn: 14.5641432\ttotal: 639ms\tremaining: 19.1ms\n",
      "971:\tlearn: 14.5009366\ttotal: 639ms\tremaining: 18.4ms\n",
      "972:\tlearn: 14.4934257\ttotal: 640ms\tremaining: 17.8ms\n",
      "973:\tlearn: 14.4521224\ttotal: 641ms\tremaining: 17.1ms\n",
      "974:\tlearn: 14.4111253\ttotal: 641ms\tremaining: 16.4ms\n",
      "975:\tlearn: 14.3698632\ttotal: 642ms\tremaining: 15.8ms\n",
      "976:\tlearn: 14.3591191\ttotal: 643ms\tremaining: 15.1ms\n",
      "977:\tlearn: 14.3269189\ttotal: 644ms\tremaining: 14.5ms\n",
      "978:\tlearn: 14.2789397\ttotal: 644ms\tremaining: 13.8ms\n",
      "979:\tlearn: 14.2216384\ttotal: 645ms\tremaining: 13.2ms\n",
      "980:\tlearn: 14.1751644\ttotal: 646ms\tremaining: 12.5ms\n",
      "981:\tlearn: 14.1256092\ttotal: 647ms\tremaining: 11.8ms\n",
      "982:\tlearn: 14.0731502\ttotal: 647ms\tremaining: 11.2ms\n",
      "983:\tlearn: 14.0117995\ttotal: 648ms\tremaining: 10.5ms\n",
      "984:\tlearn: 13.9841830\ttotal: 649ms\tremaining: 9.88ms\n",
      "985:\tlearn: 13.9230955\ttotal: 649ms\tremaining: 9.22ms\n",
      "986:\tlearn: 13.8746811\ttotal: 650ms\tremaining: 8.56ms\n",
      "987:\tlearn: 13.8092980\ttotal: 651ms\tremaining: 7.9ms\n",
      "988:\tlearn: 13.7921958\ttotal: 651ms\tremaining: 7.25ms\n",
      "989:\tlearn: 13.7424480\ttotal: 652ms\tremaining: 6.59ms\n",
      "990:\tlearn: 13.6967360\ttotal: 653ms\tremaining: 5.93ms\n",
      "991:\tlearn: 13.6709582\ttotal: 654ms\tremaining: 5.27ms\n",
      "992:\tlearn: 13.6094706\ttotal: 654ms\tremaining: 4.61ms\n",
      "993:\tlearn: 13.5641205\ttotal: 655ms\tremaining: 3.95ms\n",
      "994:\tlearn: 13.5192775\ttotal: 656ms\tremaining: 3.29ms\n",
      "995:\tlearn: 13.4902451\ttotal: 656ms\tremaining: 2.64ms\n",
      "996:\tlearn: 13.4806052\ttotal: 657ms\tremaining: 1.98ms\n",
      "997:\tlearn: 13.4282445\ttotal: 658ms\tremaining: 1.32ms\n",
      "998:\tlearn: 13.4020177\ttotal: 658ms\tremaining: 659us\n",
      "999:\tlearn: 13.3781902\ttotal: 659ms\tremaining: 0us\n"
     ]
    }
   ],
   "source": [
    "catb_model = CatBoostRegressor().fit(X_train,y_train)"
   ]
  },
  {
   "cell_type": "code",
   "execution_count": 81,
   "metadata": {},
   "outputs": [],
   "source": [
    "y_pred = catb_model.predict(X_test)"
   ]
  },
  {
   "cell_type": "code",
   "execution_count": 82,
   "metadata": {},
   "outputs": [
    {
     "data": {
      "text/plain": [
       "350.2683163098795"
      ]
     },
     "execution_count": 82,
     "metadata": {},
     "output_type": "execute_result"
    }
   ],
   "source": [
    "np.sqrt(mean_squared_error(y_test, y_pred))"
   ]
  },
  {
   "cell_type": "markdown",
   "metadata": {},
   "source": [
    "## Model Tuning"
   ]
  },
  {
   "cell_type": "code",
   "execution_count": 83,
   "metadata": {},
   "outputs": [],
   "source": [
    "catb_params = {\"iterations\": [200,500,100],\n",
    "               \"learning_rate\": [0.01,0.1],\n",
    "               \"depth\": [3,6,8]}"
   ]
  },
  {
   "cell_type": "code",
   "execution_count": 84,
   "metadata": {},
   "outputs": [],
   "source": [
    "catb_model = CatBoostRegressor()"
   ]
  },
  {
   "cell_type": "code",
   "execution_count": 85,
   "metadata": {
    "collapsed": true,
    "jupyter": {
     "outputs_hidden": true
    }
   },
   "outputs": [
    {
     "name": "stdout",
     "output_type": "stream",
     "text": [
      "Fitting 5 folds for each of 18 candidates, totalling 90 fits\n"
     ]
    },
    {
     "name": "stderr",
     "output_type": "stream",
     "text": [
      "[Parallel(n_jobs=-1)]: Using backend LokyBackend with 8 concurrent workers.\n",
      "[Parallel(n_jobs=-1)]: Done  25 tasks      | elapsed:    3.1s\n"
     ]
    },
    {
     "name": "stdout",
     "output_type": "stream",
     "text": [
      "0:\tlearn: 425.7900818\ttotal: 1.85ms\tremaining: 367ms\n",
      "1:\tlearn: 404.8723520\ttotal: 2.13ms\tremaining: 211ms\n",
      "2:\tlearn: 387.4057666\ttotal: 2.41ms\tremaining: 159ms\n",
      "3:\tlearn: 372.2801584\ttotal: 2.7ms\tremaining: 132ms\n",
      "4:\tlearn: 358.9204229\ttotal: 2.98ms\tremaining: 116ms\n",
      "5:\tlearn: 347.0083933\ttotal: 3.25ms\tremaining: 105ms\n",
      "6:\tlearn: 336.0130818\ttotal: 3.51ms\tremaining: 96.8ms\n",
      "7:\tlearn: 324.3923300\ttotal: 3.79ms\tremaining: 91ms\n",
      "8:\tlearn: 314.8690957\ttotal: 4.07ms\tremaining: 86.3ms\n",
      "9:\tlearn: 308.5075563\ttotal: 4.33ms\tremaining: 82.4ms\n",
      "10:\tlearn: 298.8587285\ttotal: 4.61ms\tremaining: 79.3ms\n",
      "11:\tlearn: 294.7655438\ttotal: 4.87ms\tremaining: 76.3ms\n",
      "12:\tlearn: 288.0697862\ttotal: 5.13ms\tremaining: 73.8ms\n",
      "13:\tlearn: 282.6697154\ttotal: 5.4ms\tremaining: 71.7ms\n",
      "14:\tlearn: 277.6121667\ttotal: 5.68ms\tremaining: 70ms\n",
      "15:\tlearn: 273.4383979\ttotal: 6.01ms\tremaining: 69.1ms\n",
      "16:\tlearn: 269.1556201\ttotal: 6.27ms\tremaining: 67.5ms\n",
      "17:\tlearn: 264.8098704\ttotal: 6.54ms\tremaining: 66.2ms\n",
      "18:\tlearn: 261.6700768\ttotal: 6.82ms\tremaining: 65ms\n",
      "19:\tlearn: 257.3961290\ttotal: 7.08ms\tremaining: 63.7ms\n",
      "20:\tlearn: 252.2691509\ttotal: 7.37ms\tremaining: 62.8ms\n",
      "21:\tlearn: 249.0686482\ttotal: 7.62ms\tremaining: 61.7ms\n",
      "22:\tlearn: 244.1881041\ttotal: 7.92ms\tremaining: 60.9ms\n",
      "23:\tlearn: 242.1696687\ttotal: 8.19ms\tremaining: 60.1ms\n",
      "24:\tlearn: 239.2131476\ttotal: 8.44ms\tremaining: 59.1ms\n",
      "25:\tlearn: 236.6883901\ttotal: 8.7ms\tremaining: 58.2ms\n",
      "26:\tlearn: 234.5295613\ttotal: 8.97ms\tremaining: 57.5ms\n",
      "27:\tlearn: 231.7788834\ttotal: 9.23ms\tremaining: 56.7ms\n",
      "28:\tlearn: 228.8020330\ttotal: 9.59ms\tremaining: 56.5ms\n",
      "29:\tlearn: 226.8420565\ttotal: 9.85ms\tremaining: 55.8ms\n",
      "30:\tlearn: 224.0686558\ttotal: 10.1ms\tremaining: 55.2ms\n",
      "31:\tlearn: 222.6644699\ttotal: 10.4ms\tremaining: 54.5ms\n",
      "32:\tlearn: 221.6889573\ttotal: 10.6ms\tremaining: 53.9ms\n",
      "33:\tlearn: 220.5171653\ttotal: 11.1ms\tremaining: 54.1ms\n",
      "34:\tlearn: 217.7686033\ttotal: 11.3ms\tremaining: 53.5ms\n",
      "35:\tlearn: 214.8462789\ttotal: 11.6ms\tremaining: 52.9ms\n",
      "36:\tlearn: 214.4799251\ttotal: 11.9ms\tremaining: 52.3ms\n",
      "37:\tlearn: 212.3480429\ttotal: 12.1ms\tremaining: 51.7ms\n",
      "38:\tlearn: 210.0040644\ttotal: 12.4ms\tremaining: 51ms\n",
      "39:\tlearn: 208.3086913\ttotal: 12.7ms\tremaining: 50.9ms\n",
      "40:\tlearn: 207.5469119\ttotal: 13ms\tremaining: 50.3ms\n",
      "41:\tlearn: 205.9351113\ttotal: 13.2ms\tremaining: 49.8ms\n",
      "42:\tlearn: 205.3580824\ttotal: 13.5ms\tremaining: 49.2ms\n",
      "43:\tlearn: 204.6204266\ttotal: 13.7ms\tremaining: 48.7ms\n",
      "44:\tlearn: 202.5023220\ttotal: 14ms\tremaining: 48.2ms\n",
      "45:\tlearn: 201.4347853\ttotal: 14.3ms\tremaining: 47.7ms\n",
      "46:\tlearn: 200.8752553\ttotal: 14.5ms\tremaining: 47.3ms\n",
      "47:\tlearn: 200.4047344\ttotal: 14.8ms\tremaining: 47ms\n",
      "48:\tlearn: 197.5433004\ttotal: 15.1ms\tremaining: 46.5ms\n",
      "49:\tlearn: 194.6943292\ttotal: 15.4ms\tremaining: 46.3ms\n",
      "50:\tlearn: 194.3011982\ttotal: 15.7ms\tremaining: 45.9ms\n",
      "51:\tlearn: 193.4011843\ttotal: 16.1ms\tremaining: 45.9ms\n",
      "52:\tlearn: 193.0109753\ttotal: 16.4ms\tremaining: 45.4ms\n",
      "53:\tlearn: 192.6071142\ttotal: 16.8ms\tremaining: 45.4ms\n",
      "54:\tlearn: 191.9666153\ttotal: 17.1ms\tremaining: 45ms\n",
      "55:\tlearn: 191.5789727\ttotal: 17.4ms\tremaining: 44.6ms\n",
      "56:\tlearn: 190.7186284\ttotal: 17.6ms\tremaining: 44.2ms\n",
      "57:\tlearn: 190.4543087\ttotal: 17.9ms\tremaining: 43.8ms\n",
      "58:\tlearn: 190.1336317\ttotal: 18.1ms\tremaining: 43.4ms\n",
      "59:\tlearn: 188.2286484\ttotal: 18.4ms\tremaining: 42.9ms\n",
      "60:\tlearn: 187.7652417\ttotal: 18.6ms\tremaining: 42.5ms\n",
      "61:\tlearn: 187.4227950\ttotal: 18.9ms\tremaining: 42.1ms\n",
      "62:\tlearn: 186.9289182\ttotal: 19.2ms\tremaining: 41.7ms\n",
      "63:\tlearn: 185.2993487\ttotal: 19.4ms\tremaining: 41.3ms\n",
      "64:\tlearn: 185.0349598\ttotal: 19.7ms\tremaining: 40.9ms\n",
      "65:\tlearn: 183.9773430\ttotal: 19.9ms\tremaining: 40.4ms\n",
      "66:\tlearn: 183.4463166\ttotal: 20.3ms\tremaining: 40.3ms\n",
      "67:\tlearn: 181.6627740\ttotal: 20.5ms\tremaining: 39.9ms\n",
      "68:\tlearn: 179.8785055\ttotal: 20.8ms\tremaining: 39.5ms\n",
      "69:\tlearn: 179.6737527\ttotal: 21.1ms\tremaining: 39.1ms\n",
      "70:\tlearn: 177.0830981\ttotal: 21.3ms\tremaining: 38.8ms\n",
      "71:\tlearn: 176.5917790\ttotal: 21.6ms\tremaining: 38.4ms\n",
      "72:\tlearn: 176.1240502\ttotal: 21.9ms\tremaining: 38ms\n",
      "73:\tlearn: 174.4828953\ttotal: 22.1ms\tremaining: 37.6ms\n",
      "74:\tlearn: 173.4220482\ttotal: 22.4ms\tremaining: 37.3ms\n",
      "75:\tlearn: 171.9903405\ttotal: 22.7ms\tremaining: 37ms\n",
      "76:\tlearn: 171.5803116\ttotal: 23ms\tremaining: 36.7ms\n",
      "77:\tlearn: 170.1411594\ttotal: 23.3ms\tremaining: 36.4ms\n",
      "78:\tlearn: 167.9868133\ttotal: 23.5ms\tremaining: 36.1ms\n",
      "79:\tlearn: 166.5304475\ttotal: 23.8ms\tremaining: 35.8ms\n",
      "80:\tlearn: 166.1741622\ttotal: 24.1ms\tremaining: 35.4ms\n",
      "81:\tlearn: 165.8411762\ttotal: 24.4ms\tremaining: 35.1ms\n",
      "82:\tlearn: 165.1041583\ttotal: 24.6ms\tremaining: 34.7ms\n",
      "83:\tlearn: 163.5641543\ttotal: 24.9ms\tremaining: 34.4ms\n",
      "84:\tlearn: 163.2003311\ttotal: 25.2ms\tremaining: 34ms\n",
      "85:\tlearn: 161.1781702\ttotal: 25.4ms\tremaining: 33.7ms\n",
      "86:\tlearn: 160.8727658\ttotal: 25.7ms\tremaining: 33.4ms\n",
      "87:\tlearn: 159.7954077\ttotal: 25.9ms\tremaining: 33ms\n",
      "88:\tlearn: 158.8759132\ttotal: 26.2ms\tremaining: 32.7ms\n",
      "89:\tlearn: 158.4831323\ttotal: 26.5ms\tremaining: 32.4ms\n",
      "90:\tlearn: 157.4808127\ttotal: 26.7ms\tremaining: 32ms\n",
      "91:\tlearn: 157.1703230\ttotal: 27ms\tremaining: 31.7ms\n",
      "92:\tlearn: 155.3184755\ttotal: 27.2ms\tremaining: 31.3ms\n",
      "93:\tlearn: 154.3988879\ttotal: 27.5ms\tremaining: 31ms\n",
      "94:\tlearn: 153.4591935\ttotal: 27.8ms\tremaining: 30.7ms\n",
      "95:\tlearn: 153.1206893\ttotal: 28ms\tremaining: 30.4ms\n",
      "96:\tlearn: 152.7897351\ttotal: 28.3ms\tremaining: 30.1ms\n",
      "97:\tlearn: 150.9293164\ttotal: 28.6ms\tremaining: 29.8ms\n",
      "98:\tlearn: 149.7127171\ttotal: 28.8ms\tremaining: 29.4ms\n",
      "99:\tlearn: 149.5089324\ttotal: 29.1ms\tremaining: 29.1ms\n",
      "100:\tlearn: 149.3156312\ttotal: 29.4ms\tremaining: 28.8ms\n",
      "101:\tlearn: 147.7226718\ttotal: 29.6ms\tremaining: 28.4ms\n",
      "102:\tlearn: 146.7692282\ttotal: 29.9ms\tremaining: 28.1ms\n",
      "103:\tlearn: 145.9084983\ttotal: 30.1ms\tremaining: 27.8ms\n",
      "104:\tlearn: 144.8780979\ttotal: 30.5ms\tremaining: 27.6ms\n",
      "105:\tlearn: 143.8090268\ttotal: 30.8ms\tremaining: 27.3ms\n",
      "106:\tlearn: 143.1272551\ttotal: 31.1ms\tremaining: 27ms\n",
      "107:\tlearn: 142.4863018\ttotal: 31.3ms\tremaining: 26.7ms\n",
      "108:\tlearn: 141.4861279\ttotal: 31.6ms\tremaining: 26.3ms\n",
      "109:\tlearn: 140.8689530\ttotal: 31.8ms\tremaining: 26ms\n",
      "110:\tlearn: 140.4009570\ttotal: 32.1ms\tremaining: 25.7ms\n",
      "111:\tlearn: 140.0344439\ttotal: 32.3ms\tremaining: 25.4ms\n",
      "112:\tlearn: 139.4290096\ttotal: 32.6ms\tremaining: 25.1ms\n",
      "113:\tlearn: 139.2008874\ttotal: 32.9ms\tremaining: 24.8ms\n",
      "114:\tlearn: 138.6000188\ttotal: 33.1ms\tremaining: 24.5ms\n",
      "115:\tlearn: 138.3962706\ttotal: 33.4ms\tremaining: 24.2ms\n",
      "116:\tlearn: 138.1737256\ttotal: 33.6ms\tremaining: 23.8ms\n",
      "117:\tlearn: 137.6342361\ttotal: 33.9ms\tremaining: 23.5ms\n",
      "118:\tlearn: 136.7119826\ttotal: 34.1ms\tremaining: 23.2ms\n",
      "119:\tlearn: 135.3057402\ttotal: 34.4ms\tremaining: 22.9ms\n",
      "120:\tlearn: 134.4797815\ttotal: 34.7ms\tremaining: 22.6ms\n",
      "121:\tlearn: 133.0774331\ttotal: 34.9ms\tremaining: 22.3ms\n",
      "122:\tlearn: 131.8739238\ttotal: 35.2ms\tremaining: 22ms\n",
      "123:\tlearn: 131.3203837\ttotal: 35.6ms\tremaining: 21.8ms\n",
      "124:\tlearn: 130.8294604\ttotal: 35.8ms\tremaining: 21.5ms\n",
      "125:\tlearn: 130.6107905\ttotal: 36.1ms\tremaining: 21.2ms\n",
      "126:\tlearn: 130.1614924\ttotal: 36.3ms\tremaining: 20.9ms\n",
      "127:\tlearn: 129.3166972\ttotal: 36.6ms\tremaining: 20.6ms\n",
      "128:\tlearn: 129.1038672\ttotal: 36.9ms\tremaining: 20.3ms\n",
      "129:\tlearn: 128.9594874\ttotal: 37.1ms\tremaining: 20ms\n",
      "130:\tlearn: 128.1849638\ttotal: 37.4ms\tremaining: 19.7ms\n",
      "131:\tlearn: 128.0307033\ttotal: 37.9ms\tremaining: 19.5ms\n",
      "132:\tlearn: 127.3373882\ttotal: 38.1ms\tremaining: 19.2ms\n",
      "133:\tlearn: 126.2856989\ttotal: 38.4ms\tremaining: 18.9ms\n",
      "134:\tlearn: 126.1379832\ttotal: 38.7ms\tremaining: 18.6ms\n",
      "135:\tlearn: 126.0180019\ttotal: 38.9ms\tremaining: 18.3ms\n",
      "136:\tlearn: 125.8843963\ttotal: 39.2ms\tremaining: 18ms\n",
      "137:\tlearn: 125.7576333\ttotal: 39.4ms\tremaining: 17.7ms\n",
      "138:\tlearn: 125.4794581\ttotal: 39.7ms\tremaining: 17.4ms\n",
      "139:\tlearn: 124.7920270\ttotal: 39.9ms\tremaining: 17.1ms\n",
      "140:\tlearn: 124.6530278\ttotal: 40.2ms\tremaining: 16.8ms\n",
      "141:\tlearn: 123.4539010\ttotal: 40.4ms\tremaining: 16.5ms\n",
      "142:\tlearn: 122.8980001\ttotal: 40.7ms\tremaining: 16.2ms\n",
      "143:\tlearn: 122.0911177\ttotal: 41ms\tremaining: 15.9ms\n",
      "144:\tlearn: 121.1209154\ttotal: 41.3ms\tremaining: 15.6ms\n",
      "145:\tlearn: 120.1613553\ttotal: 41.5ms\tremaining: 15.4ms\n",
      "146:\tlearn: 119.1894727\ttotal: 42ms\tremaining: 15.1ms\n",
      "147:\tlearn: 118.0325732\ttotal: 42.2ms\tremaining: 14.8ms\n",
      "148:\tlearn: 117.9138240\ttotal: 42.5ms\tremaining: 14.5ms\n",
      "149:\tlearn: 117.3831462\ttotal: 42.7ms\tremaining: 14.2ms\n",
      "150:\tlearn: 116.8475244\ttotal: 43ms\tremaining: 13.9ms\n",
      "151:\tlearn: 116.3821954\ttotal: 43.2ms\tremaining: 13.7ms\n",
      "152:\tlearn: 115.5293176\ttotal: 43.5ms\tremaining: 13.4ms\n",
      "153:\tlearn: 115.0975175\ttotal: 43.8ms\tremaining: 13.1ms\n",
      "154:\tlearn: 114.0649594\ttotal: 44ms\tremaining: 12.8ms\n",
      "155:\tlearn: 113.2562326\ttotal: 44.3ms\tremaining: 12.5ms\n",
      "156:\tlearn: 112.7557871\ttotal: 44.5ms\tremaining: 12.2ms\n",
      "157:\tlearn: 112.5657565\ttotal: 44.8ms\tremaining: 11.9ms\n",
      "158:\tlearn: 112.3541525\ttotal: 45.1ms\tremaining: 11.6ms\n",
      "159:\tlearn: 111.8527982\ttotal: 45.3ms\tremaining: 11.3ms\n",
      "160:\tlearn: 111.1619644\ttotal: 45.6ms\tremaining: 11ms\n",
      "161:\tlearn: 110.3588257\ttotal: 45.8ms\tremaining: 10.8ms\n",
      "162:\tlearn: 109.6664293\ttotal: 46.1ms\tremaining: 10.5ms\n",
      "163:\tlearn: 109.5577303\ttotal: 46.4ms\tremaining: 10.2ms\n",
      "164:\tlearn: 109.0570285\ttotal: 46.6ms\tremaining: 9.89ms\n",
      "165:\tlearn: 108.7601467\ttotal: 46.9ms\tremaining: 9.6ms\n",
      "166:\tlearn: 108.0448620\ttotal: 47.1ms\tremaining: 9.31ms\n",
      "167:\tlearn: 107.5593372\ttotal: 47.3ms\tremaining: 9.02ms\n",
      "168:\tlearn: 106.3862999\ttotal: 47.6ms\tremaining: 8.73ms\n",
      "169:\tlearn: 106.2180807\ttotal: 47.9ms\tremaining: 8.45ms\n",
      "170:\tlearn: 106.0695603\ttotal: 48.1ms\tremaining: 8.16ms\n",
      "171:\tlearn: 105.6940213\ttotal: 48.4ms\tremaining: 7.88ms\n",
      "172:\tlearn: 104.7598987\ttotal: 48.7ms\tremaining: 7.59ms\n",
      "173:\tlearn: 104.6589992\ttotal: 48.9ms\tremaining: 7.31ms\n",
      "174:\tlearn: 103.7203657\ttotal: 49.2ms\tremaining: 7.03ms\n",
      "175:\tlearn: 103.2660987\ttotal: 49.5ms\tremaining: 6.75ms\n",
      "176:\tlearn: 103.0926213\ttotal: 49.7ms\tremaining: 6.46ms\n",
      "177:\tlearn: 102.6925209\ttotal: 50.2ms\tremaining: 6.2ms\n",
      "178:\tlearn: 102.1655154\ttotal: 50.4ms\tremaining: 5.92ms\n",
      "179:\tlearn: 101.8273108\ttotal: 50.7ms\tremaining: 5.63ms\n",
      "180:\tlearn: 101.7264515\ttotal: 50.9ms\tremaining: 5.34ms\n",
      "181:\tlearn: 101.1102333\ttotal: 51.5ms\tremaining: 5.09ms\n",
      "182:\tlearn: 100.7880364\ttotal: 52ms\tremaining: 4.83ms\n",
      "183:\tlearn: 100.6673014\ttotal: 52.2ms\tremaining: 4.54ms\n",
      "184:\tlearn: 100.0153055\ttotal: 52.5ms\tremaining: 4.26ms\n",
      "185:\tlearn: 99.7667281\ttotal: 52.8ms\tremaining: 3.98ms\n",
      "186:\tlearn: 99.1860593\ttotal: 53.1ms\tremaining: 3.69ms\n",
      "187:\tlearn: 99.0408133\ttotal: 53.3ms\tremaining: 3.4ms\n",
      "188:\tlearn: 98.9030718\ttotal: 53.6ms\tremaining: 3.12ms\n",
      "189:\tlearn: 97.4513860\ttotal: 53.8ms\tremaining: 2.83ms\n",
      "190:\tlearn: 97.3322959\ttotal: 54.1ms\tremaining: 2.55ms\n",
      "191:\tlearn: 97.1950848\ttotal: 54.4ms\tremaining: 2.26ms\n",
      "192:\tlearn: 96.6789532\ttotal: 54.6ms\tremaining: 1.98ms\n",
      "193:\tlearn: 96.5506179\ttotal: 54.9ms\tremaining: 1.7ms\n",
      "194:\tlearn: 95.6635039\ttotal: 55.2ms\tremaining: 1.42ms\n",
      "195:\tlearn: 94.8850777\ttotal: 55.5ms\tremaining: 1.13ms\n",
      "196:\tlearn: 94.1624589\ttotal: 55.7ms\tremaining: 848us\n",
      "197:\tlearn: 93.8220662\ttotal: 56ms\tremaining: 566us\n",
      "198:\tlearn: 93.7300351\ttotal: 56.3ms\tremaining: 282us\n",
      "199:\tlearn: 93.3339522\ttotal: 56.5ms\tremaining: 0us\n"
     ]
    },
    {
     "name": "stderr",
     "output_type": "stream",
     "text": [
      "[Parallel(n_jobs=-1)]: Done  90 out of  90 | elapsed:   23.6s finished\n"
     ]
    }
   ],
   "source": [
    "catb_cv_model = GridSearchCV(catb_model,\n",
    "                             catb_params,\n",
    "                             cv = 5,\n",
    "                             n_jobs = -1,\n",
    "                             verbose = 2).fit(X_train,y_train)"
   ]
  },
  {
   "cell_type": "code",
   "execution_count": 86,
   "metadata": {},
   "outputs": [
    {
     "data": {
      "text/plain": [
       "{'depth': 3, 'iterations': 200, 'learning_rate': 0.1}"
      ]
     },
     "execution_count": 86,
     "metadata": {},
     "output_type": "execute_result"
    }
   ],
   "source": [
    "catb_cv_model.best_params_"
   ]
  },
  {
   "cell_type": "code",
   "execution_count": 87,
   "metadata": {
    "collapsed": true,
    "jupyter": {
     "outputs_hidden": true
    }
   },
   "outputs": [
    {
     "name": "stdout",
     "output_type": "stream",
     "text": [
      "0:\tlearn: 425.7900818\ttotal: 758us\tremaining: 151ms\n",
      "1:\tlearn: 404.8723520\ttotal: 1.18ms\tremaining: 117ms\n",
      "2:\tlearn: 387.4057666\ttotal: 1.49ms\tremaining: 97.8ms\n",
      "3:\tlearn: 372.2801584\ttotal: 1.81ms\tremaining: 88.5ms\n",
      "4:\tlearn: 358.9204229\ttotal: 2.16ms\tremaining: 84.4ms\n",
      "5:\tlearn: 347.0083933\ttotal: 2.52ms\tremaining: 81.5ms\n",
      "6:\tlearn: 336.0130818\ttotal: 2.84ms\tremaining: 78.3ms\n",
      "7:\tlearn: 324.3923300\ttotal: 3.16ms\tremaining: 75.9ms\n",
      "8:\tlearn: 314.8690957\ttotal: 3.48ms\tremaining: 73.8ms\n",
      "9:\tlearn: 308.5075563\ttotal: 3.8ms\tremaining: 72.2ms\n",
      "10:\tlearn: 298.8587285\ttotal: 4.12ms\tremaining: 70.8ms\n",
      "11:\tlearn: 294.7655438\ttotal: 4.43ms\tremaining: 69.5ms\n",
      "12:\tlearn: 288.0697862\ttotal: 4.74ms\tremaining: 68.1ms\n",
      "13:\tlearn: 282.6697154\ttotal: 5.03ms\tremaining: 66.9ms\n",
      "14:\tlearn: 277.6121667\ttotal: 5.35ms\tremaining: 66ms\n",
      "15:\tlearn: 273.4383979\ttotal: 5.67ms\tremaining: 65.2ms\n",
      "16:\tlearn: 269.1556201\ttotal: 5.98ms\tremaining: 64.4ms\n",
      "17:\tlearn: 264.8098704\ttotal: 6.29ms\tremaining: 63.7ms\n",
      "18:\tlearn: 261.6700768\ttotal: 6.61ms\tremaining: 63ms\n",
      "19:\tlearn: 257.3961290\ttotal: 6.92ms\tremaining: 62.3ms\n",
      "20:\tlearn: 252.2691509\ttotal: 7.36ms\tremaining: 62.7ms\n",
      "21:\tlearn: 249.0686482\ttotal: 7.67ms\tremaining: 62.1ms\n",
      "22:\tlearn: 244.1881041\ttotal: 7.99ms\tremaining: 61.5ms\n",
      "23:\tlearn: 242.1696687\ttotal: 8.31ms\tremaining: 60.9ms\n",
      "24:\tlearn: 239.2131476\ttotal: 8.62ms\tremaining: 60.3ms\n",
      "25:\tlearn: 236.6883901\ttotal: 8.94ms\tremaining: 59.8ms\n",
      "26:\tlearn: 234.5295613\ttotal: 9.25ms\tremaining: 59.3ms\n",
      "27:\tlearn: 231.7788834\ttotal: 9.57ms\tremaining: 58.8ms\n",
      "28:\tlearn: 228.8020330\ttotal: 9.89ms\tremaining: 58.3ms\n",
      "29:\tlearn: 226.8420565\ttotal: 10.2ms\tremaining: 57.9ms\n",
      "30:\tlearn: 224.0686558\ttotal: 10.5ms\tremaining: 57.4ms\n",
      "31:\tlearn: 222.6644699\ttotal: 10.9ms\tremaining: 57.2ms\n",
      "32:\tlearn: 221.6889573\ttotal: 11.3ms\tremaining: 57.1ms\n",
      "33:\tlearn: 220.5171653\ttotal: 11.6ms\tremaining: 56.6ms\n",
      "34:\tlearn: 217.7686033\ttotal: 11.9ms\tremaining: 56.2ms\n",
      "35:\tlearn: 214.8462789\ttotal: 12.2ms\tremaining: 55.8ms\n",
      "36:\tlearn: 214.4799251\ttotal: 12.6ms\tremaining: 55.3ms\n",
      "37:\tlearn: 212.3480429\ttotal: 12.9ms\tremaining: 54.9ms\n",
      "38:\tlearn: 210.0040644\ttotal: 13.2ms\tremaining: 54.5ms\n",
      "39:\tlearn: 208.3086913\ttotal: 13.5ms\tremaining: 54.1ms\n",
      "40:\tlearn: 207.5469119\ttotal: 13.9ms\tremaining: 54ms\n",
      "41:\tlearn: 205.9351113\ttotal: 14.2ms\tremaining: 53.6ms\n",
      "42:\tlearn: 205.3580824\ttotal: 14.5ms\tremaining: 53.1ms\n",
      "43:\tlearn: 204.6204266\ttotal: 14.9ms\tremaining: 52.7ms\n",
      "44:\tlearn: 202.5023220\ttotal: 15.2ms\tremaining: 52.3ms\n",
      "45:\tlearn: 201.4347853\ttotal: 15.5ms\tremaining: 51.9ms\n",
      "46:\tlearn: 200.8752553\ttotal: 15.8ms\tremaining: 51.4ms\n",
      "47:\tlearn: 200.4047344\ttotal: 16.1ms\tremaining: 51ms\n",
      "48:\tlearn: 197.5433004\ttotal: 16.4ms\tremaining: 50.7ms\n",
      "49:\tlearn: 194.6943292\ttotal: 16.9ms\tremaining: 50.7ms\n",
      "50:\tlearn: 194.3011982\ttotal: 17.3ms\tremaining: 50.4ms\n",
      "51:\tlearn: 193.4011843\ttotal: 17.6ms\tremaining: 50ms\n",
      "52:\tlearn: 193.0109753\ttotal: 17.9ms\tremaining: 49.6ms\n",
      "53:\tlearn: 192.6071142\ttotal: 18.2ms\tremaining: 49.1ms\n",
      "54:\tlearn: 191.9666153\ttotal: 18.5ms\tremaining: 48.7ms\n",
      "55:\tlearn: 191.5789727\ttotal: 18.7ms\tremaining: 48.1ms\n",
      "56:\tlearn: 190.7186284\ttotal: 18.9ms\tremaining: 47.5ms\n",
      "57:\tlearn: 190.4543087\ttotal: 19.2ms\tremaining: 46.9ms\n",
      "58:\tlearn: 190.1336317\ttotal: 19.4ms\tremaining: 46.5ms\n",
      "59:\tlearn: 188.2286484\ttotal: 19.7ms\tremaining: 45.9ms\n",
      "60:\tlearn: 187.7652417\ttotal: 19.9ms\tremaining: 45.4ms\n",
      "61:\tlearn: 187.4227950\ttotal: 20.2ms\tremaining: 44.9ms\n",
      "62:\tlearn: 186.9289182\ttotal: 20.4ms\tremaining: 44.4ms\n",
      "63:\tlearn: 185.2993487\ttotal: 20.6ms\tremaining: 43.8ms\n",
      "64:\tlearn: 185.0349598\ttotal: 20.9ms\tremaining: 43.4ms\n",
      "65:\tlearn: 183.9773430\ttotal: 21.2ms\tremaining: 43ms\n",
      "66:\tlearn: 183.4463166\ttotal: 21.4ms\tremaining: 42.5ms\n",
      "67:\tlearn: 181.6627740\ttotal: 21.6ms\tremaining: 42ms\n",
      "68:\tlearn: 179.8785055\ttotal: 23.9ms\tremaining: 45.4ms\n",
      "69:\tlearn: 179.6737527\ttotal: 24.3ms\tremaining: 45.1ms\n",
      "70:\tlearn: 177.0830981\ttotal: 24.6ms\tremaining: 44.6ms\n",
      "71:\tlearn: 176.5917790\ttotal: 24.9ms\tremaining: 44.2ms\n",
      "72:\tlearn: 176.1240502\ttotal: 25.2ms\tremaining: 43.8ms\n",
      "73:\tlearn: 174.4828953\ttotal: 25.5ms\tremaining: 43.4ms\n",
      "74:\tlearn: 173.4220482\ttotal: 25.8ms\tremaining: 42.9ms\n",
      "75:\tlearn: 171.9903405\ttotal: 26ms\tremaining: 42.5ms\n",
      "76:\tlearn: 171.5803116\ttotal: 26.4ms\tremaining: 42.1ms\n",
      "77:\tlearn: 170.1411594\ttotal: 26.6ms\tremaining: 41.7ms\n",
      "78:\tlearn: 167.9868133\ttotal: 27ms\tremaining: 41.4ms\n",
      "79:\tlearn: 166.5304475\ttotal: 27.5ms\tremaining: 41.2ms\n",
      "80:\tlearn: 166.1741622\ttotal: 28.2ms\tremaining: 41.4ms\n",
      "81:\tlearn: 165.8411762\ttotal: 28.5ms\tremaining: 41.1ms\n",
      "82:\tlearn: 165.1041583\ttotal: 28.8ms\tremaining: 40.7ms\n",
      "83:\tlearn: 163.5641543\ttotal: 29.2ms\tremaining: 40.3ms\n",
      "84:\tlearn: 163.2003311\ttotal: 29.5ms\tremaining: 39.9ms\n",
      "85:\tlearn: 161.1781702\ttotal: 29.8ms\tremaining: 39.5ms\n",
      "86:\tlearn: 160.8727658\ttotal: 30.1ms\tremaining: 39.1ms\n",
      "87:\tlearn: 159.7954077\ttotal: 30.4ms\tremaining: 38.7ms\n",
      "88:\tlearn: 158.8759132\ttotal: 30.7ms\tremaining: 38.3ms\n",
      "89:\tlearn: 158.4831323\ttotal: 31ms\tremaining: 37.9ms\n",
      "90:\tlearn: 157.4808127\ttotal: 31.3ms\tremaining: 37.5ms\n",
      "91:\tlearn: 157.1703230\ttotal: 31.6ms\tremaining: 37.1ms\n",
      "92:\tlearn: 155.3184755\ttotal: 31.9ms\tremaining: 36.8ms\n",
      "93:\tlearn: 154.3988879\ttotal: 32.3ms\tremaining: 36.4ms\n",
      "94:\tlearn: 153.4591935\ttotal: 32.6ms\tremaining: 36.1ms\n",
      "95:\tlearn: 153.1206893\ttotal: 33.1ms\tremaining: 35.9ms\n",
      "96:\tlearn: 152.7897351\ttotal: 33.4ms\tremaining: 35.5ms\n",
      "97:\tlearn: 150.9293164\ttotal: 33.7ms\tremaining: 35.1ms\n",
      "98:\tlearn: 149.7127171\ttotal: 34.1ms\tremaining: 34.8ms\n",
      "99:\tlearn: 149.5089324\ttotal: 34.4ms\tremaining: 34.4ms\n",
      "100:\tlearn: 149.3156312\ttotal: 34.8ms\tremaining: 34.1ms\n",
      "101:\tlearn: 147.7226718\ttotal: 35.1ms\tremaining: 33.7ms\n",
      "102:\tlearn: 146.7692282\ttotal: 35.4ms\tremaining: 33.4ms\n",
      "103:\tlearn: 145.9084983\ttotal: 35.7ms\tremaining: 33ms\n",
      "104:\tlearn: 144.8780979\ttotal: 36.1ms\tremaining: 32.6ms\n",
      "105:\tlearn: 143.8090268\ttotal: 36.4ms\tremaining: 32.3ms\n",
      "106:\tlearn: 143.1272551\ttotal: 36.7ms\tremaining: 31.9ms\n",
      "107:\tlearn: 142.4863018\ttotal: 37ms\tremaining: 31.5ms\n",
      "108:\tlearn: 141.4861279\ttotal: 37.3ms\tremaining: 31.2ms\n",
      "109:\tlearn: 140.8689530\ttotal: 37.6ms\tremaining: 30.8ms\n",
      "110:\tlearn: 140.4009570\ttotal: 38ms\tremaining: 30.4ms\n",
      "111:\tlearn: 140.0344439\ttotal: 38.3ms\tremaining: 30.1ms\n",
      "112:\tlearn: 139.4290096\ttotal: 38.6ms\tremaining: 29.7ms\n",
      "113:\tlearn: 139.2008874\ttotal: 38.9ms\tremaining: 29.4ms\n",
      "114:\tlearn: 138.6000188\ttotal: 39.2ms\tremaining: 29ms\n",
      "115:\tlearn: 138.3962706\ttotal: 39.5ms\tremaining: 28.6ms\n",
      "116:\tlearn: 138.1737256\ttotal: 39.8ms\tremaining: 28.3ms\n",
      "117:\tlearn: 137.6342361\ttotal: 40.2ms\tremaining: 27.9ms\n",
      "118:\tlearn: 136.7119826\ttotal: 40.5ms\tremaining: 27.5ms\n",
      "119:\tlearn: 135.3057402\ttotal: 40.8ms\tremaining: 27.2ms\n",
      "120:\tlearn: 134.4797815\ttotal: 41.1ms\tremaining: 26.8ms\n",
      "121:\tlearn: 133.0774331\ttotal: 41.4ms\tremaining: 26.5ms\n",
      "122:\tlearn: 131.8739238\ttotal: 41.7ms\tremaining: 26.1ms\n",
      "123:\tlearn: 131.3203837\ttotal: 42ms\tremaining: 25.7ms\n",
      "124:\tlearn: 130.8294604\ttotal: 42.4ms\tremaining: 25.4ms\n",
      "125:\tlearn: 130.6107905\ttotal: 42.7ms\tremaining: 25.1ms\n",
      "126:\tlearn: 130.1614924\ttotal: 43ms\tremaining: 24.7ms\n",
      "127:\tlearn: 129.3166972\ttotal: 43.3ms\tremaining: 24.4ms\n",
      "128:\tlearn: 129.1038672\ttotal: 43.6ms\tremaining: 24ms\n",
      "129:\tlearn: 128.9594874\ttotal: 43.9ms\tremaining: 23.6ms\n",
      "130:\tlearn: 128.1849638\ttotal: 44.2ms\tremaining: 23.3ms\n",
      "131:\tlearn: 128.0307033\ttotal: 44.5ms\tremaining: 22.9ms\n",
      "132:\tlearn: 127.3373882\ttotal: 44.8ms\tremaining: 22.6ms\n",
      "133:\tlearn: 126.2856989\ttotal: 45.1ms\tremaining: 22.2ms\n",
      "134:\tlearn: 126.1379832\ttotal: 45.4ms\tremaining: 21.9ms\n",
      "135:\tlearn: 126.0180019\ttotal: 45.7ms\tremaining: 21.5ms\n",
      "136:\tlearn: 125.8843963\ttotal: 46ms\tremaining: 21.1ms\n",
      "137:\tlearn: 125.7576333\ttotal: 46.3ms\tremaining: 20.8ms\n",
      "138:\tlearn: 125.4794581\ttotal: 46.5ms\tremaining: 20.4ms\n",
      "139:\tlearn: 124.7920270\ttotal: 46.9ms\tremaining: 20.1ms\n",
      "140:\tlearn: 124.6530278\ttotal: 47.2ms\tremaining: 19.7ms\n",
      "141:\tlearn: 123.4539010\ttotal: 47.5ms\tremaining: 19.4ms\n",
      "142:\tlearn: 122.8980001\ttotal: 47.8ms\tremaining: 19.1ms\n",
      "143:\tlearn: 122.0911177\ttotal: 48.1ms\tremaining: 18.7ms\n",
      "144:\tlearn: 121.1209154\ttotal: 48.4ms\tremaining: 18.4ms\n",
      "145:\tlearn: 120.1613553\ttotal: 48.7ms\tremaining: 18ms\n",
      "146:\tlearn: 119.1894727\ttotal: 49ms\tremaining: 17.7ms\n",
      "147:\tlearn: 118.0325732\ttotal: 49.3ms\tremaining: 17.3ms\n",
      "148:\tlearn: 117.9138240\ttotal: 49.8ms\tremaining: 17.1ms\n",
      "149:\tlearn: 117.3831462\ttotal: 50.2ms\tremaining: 16.7ms\n",
      "150:\tlearn: 116.8475244\ttotal: 50.5ms\tremaining: 16.4ms\n",
      "151:\tlearn: 116.3821954\ttotal: 50.8ms\tremaining: 16ms\n",
      "152:\tlearn: 115.5293176\ttotal: 51.1ms\tremaining: 15.7ms\n",
      "153:\tlearn: 115.0975175\ttotal: 51.4ms\tremaining: 15.3ms\n",
      "154:\tlearn: 114.0649594\ttotal: 51.7ms\tremaining: 15ms\n",
      "155:\tlearn: 113.2562326\ttotal: 52ms\tremaining: 14.7ms\n",
      "156:\tlearn: 112.7557871\ttotal: 52.3ms\tremaining: 14.3ms\n",
      "157:\tlearn: 112.5657565\ttotal: 52.6ms\tremaining: 14ms\n",
      "158:\tlearn: 112.3541525\ttotal: 52.9ms\tremaining: 13.6ms\n",
      "159:\tlearn: 111.8527982\ttotal: 53.2ms\tremaining: 13.3ms\n",
      "160:\tlearn: 111.1619644\ttotal: 53.5ms\tremaining: 13ms\n",
      "161:\tlearn: 110.3588257\ttotal: 53.8ms\tremaining: 12.6ms\n",
      "162:\tlearn: 109.6664293\ttotal: 54.2ms\tremaining: 12.3ms\n",
      "163:\tlearn: 109.5577303\ttotal: 54.6ms\tremaining: 12ms\n",
      "164:\tlearn: 109.0570285\ttotal: 55.3ms\tremaining: 11.7ms\n",
      "165:\tlearn: 108.7601467\ttotal: 56.1ms\tremaining: 11.5ms\n",
      "166:\tlearn: 108.0448620\ttotal: 56.4ms\tremaining: 11.2ms\n",
      "167:\tlearn: 107.5593372\ttotal: 57ms\tremaining: 10.9ms\n",
      "168:\tlearn: 106.3862999\ttotal: 57.3ms\tremaining: 10.5ms\n",
      "169:\tlearn: 106.2180807\ttotal: 57.7ms\tremaining: 10.2ms\n",
      "170:\tlearn: 106.0695603\ttotal: 58.1ms\tremaining: 9.85ms\n",
      "171:\tlearn: 105.6940213\ttotal: 58.4ms\tremaining: 9.51ms\n",
      "172:\tlearn: 104.7598987\ttotal: 58.7ms\tremaining: 9.16ms\n",
      "173:\tlearn: 104.6589992\ttotal: 59ms\tremaining: 8.82ms\n",
      "174:\tlearn: 103.7203657\ttotal: 59.3ms\tremaining: 8.47ms\n",
      "175:\tlearn: 103.2660987\ttotal: 59.6ms\tremaining: 8.13ms\n",
      "176:\tlearn: 103.0926213\ttotal: 60ms\tremaining: 7.79ms\n",
      "177:\tlearn: 102.6925209\ttotal: 60.3ms\tremaining: 7.45ms\n",
      "178:\tlearn: 102.1655154\ttotal: 60.6ms\tremaining: 7.1ms\n",
      "179:\tlearn: 101.8273108\ttotal: 60.8ms\tremaining: 6.76ms\n",
      "180:\tlearn: 101.7264515\ttotal: 61.1ms\tremaining: 6.42ms\n",
      "181:\tlearn: 101.1102333\ttotal: 61.4ms\tremaining: 6.07ms\n",
      "182:\tlearn: 100.7880364\ttotal: 61.7ms\tremaining: 5.73ms\n",
      "183:\tlearn: 100.6673014\ttotal: 62ms\tremaining: 5.39ms\n",
      "184:\tlearn: 100.0153055\ttotal: 62.6ms\tremaining: 5.07ms\n",
      "185:\tlearn: 99.7667281\ttotal: 62.8ms\tremaining: 4.73ms\n",
      "186:\tlearn: 99.1860593\ttotal: 63.1ms\tremaining: 4.39ms\n",
      "187:\tlearn: 99.0408133\ttotal: 63.4ms\tremaining: 4.05ms\n",
      "188:\tlearn: 98.9030718\ttotal: 63.7ms\tremaining: 3.71ms\n",
      "189:\tlearn: 97.4513860\ttotal: 64ms\tremaining: 3.37ms\n",
      "190:\tlearn: 97.3322959\ttotal: 64.3ms\tremaining: 3.03ms\n",
      "191:\tlearn: 97.1950848\ttotal: 64.6ms\tremaining: 2.69ms\n",
      "192:\tlearn: 96.6789532\ttotal: 64.9ms\tremaining: 2.35ms\n",
      "193:\tlearn: 96.5506179\ttotal: 65.2ms\tremaining: 2.02ms\n",
      "194:\tlearn: 95.6635039\ttotal: 65.4ms\tremaining: 1.68ms\n",
      "195:\tlearn: 94.8850777\ttotal: 65.7ms\tremaining: 1.34ms\n",
      "196:\tlearn: 94.1624589\ttotal: 65.9ms\tremaining: 1ms\n",
      "197:\tlearn: 93.8220662\ttotal: 66.2ms\tremaining: 668us\n",
      "198:\tlearn: 93.7300351\ttotal: 66.5ms\tremaining: 334us\n",
      "199:\tlearn: 93.3339522\ttotal: 66.7ms\tremaining: 0us\n"
     ]
    }
   ],
   "source": [
    "catb_tuned = CatBoostRegressor(depth = 3,\n",
    "                           iterations = 200,\n",
    "                           learning_rate = 0.1).fit(X_train,y_train)"
   ]
  },
  {
   "cell_type": "code",
   "execution_count": 88,
   "metadata": {},
   "outputs": [],
   "source": [
    "y_pred = catb_tuned.predict(X_test)"
   ]
  },
  {
   "cell_type": "code",
   "execution_count": 89,
   "metadata": {},
   "outputs": [
    {
     "data": {
      "text/plain": [
       "344.3125832615482"
      ]
     },
     "execution_count": 89,
     "metadata": {},
     "output_type": "execute_result"
    }
   ],
   "source": [
    "np.sqrt(mean_squared_error(y_test, y_pred))"
   ]
  },
  {
   "cell_type": "markdown",
   "metadata": {},
   "source": [
    "# Makine Öğrenmesi Görevlerinin Otomatikleştirilmesi"
   ]
  },
  {
   "cell_type": "code",
   "execution_count": 7,
   "metadata": {},
   "outputs": [],
   "source": [
    "df = pd.read_csv(\"Hitters.csv\")\n",
    "df = df.dropna()\n",
    "dms = pd.get_dummies(df[['League', 'Division', 'NewLeague']])"
   ]
  },
  {
   "cell_type": "code",
   "execution_count": 22,
   "metadata": {},
   "outputs": [],
   "source": [
    "def compML(df, y, alg):\n",
    "    \n",
    "    #train test ayrimi\n",
    "    y = df[y]\n",
    "    X_ = df.drop(['Salary', 'League', 'Division', 'NewLeague'], axis = 1).astype('float64')\n",
    "    X = pd.concat([X_, dms[['League_N', 'Division_W', 'NewLeague_N']]], axis = 1)\n",
    "    X_train, X_test, y_train, y_test = train_test_split(X, y, test_size = 0.25, random_state = 42)\n",
    "    \n",
    "    #modelleme\n",
    "    model = alg().fit(X_train, y_train)\n",
    "    y_pred = model.predict(X_test)\n",
    "    RMSE = np.sqrt(mean_squared_error(y_test, y_pred))\n",
    "    model_ismi = alg.__name__\n",
    "    print(model_ismi, \"Modeli RMSE Degeri =\", RMSE)\n",
    "    return RMSE"
   ]
  },
  {
   "cell_type": "code",
   "execution_count": 23,
   "metadata": {},
   "outputs": [
    {
     "name": "stdout",
     "output_type": "stream",
     "text": [
      "SVR Modeli RMSE Degeri= 460.0032657244849\n"
     ]
    },
    {
     "data": {
      "text/plain": [
       "460.0032657244849"
      ]
     },
     "execution_count": 23,
     "metadata": {},
     "output_type": "execute_result"
    }
   ],
   "source": [
    "compML(df, \"Salary\", SVR)"
   ]
  },
  {
   "cell_type": "code",
   "execution_count": 24,
   "metadata": {},
   "outputs": [],
   "source": [
    "models = [LGBMRegressor,\n",
    "          XGBRegressor,\n",
    "          GradientBoostingRegressor,\n",
    "          RandomForestRegressor,\n",
    "          DecisionTreeRegressor,\n",
    "          MLPRegressor,\n",
    "          KNeighborsRegressor,\n",
    "          SVR]"
   ]
  },
  {
   "cell_type": "code",
   "execution_count": 26,
   "metadata": {},
   "outputs": [
    {
     "name": "stdout",
     "output_type": "stream",
     "text": [
      "LGBMRegressor Modeli RMSE Degeri= 363.8712087611089\n",
      "XGBRegressor Modeli RMSE Degeri= 355.4651481224188\n",
      "GradientBoostingRegressor Modeli RMSE Degeri= 353.41972063375573\n",
      "RandomForestRegressor Modeli RMSE Degeri= 339.89578492236416\n",
      "DecisionTreeRegressor Modeli RMSE Degeri= 477.7050962260592\n",
      "MLPRegressor Modeli RMSE Degeri= 450.3877695431363\n",
      "KNeighborsRegressor Modeli RMSE Degeri= 426.6570764525201\n",
      "SVR Modeli RMSE Degeri= 460.0032657244849\n"
     ]
    }
   ],
   "source": [
    "for i in models:\n",
    "    compML(df, \"Salary\", i)"
   ]
  }
 ],
 "metadata": {
  "kernelspec": {
   "display_name": "Python 3",
   "language": "python",
   "name": "python3"
  },
  "language_info": {
   "codemirror_mode": {
    "name": "ipython",
    "version": 3
   },
   "file_extension": ".py",
   "mimetype": "text/x-python",
   "name": "python",
   "nbconvert_exporter": "python",
   "pygments_lexer": "ipython3",
   "version": "3.7.6"
  }
 },
 "nbformat": 4,
 "nbformat_minor": 4
}
